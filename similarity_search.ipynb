{
 "cells": [
  {
   "cell_type": "code",
   "execution_count": 44,
   "metadata": {},
   "outputs": [],
   "source": [
    "from requests import get\n",
    "from bs4 import BeautifulSoup as bs\n",
    "import spotipy\n",
    "import config\n",
    "import spotipy\n",
    "import json\n",
    "from spotipy.oauth2 import SpotifyClientCredentials\n",
    "import pandas as pd\n",
    "import random\n",
    "import pickle"
   ]
  },
  {
   "cell_type": "code",
   "execution_count": 45,
   "metadata": {},
   "outputs": [],
   "source": [
    "sp = spotipy.Spotify(auth_manager=SpotifyClientCredentials(client_id= config.client_id,\n",
    "                                                           client_secret= config.client_secret))"
   ]
  },
  {
   "attachments": {},
   "cell_type": "markdown",
   "metadata": {},
   "source": [
    "# User input"
   ]
  },
  {
   "cell_type": "code",
   "execution_count": 81,
   "metadata": {},
   "outputs": [],
   "source": [
    "def user_input():\n",
    "    user_input = input('Please, enter the song name: ')\n",
    "    user_input = user_input.lower()\n",
    "    results = sp.search(q=user_input,limit=3,market=\"GB\")\n",
    "    return user_input, results"
   ]
  },
  {
   "cell_type": "code",
   "execution_count": 79,
   "metadata": {},
   "outputs": [],
   "source": [
    "def choose_song(results):\n",
    "    # function allow user to choose song of interest\n",
    "    #input, user will input song number\n",
    "    #output: song id\n",
    "    count=1\n",
    "    for item in results['tracks']['items']:\n",
    "        #print(item['name'])\n",
    "        song_name=item['name']\n",
    "        id=item['id']\n",
    "        artist= item['artists'][0]['name']\n",
    "        print(f\"{count}. Song title: {song_name} by: {artist}\")\n",
    "        count+=1\n",
    "        \n",
    "    song=input('choose song by entering 1, 2 or 3')\n",
    "    song_id=results['tracks']['items'][int(song)-1]['id']\n",
    "\n",
    "    return song_id\n"
   ]
  },
  {
   "attachments": {},
   "cell_type": "markdown",
   "metadata": {},
   "source": [
    "# Getting audio Features"
   ]
  },
  {
   "cell_type": "code",
   "execution_count": 63,
   "metadata": {},
   "outputs": [],
   "source": [
    "def load(filename = \"filename.pickle\"): \n",
    "\n",
    "    try: \n",
    "        with open(filename, \"rb\") as f: \n",
    "            return pickle.load(f) \n",
    "        \n",
    "    except FileNotFoundError: \n",
    "        print(\"File not found!\") \n"
   ]
  },
  {
   "cell_type": "code",
   "execution_count": 78,
   "metadata": {},
   "outputs": [],
   "source": [
    "def transforming_features(track_id):\n",
    "    au_features = sp.audio_features(track_id)\n",
    "    au_features\n",
    "\n",
    "    df_new_song=pd.DataFrame(au_features)    \n",
    "\n",
    "    df_new_song=df_new_song[[\"danceability\",\"energy\",\"key\",\"loudness\",\"mode\",\"speechiness\",\"acousticness\",\n",
    "    \"instrumentalness\",\"liveness\",\"valence\",\"tempo\",\"id\",\"duration_ms\"]]\n",
    "\n",
    "    #df_new_song\n",
    "# Loading the Stabdardscaler\n",
    "    df_for_scalling = df_new_song[['danceability', 'energy', 'key', 'loudness', 'mode', 'speechiness',   'acousticness', 'instrumentalness', 'liveness', 'valence', 'tempo']]\n",
    "    \n",
    "    kmeans_38 = load(\"Model/kmeans_38.pickle\")\n",
    "    scaled_new_song = kmeans_38.transform(df_for_scalling)\n",
    "    scaled_new_song\n",
    "    k_num=kmeans_38.predict(df_for_scalling)\n",
    "\n",
    "    return k_num\n",
    "    \n"
   ]
  },
  {
   "cell_type": "code",
   "execution_count": 58,
   "metadata": {},
   "outputs": [],
   "source": [
    "def random_song_selection(k_num):\n",
    "##Function: choose random selection of songs based on cluster of chosen song \n",
    "# input: k_number\n",
    "#output: selection of 5 songs\n",
    "# import df of songs, with cluster columns assigned\n",
    "#\n",
    "    df=pd.read_csv('library_cluster_15.csv', index_col=[0])\n",
    "    df_by_k=df.loc[df['cluster']==k_num[0]] \n",
    "    df_by_k_list=df_by_k['id'].to_list()\n",
    "    df_by_k_list=list(set(df_by_k_list))\n",
    "    #print(df_by_k_list)\n",
    "    #song_selection=random.sample(df_by_k_list, 5)\n",
    "    song_selection=random.choices(df_by_k_list, k=5,)\n",
    "    return song_selection"
   ]
  },
  {
   "cell_type": "code",
   "execution_count": 83,
   "metadata": {},
   "outputs": [
    {
     "name": "stdout",
     "output_type": "stream",
     "text": [
      "1. Song title: La foule by: Édith Piaf\n",
      "2. Song title: La Foule by: Édith Piaf\n",
      "3. Song title: La foule by: Youssoupha\n"
     ]
    },
    {
     "name": "stderr",
     "output_type": "stream",
     "text": [
      "c:\\Users\\user\\anaconda3\\lib\\site-packages\\sklearn\\base.py:443: UserWarning: X has feature names, but KMeans was fitted without feature names\n",
      "  warnings.warn(\n",
      "c:\\Users\\user\\anaconda3\\lib\\site-packages\\sklearn\\base.py:443: UserWarning: X has feature names, but KMeans was fitted without feature names\n",
      "  warnings.warn(\n"
     ]
    },
    {
     "ename": "IndexError",
     "evalue": "list index out of range",
     "output_type": "error",
     "traceback": [
      "\u001b[1;31m---------------------------------------------------------------------------\u001b[0m",
      "\u001b[1;31mIndexError\u001b[0m                                Traceback (most recent call last)",
      "\u001b[1;32m~\\AppData\\Local\\Temp\\ipykernel_16628\\1876750360.py\u001b[0m in \u001b[0;36m<module>\u001b[1;34m\u001b[0m\n\u001b[0;32m      2\u001b[0m \u001b[0mtrack_id\u001b[0m\u001b[1;33m=\u001b[0m\u001b[0mchoose_song\u001b[0m\u001b[1;33m(\u001b[0m\u001b[0mresults\u001b[0m\u001b[1;33m)\u001b[0m\u001b[1;33m\u001b[0m\u001b[1;33m\u001b[0m\u001b[0m\n\u001b[0;32m      3\u001b[0m \u001b[0mk_num\u001b[0m\u001b[1;33m=\u001b[0m\u001b[0mtransforming_features\u001b[0m\u001b[1;33m(\u001b[0m\u001b[0mtrack_id\u001b[0m\u001b[1;33m)\u001b[0m\u001b[1;33m\u001b[0m\u001b[1;33m\u001b[0m\u001b[0m\n\u001b[1;32m----> 4\u001b[1;33m \u001b[0msong_selection\u001b[0m\u001b[1;33m=\u001b[0m\u001b[0mrandom_song_selection\u001b[0m\u001b[1;33m(\u001b[0m\u001b[0mk_num\u001b[0m\u001b[1;33m)\u001b[0m\u001b[1;33m\u001b[0m\u001b[1;33m\u001b[0m\u001b[0m\n\u001b[0m\u001b[0;32m      5\u001b[0m \u001b[1;33m\u001b[0m\u001b[0m\n\u001b[0;32m      6\u001b[0m \u001b[1;32mfrom\u001b[0m \u001b[0mIPython\u001b[0m\u001b[1;33m.\u001b[0m\u001b[0mdisplay\u001b[0m \u001b[1;32mimport\u001b[0m \u001b[0mIFrame\u001b[0m\u001b[1;33m\u001b[0m\u001b[1;33m\u001b[0m\u001b[0m\n",
      "\u001b[1;32m~\\AppData\\Local\\Temp\\ipykernel_16628\\3695175596.py\u001b[0m in \u001b[0;36mrandom_song_selection\u001b[1;34m(k_num)\u001b[0m\n\u001b[0;32m     11\u001b[0m     \u001b[1;31m#print(df_by_k_list)\u001b[0m\u001b[1;33m\u001b[0m\u001b[1;33m\u001b[0m\u001b[0m\n\u001b[0;32m     12\u001b[0m     \u001b[1;31m#song_selection=random.sample(df_by_k_list, 5)\u001b[0m\u001b[1;33m\u001b[0m\u001b[1;33m\u001b[0m\u001b[0m\n\u001b[1;32m---> 13\u001b[1;33m     \u001b[0msong_selection\u001b[0m\u001b[1;33m=\u001b[0m\u001b[0mrandom\u001b[0m\u001b[1;33m.\u001b[0m\u001b[0mchoices\u001b[0m\u001b[1;33m(\u001b[0m\u001b[0mdf_by_k_list\u001b[0m\u001b[1;33m,\u001b[0m \u001b[0mk\u001b[0m\u001b[1;33m=\u001b[0m\u001b[1;36m5\u001b[0m\u001b[1;33m,\u001b[0m\u001b[1;33m)\u001b[0m\u001b[1;33m\u001b[0m\u001b[1;33m\u001b[0m\u001b[0m\n\u001b[0m\u001b[0;32m     14\u001b[0m     \u001b[1;32mreturn\u001b[0m \u001b[0msong_selection\u001b[0m\u001b[1;33m\u001b[0m\u001b[1;33m\u001b[0m\u001b[0m\n",
      "\u001b[1;32mc:\\Users\\user\\anaconda3\\lib\\random.py\u001b[0m in \u001b[0;36mchoices\u001b[1;34m(self, population, weights, cum_weights, k)\u001b[0m\n\u001b[0;32m    484\u001b[0m                 \u001b[0mfloor\u001b[0m \u001b[1;33m=\u001b[0m \u001b[0m_floor\u001b[0m\u001b[1;33m\u001b[0m\u001b[1;33m\u001b[0m\u001b[0m\n\u001b[0;32m    485\u001b[0m                 \u001b[0mn\u001b[0m \u001b[1;33m+=\u001b[0m \u001b[1;36m0.0\u001b[0m    \u001b[1;31m# convert to float for a small speed improvement\u001b[0m\u001b[1;33m\u001b[0m\u001b[1;33m\u001b[0m\u001b[0m\n\u001b[1;32m--> 486\u001b[1;33m                 \u001b[1;32mreturn\u001b[0m \u001b[1;33m[\u001b[0m\u001b[0mpopulation\u001b[0m\u001b[1;33m[\u001b[0m\u001b[0mfloor\u001b[0m\u001b[1;33m(\u001b[0m\u001b[0mrandom\u001b[0m\u001b[1;33m(\u001b[0m\u001b[1;33m)\u001b[0m \u001b[1;33m*\u001b[0m \u001b[0mn\u001b[0m\u001b[1;33m)\u001b[0m\u001b[1;33m]\u001b[0m \u001b[1;32mfor\u001b[0m \u001b[0mi\u001b[0m \u001b[1;32min\u001b[0m \u001b[0m_repeat\u001b[0m\u001b[1;33m(\u001b[0m\u001b[1;32mNone\u001b[0m\u001b[1;33m,\u001b[0m \u001b[0mk\u001b[0m\u001b[1;33m)\u001b[0m\u001b[1;33m]\u001b[0m\u001b[1;33m\u001b[0m\u001b[1;33m\u001b[0m\u001b[0m\n\u001b[0m\u001b[0;32m    487\u001b[0m             \u001b[1;32mtry\u001b[0m\u001b[1;33m:\u001b[0m\u001b[1;33m\u001b[0m\u001b[1;33m\u001b[0m\u001b[0m\n\u001b[0;32m    488\u001b[0m                 \u001b[0mcum_weights\u001b[0m \u001b[1;33m=\u001b[0m \u001b[0mlist\u001b[0m\u001b[1;33m(\u001b[0m\u001b[0m_accumulate\u001b[0m\u001b[1;33m(\u001b[0m\u001b[0mweights\u001b[0m\u001b[1;33m)\u001b[0m\u001b[1;33m)\u001b[0m\u001b[1;33m\u001b[0m\u001b[1;33m\u001b[0m\u001b[0m\n",
      "\u001b[1;32mc:\\Users\\user\\anaconda3\\lib\\random.py\u001b[0m in \u001b[0;36m<listcomp>\u001b[1;34m(.0)\u001b[0m\n\u001b[0;32m    484\u001b[0m                 \u001b[0mfloor\u001b[0m \u001b[1;33m=\u001b[0m \u001b[0m_floor\u001b[0m\u001b[1;33m\u001b[0m\u001b[1;33m\u001b[0m\u001b[0m\n\u001b[0;32m    485\u001b[0m                 \u001b[0mn\u001b[0m \u001b[1;33m+=\u001b[0m \u001b[1;36m0.0\u001b[0m    \u001b[1;31m# convert to float for a small speed improvement\u001b[0m\u001b[1;33m\u001b[0m\u001b[1;33m\u001b[0m\u001b[0m\n\u001b[1;32m--> 486\u001b[1;33m                 \u001b[1;32mreturn\u001b[0m \u001b[1;33m[\u001b[0m\u001b[0mpopulation\u001b[0m\u001b[1;33m[\u001b[0m\u001b[0mfloor\u001b[0m\u001b[1;33m(\u001b[0m\u001b[0mrandom\u001b[0m\u001b[1;33m(\u001b[0m\u001b[1;33m)\u001b[0m \u001b[1;33m*\u001b[0m \u001b[0mn\u001b[0m\u001b[1;33m)\u001b[0m\u001b[1;33m]\u001b[0m \u001b[1;32mfor\u001b[0m \u001b[0mi\u001b[0m \u001b[1;32min\u001b[0m \u001b[0m_repeat\u001b[0m\u001b[1;33m(\u001b[0m\u001b[1;32mNone\u001b[0m\u001b[1;33m,\u001b[0m \u001b[0mk\u001b[0m\u001b[1;33m)\u001b[0m\u001b[1;33m]\u001b[0m\u001b[1;33m\u001b[0m\u001b[1;33m\u001b[0m\u001b[0m\n\u001b[0m\u001b[0;32m    487\u001b[0m             \u001b[1;32mtry\u001b[0m\u001b[1;33m:\u001b[0m\u001b[1;33m\u001b[0m\u001b[1;33m\u001b[0m\u001b[0m\n\u001b[0;32m    488\u001b[0m                 \u001b[0mcum_weights\u001b[0m \u001b[1;33m=\u001b[0m \u001b[0mlist\u001b[0m\u001b[1;33m(\u001b[0m\u001b[0m_accumulate\u001b[0m\u001b[1;33m(\u001b[0m\u001b[0mweights\u001b[0m\u001b[1;33m)\u001b[0m\u001b[1;33m)\u001b[0m\u001b[1;33m\u001b[0m\u001b[1;33m\u001b[0m\u001b[0m\n",
      "\u001b[1;31mIndexError\u001b[0m: list index out of range"
     ]
    }
   ],
   "source": [
    "user_input, results = user_input()\n",
    "track_id=choose_song(results)\n",
    "k_num=transforming_features(track_id)\n",
    "song_selection=random_song_selection(k_num)\n",
    "\n",
    "from IPython.display import IFrame\n",
    "\n",
    "#track_id= 'spotify:track:3hgl7EQwTutSm6PESsB7gZ'\n",
    "IFrame(src=\"https://open.spotify.com/embed/track/\"+track_id+\"?utm_source=generator\",\n",
    "       width=\"320\",\n",
    "       height=\"80\",\n",
    "       frameborder=\"0\",\n",
    "       allowtransparency=\"true\",\n",
    "       allow=\"encrypted-media\",\n",
    "       extras=['5pAbCxt9e3f81lOmjIXwzd',\n",
    " '19WpswuyqY3PCBkdGDHvVD']\n",
    "      )\n",
    "\n"
   ]
  },
  {
   "cell_type": "code",
   "execution_count": 82,
   "metadata": {},
   "outputs": [
    {
     "data": {
      "text/html": [
       "\n",
       "        <iframe\n",
       "            width=\"320\"\n",
       "            height=\"80\"\n",
       "            src=\"https://open.spotify.com/embed/track/0oQgoesQJq0fRnWOY1D73g?utm_source=generator?frameborder=0&allowtransparency=true&allow=encrypted-media\"\n",
       "            frameborder=\"0\"\n",
       "            allowfullscreen\n",
       "            \n",
       "        ></iframe>\n",
       "        "
      ],
      "text/plain": [
       "<IPython.lib.display.IFrame at 0x13dd64930d0>"
      ]
     },
     "metadata": {},
     "output_type": "display_data"
    },
    {
     "data": {
      "text/html": [
       "\n",
       "        <iframe\n",
       "            width=\"320\"\n",
       "            height=\"80\"\n",
       "            src=\"https://open.spotify.com/embed/track/1IKn0PbfkoSFOFmeI3Oa0x?utm_source=generator?frameborder=0&allowtransparency=true&allow=encrypted-media\"\n",
       "            frameborder=\"0\"\n",
       "            allowfullscreen\n",
       "            \n",
       "        ></iframe>\n",
       "        "
      ],
      "text/plain": [
       "<IPython.lib.display.IFrame at 0x13dd64930d0>"
      ]
     },
     "metadata": {},
     "output_type": "display_data"
    },
    {
     "data": {
      "text/html": [
       "\n",
       "        <iframe\n",
       "            width=\"320\"\n",
       "            height=\"80\"\n",
       "            src=\"https://open.spotify.com/embed/track/3o8cpHgLK9x0G5eB1UusOQ?utm_source=generator?frameborder=0&allowtransparency=true&allow=encrypted-media\"\n",
       "            frameborder=\"0\"\n",
       "            allowfullscreen\n",
       "            \n",
       "        ></iframe>\n",
       "        "
      ],
      "text/plain": [
       "<IPython.lib.display.IFrame at 0x13dd64930d0>"
      ]
     },
     "metadata": {},
     "output_type": "display_data"
    },
    {
     "data": {
      "text/html": [
       "\n",
       "        <iframe\n",
       "            width=\"320\"\n",
       "            height=\"80\"\n",
       "            src=\"https://open.spotify.com/embed/track/57Hk0AE5OhgXrPWZOhipHt?utm_source=generator?frameborder=0&allowtransparency=true&allow=encrypted-media\"\n",
       "            frameborder=\"0\"\n",
       "            allowfullscreen\n",
       "            \n",
       "        ></iframe>\n",
       "        "
      ],
      "text/plain": [
       "<IPython.lib.display.IFrame at 0x13dd64930d0>"
      ]
     },
     "metadata": {},
     "output_type": "display_data"
    },
    {
     "data": {
      "text/html": [
       "\n",
       "        <iframe\n",
       "            width=\"320\"\n",
       "            height=\"80\"\n",
       "            src=\"https://open.spotify.com/embed/track/5GmvLu8Ok9KqBakA6jTEVK?utm_source=generator?frameborder=0&allowtransparency=true&allow=encrypted-media\"\n",
       "            frameborder=\"0\"\n",
       "            allowfullscreen\n",
       "            \n",
       "        ></iframe>\n",
       "        "
      ],
      "text/plain": [
       "<IPython.lib.display.IFrame at 0x13dd64930d0>"
      ]
     },
     "metadata": {},
     "output_type": "display_data"
    }
   ],
   "source": [
    "from IPython import display\n",
    "\n",
    "for ele in song_selection:\n",
    "    display.display(display.IFrame(src=\"https://open.spotify.com/embed/track/\"+ele+\"?utm_source=generator\",\n",
    "       width=\"320\",\n",
    "       height=\"80\",\n",
    "       frameborder=\"0\",\n",
    "       allowtransparency=\"true\",\n",
    "       allow=\"encrypted-media\",\n",
    "      ) )"
   ]
  },
  {
   "cell_type": "code",
   "execution_count": 40,
   "metadata": {},
   "outputs": [
    {
     "data": {
      "text/plain": [
       "{'tracks': {'href': 'https://api.spotify.com/v1/search?query=over+the+rainbow&type=track&market=GB&offset=0&limit=3',\n",
       "  'items': [{'album': {'album_type': 'album',\n",
       "     'artists': [{'external_urls': {'spotify': 'https://open.spotify.com/artist/4ogvuDRerGhZfSf7TtzHlr'},\n",
       "       'href': 'https://api.spotify.com/v1/artists/4ogvuDRerGhZfSf7TtzHlr',\n",
       "       'id': '4ogvuDRerGhZfSf7TtzHlr',\n",
       "       'name': \"Israel Kamakawiwo'ole\",\n",
       "       'type': 'artist',\n",
       "       'uri': 'spotify:artist:4ogvuDRerGhZfSf7TtzHlr'}],\n",
       "     'external_urls': {'spotify': 'https://open.spotify.com/album/4aM85igbrBcoRZVt7L11Zn'},\n",
       "     'href': 'https://api.spotify.com/v1/albums/4aM85igbrBcoRZVt7L11Zn',\n",
       "     'id': '4aM85igbrBcoRZVt7L11Zn',\n",
       "     'images': [{'height': 640,\n",
       "       'url': 'https://i.scdn.co/image/ab67616d0000b27356c868c8c85e7e4e62bd9ec1',\n",
       "       'width': 640},\n",
       "      {'height': 300,\n",
       "       'url': 'https://i.scdn.co/image/ab67616d00001e0256c868c8c85e7e4e62bd9ec1',\n",
       "       'width': 300},\n",
       "      {'height': 64,\n",
       "       'url': 'https://i.scdn.co/image/ab67616d0000485156c868c8c85e7e4e62bd9ec1',\n",
       "       'width': 64}],\n",
       "     'name': 'Alone In Iz World',\n",
       "     'release_date': '2001-09-25',\n",
       "     'release_date_precision': 'day',\n",
       "     'total_tracks': 13,\n",
       "     'type': 'album',\n",
       "     'uri': 'spotify:album:4aM85igbrBcoRZVt7L11Zn'},\n",
       "    'artists': [{'external_urls': {'spotify': 'https://open.spotify.com/artist/4ogvuDRerGhZfSf7TtzHlr'},\n",
       "      'href': 'https://api.spotify.com/v1/artists/4ogvuDRerGhZfSf7TtzHlr',\n",
       "      'id': '4ogvuDRerGhZfSf7TtzHlr',\n",
       "      'name': \"Israel Kamakawiwo'ole\",\n",
       "      'type': 'artist',\n",
       "      'uri': 'spotify:artist:4ogvuDRerGhZfSf7TtzHlr'}],\n",
       "    'disc_number': 1,\n",
       "    'duration_ms': 211933,\n",
       "    'explicit': False,\n",
       "    'external_ids': {'isrc': 'USMAC0100119'},\n",
       "    'external_urls': {'spotify': 'https://open.spotify.com/track/3oQomOPRNQ5NVFUmLJHbAV'},\n",
       "    'href': 'https://api.spotify.com/v1/tracks/3oQomOPRNQ5NVFUmLJHbAV',\n",
       "    'id': '3oQomOPRNQ5NVFUmLJHbAV',\n",
       "    'is_local': False,\n",
       "    'is_playable': True,\n",
       "    'name': 'Over the Rainbow',\n",
       "    'popularity': 69,\n",
       "    'preview_url': 'https://p.scdn.co/mp3-preview/69c034ea4933084da7a3b594fe286022858e84da?cid=3bb4fbc47d08498897ea2431328729ad',\n",
       "    'track_number': 10,\n",
       "    'type': 'track',\n",
       "    'uri': 'spotify:track:3oQomOPRNQ5NVFUmLJHbAV'},\n",
       "   {'album': {'album_type': 'album',\n",
       "     'artists': [{'external_urls': {'spotify': 'https://open.spotify.com/artist/5he5w2lnU9x7JFhnwcekXX'},\n",
       "       'href': 'https://api.spotify.com/v1/artists/5he5w2lnU9x7JFhnwcekXX',\n",
       "       'id': '5he5w2lnU9x7JFhnwcekXX',\n",
       "       'name': 'Skrillex',\n",
       "       'type': 'artist',\n",
       "       'uri': 'spotify:artist:5he5w2lnU9x7JFhnwcekXX'}],\n",
       "     'external_urls': {'spotify': 'https://open.spotify.com/album/5TG8nNzWlr4lsL6XBURDs0'},\n",
       "     'href': 'https://api.spotify.com/v1/albums/5TG8nNzWlr4lsL6XBURDs0',\n",
       "     'id': '5TG8nNzWlr4lsL6XBURDs0',\n",
       "     'images': [{'height': 640,\n",
       "       'url': 'https://i.scdn.co/image/ab67616d0000b273ff07469efd357665e364e2d9',\n",
       "       'width': 640},\n",
       "      {'height': 300,\n",
       "       'url': 'https://i.scdn.co/image/ab67616d00001e02ff07469efd357665e364e2d9',\n",
       "       'width': 300},\n",
       "      {'height': 64,\n",
       "       'url': 'https://i.scdn.co/image/ab67616d00004851ff07469efd357665e364e2d9',\n",
       "       'width': 64}],\n",
       "     'name': 'Don’t Get Too Close',\n",
       "     'release_date': '2023-02-18',\n",
       "     'release_date_precision': 'day',\n",
       "     'total_tracks': 12,\n",
       "     'type': 'album',\n",
       "     'uri': 'spotify:album:5TG8nNzWlr4lsL6XBURDs0'},\n",
       "    'artists': [{'external_urls': {'spotify': 'https://open.spotify.com/artist/5he5w2lnU9x7JFhnwcekXX'},\n",
       "      'href': 'https://api.spotify.com/v1/artists/5he5w2lnU9x7JFhnwcekXX',\n",
       "      'id': '5he5w2lnU9x7JFhnwcekXX',\n",
       "      'name': 'Skrillex',\n",
       "      'type': 'artist',\n",
       "      'uri': 'spotify:artist:5he5w2lnU9x7JFhnwcekXX'},\n",
       "     {'external_urls': {'spotify': 'https://open.spotify.com/artist/2xvtxDNInKDV4AvGmjw6d1'},\n",
       "      'href': 'https://api.spotify.com/v1/artists/2xvtxDNInKDV4AvGmjw6d1',\n",
       "      'id': '2xvtxDNInKDV4AvGmjw6d1',\n",
       "      'name': 'Bladee',\n",
       "      'type': 'artist',\n",
       "      'uri': 'spotify:artist:2xvtxDNInKDV4AvGmjw6d1'}],\n",
       "    'disc_number': 1,\n",
       "    'duration_ms': 129229,\n",
       "    'explicit': False,\n",
       "    'external_ids': {'isrc': 'USAT22207728'},\n",
       "    'external_urls': {'spotify': 'https://open.spotify.com/track/69SvqsvWaLgztW7fGVKRZs'},\n",
       "    'href': 'https://api.spotify.com/v1/tracks/69SvqsvWaLgztW7fGVKRZs',\n",
       "    'id': '69SvqsvWaLgztW7fGVKRZs',\n",
       "    'is_local': False,\n",
       "    'is_playable': True,\n",
       "    'name': 'Real Spring',\n",
       "    'popularity': 55,\n",
       "    'preview_url': 'https://p.scdn.co/mp3-preview/ebe2dbf02a61df395adf90a1056d19c5a6f01567?cid=3bb4fbc47d08498897ea2431328729ad',\n",
       "    'track_number': 5,\n",
       "    'type': 'track',\n",
       "    'uri': 'spotify:track:69SvqsvWaLgztW7fGVKRZs'},\n",
       "   {'album': {'album_type': 'compilation',\n",
       "     'artists': [{'external_urls': {'spotify': 'https://open.spotify.com/artist/4ogvuDRerGhZfSf7TtzHlr'},\n",
       "       'href': 'https://api.spotify.com/v1/artists/4ogvuDRerGhZfSf7TtzHlr',\n",
       "       'id': '4ogvuDRerGhZfSf7TtzHlr',\n",
       "       'name': \"Israel Kamakawiwo'ole\",\n",
       "       'type': 'artist',\n",
       "       'uri': 'spotify:artist:4ogvuDRerGhZfSf7TtzHlr'}],\n",
       "     'external_urls': {'spotify': 'https://open.spotify.com/album/29uSnrq9dBUFj9hjobj9TS'},\n",
       "     'href': 'https://api.spotify.com/v1/albums/29uSnrq9dBUFj9hjobj9TS',\n",
       "     'id': '29uSnrq9dBUFj9hjobj9TS',\n",
       "     'images': [{'height': 640,\n",
       "       'url': 'https://i.scdn.co/image/ab67616d0000b273c093d616bb4e710ee7ff841d',\n",
       "       'width': 640},\n",
       "      {'height': 300,\n",
       "       'url': 'https://i.scdn.co/image/ab67616d00001e02c093d616bb4e710ee7ff841d',\n",
       "       'width': 300},\n",
       "      {'height': 64,\n",
       "       'url': 'https://i.scdn.co/image/ab67616d00004851c093d616bb4e710ee7ff841d',\n",
       "       'width': 64}],\n",
       "     'name': 'Somewhere Over the Rainbow The Best of Israel Kamakawiwo`ole',\n",
       "     'release_date': '2017-10-15',\n",
       "     'release_date_precision': 'day',\n",
       "     'total_tracks': 16,\n",
       "     'type': 'album',\n",
       "     'uri': 'spotify:album:29uSnrq9dBUFj9hjobj9TS'},\n",
       "    'artists': [{'external_urls': {'spotify': 'https://open.spotify.com/artist/4ogvuDRerGhZfSf7TtzHlr'},\n",
       "      'href': 'https://api.spotify.com/v1/artists/4ogvuDRerGhZfSf7TtzHlr',\n",
       "      'id': '4ogvuDRerGhZfSf7TtzHlr',\n",
       "      'name': \"Israel Kamakawiwo'ole\",\n",
       "      'type': 'artist',\n",
       "      'uri': 'spotify:artist:4ogvuDRerGhZfSf7TtzHlr'}],\n",
       "    'disc_number': 1,\n",
       "    'duration_ms': 211933,\n",
       "    'explicit': False,\n",
       "    'external_ids': {'isrc': 'USMAC0100119'},\n",
       "    'external_urls': {'spotify': 'https://open.spotify.com/track/4yDjzVhXig9tfO7Zv46FE8'},\n",
       "    'href': 'https://api.spotify.com/v1/tracks/4yDjzVhXig9tfO7Zv46FE8',\n",
       "    'id': '4yDjzVhXig9tfO7Zv46FE8',\n",
       "    'is_local': False,\n",
       "    'is_playable': True,\n",
       "    'name': 'Over the Rainbow',\n",
       "    'popularity': 60,\n",
       "    'preview_url': 'https://p.scdn.co/mp3-preview/69c034ea4933084da7a3b594fe286022858e84da?cid=3bb4fbc47d08498897ea2431328729ad',\n",
       "    'track_number': 1,\n",
       "    'type': 'track',\n",
       "    'uri': 'spotify:track:4yDjzVhXig9tfO7Zv46FE8'}],\n",
       "  'limit': 3,\n",
       "  'next': 'https://api.spotify.com/v1/search?query=over+the+rainbow&type=track&market=GB&offset=3&limit=3',\n",
       "  'offset': 0,\n",
       "  'previous': None,\n",
       "  'total': 1000}}"
      ]
     },
     "execution_count": 40,
     "metadata": {},
     "output_type": "execute_result"
    }
   ],
   "source": [
    "results"
   ]
  },
  {
   "cell_type": "code",
   "execution_count": 41,
   "metadata": {},
   "outputs": [
    {
     "data": {
      "text/plain": [
       "'3oQomOPRNQ5NVFUmLJHbAV'"
      ]
     },
     "execution_count": 41,
     "metadata": {},
     "output_type": "execute_result"
    }
   ],
   "source": [
    "track_id"
   ]
  },
  {
   "cell_type": "code",
   "execution_count": 42,
   "metadata": {},
   "outputs": [
    {
     "data": {
      "text/plain": [
       "['2bYyRHOUHCQ96uN4zhhvAK',\n",
       " '7sKDftgGirHWTVFMtJoDoh',\n",
       " '57Hk0AE5OhgXrPWZOhipHt',\n",
       " '3R60ekRcGXuaoZmnbdlf3n',\n",
       " '7zhLSGUbneW7Tm3wpp3HjY']"
      ]
     },
     "execution_count": 42,
     "metadata": {},
     "output_type": "execute_result"
    }
   ],
   "source": [
    "song_selection"
   ]
  }
 ],
 "metadata": {
  "kernelspec": {
   "display_name": "base",
   "language": "python",
   "name": "python3"
  },
  "language_info": {
   "codemirror_mode": {
    "name": "ipython",
    "version": 3
   },
   "file_extension": ".py",
   "mimetype": "text/x-python",
   "name": "python",
   "nbconvert_exporter": "python",
   "pygments_lexer": "ipython3",
   "version": "3.9.13"
  },
  "orig_nbformat": 4,
  "vscode": {
   "interpreter": {
    "hash": "a077222d77dfe082b8f1dd562ad70e458ac2ab76993a0b248ab0476e32e9e8dd"
   }
  }
 },
 "nbformat": 4,
 "nbformat_minor": 2
}
