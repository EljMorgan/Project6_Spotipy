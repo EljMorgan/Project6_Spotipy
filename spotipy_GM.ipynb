{
 "cells": [
  {
   "cell_type": "code",
   "execution_count": 181,
   "metadata": {},
   "outputs": [],
   "source": [
    "import requests\n",
    "from bs4 import BeautifulSoup as bs\n",
    "import time\n",
    "import random\n",
    "import pandas as pd\n",
    "\n",
    "from random import randint\n",
    "from time import sleep\n",
    "\n",
    "#sleep(randint(10,100))\n",
    "#sleeptime = random.uniform(1,5)\n"
   ]
  },
  {
   "cell_type": "markdown",
   "metadata": {
    "id": "fnhh4ayEOKz4"
   },
   "source": [
    "## Loading credentials from another config file"
   ]
  },
  {
   "cell_type": "code",
   "execution_count": 2,
   "metadata": {
    "colab": {
     "base_uri": "https://localhost:8080/"
    },
    "executionInfo": {
     "elapsed": 23559,
     "status": "ok",
     "timestamp": 1623745938174,
     "user": {
      "displayName": "Ignacio Soteras",
      "photoUrl": "",
      "userId": "02050793736257155229"
     },
     "user_tz": -120
    },
    "id": "5j1kqPOoN_I5",
    "outputId": "23c4b5dd-b94b-425d-e2b9-e5647cb055df"
   },
   "outputs": [],
   "source": [
    "import config"
   ]
  },
  {
   "cell_type": "markdown",
   "metadata": {
    "id": "0fpGWmsCOSx0"
   },
   "source": [
    "## Starting with Spotify API"
   ]
  },
  {
   "cell_type": "markdown",
   "metadata": {
    "id": "o2ooSokHKfsd"
   },
   "source": [
    "In order to use the Spotify API (SpotiPy) we will have to create an account in Spotify and follow these steps. Once we have done it we will start initializing the API and look at the search method for which we can introduce a \"query\" q, in this example we will try it with Lady Gaga:"
   ]
  },
  {
   "cell_type": "code",
   "execution_count": 5,
   "metadata": {
    "colab": {
     "base_uri": "https://localhost:8080/"
    },
    "executionInfo": {
     "elapsed": 313,
     "status": "ok",
     "timestamp": 1623747121467,
     "user": {
      "displayName": "Ignacio Soteras",
      "photoUrl": "",
      "userId": "02050793736257155229"
     },
     "user_tz": -120
    },
    "id": "-0qiqFTZqqE2",
    "outputId": "c532baae-8ff5-4abc-b70e-0bda934d25b1"
   },
   "outputs": [],
   "source": [
    "import spotipy\n",
    "import json\n",
    "from spotipy.oauth2 import SpotifyClientCredentials"
   ]
  },
  {
   "cell_type": "code",
   "execution_count": null,
   "metadata": {
    "colab": {
     "base_uri": "https://localhost:8080/"
    },
    "executionInfo": {
     "elapsed": 313,
     "status": "ok",
     "timestamp": 1623747121467,
     "user": {
      "displayName": "Ignacio Soteras",
      "photoUrl": "",
      "userId": "02050793736257155229"
     },
     "user_tz": -120
    },
    "id": "-0qiqFTZqqE2",
    "outputId": "c532baae-8ff5-4abc-b70e-0bda934d25b1"
   },
   "outputs": [],
   "source": [
    "#Initialize SpotiPy with user credentias\n",
    "sp = spotipy.Spotify(auth_manager=SpotifyClientCredentials(client_id= config.client_id,\n",
    "                                                           client_secret= config.client_secret))"
   ]
  },
  {
   "cell_type": "code",
   "execution_count": null,
   "metadata": {
    "colab": {
     "base_uri": "https://localhost:8080/"
    },
    "executionInfo": {
     "elapsed": 313,
     "status": "ok",
     "timestamp": 1623747121467,
     "user": {
      "displayName": "Ignacio Soteras",
      "photoUrl": "",
      "userId": "02050793736257155229"
     },
     "user_tz": -120
    },
    "id": "-0qiqFTZqqE2",
    "outputId": "c532baae-8ff5-4abc-b70e-0bda934d25b1"
   },
   "outputs": [],
   "source": [
    "keywords_wiki=['African blues', 'Blues rock', 'Blues shouter', 'British blues', 'Canadian blues', 'Chicago blues', 'Classic female blues', 'Contemporary R&B', 'Country blues', 'Delta blues', 'Detroit blues', 'Electric blues', 'Gospel blues', 'Hill country blues', 'Hokum blues', 'Jump blues', 'Kansas City blues', 'Louisiana blues', 'Memphis blues', 'New Orleans blues', 'Piedmont blues', 'Punk blues', 'Rhythm and blues', 'Doo-wop', 'Doo-wop', 'Soul blues', 'St. Louis blues', 'Swamp blues', 'Texas blues', 'West Coast blues', 'Alternative country', 'Cowpunk', 'Cowpunk', 'Americana', 'Australian country', 'Bakersfield sound', 'Bluegrass', 'Progressive bluegrass', 'Reactionary bluegrass', 'Progressive bluegrass', 'Reactionary bluegrass', 'Country blues', 'Country pop', 'Country rap', 'Country rock', 'Cajun', 'Cajun fiddle', 'Cajun fiddle', 'Christian country', 'Close harmony', 'Dansband', 'Hokum', 'Honky-tonk country', 'Instrumental country', 'Nashville sound', 'Neotraditional country', 'New Mexico music', 'Outlaw country', 'Progressive country', 'Red dirt', 'Rockabilly', 'Hellbilly', 'Psychobilly', 'Hellbilly', 'Psychobilly', 'Sertanejo', 'Tejano', 'Texas country', 'Traditional country music', 'Truck-driving country', 'Western (Cowboy)', 'Cowboy pop', 'New Mexico', 'Texas country', 'Tejano', 'Cowboy pop', 'New Mexico', 'Texas country', 'Tejano', 'Western swing', 'Zydeco', 'Background music', 'Elevator music (muzak)', 'Elevator music (muzak)', 'Barococo', 'Beautiful music', 'Chill-out', 'Furniture music', 'Light music', 'Lounge music', 'Middle of the road', 'New-age music', 'Ambient', 'Ambient dub', 'Dark ambient', 'Ambient industrial', 'Dungeon synth', 'Drone', 'Illbient', 'New-age', 'Andean new-age', 'Neoclassical new-age', 'Space music', 'Reductionism', 'Lowercase', 'Onkyokei', 'Ambient dub', 'Dark ambient', 'Ambient industrial', 'Dungeon synth', 'Ambient industrial', 'Dungeon synth', 'Drone', 'Illbient', 'New-age', 'Andean new-age', 'Neoclassical new-age', 'Space music', 'Andean new-age', 'Neoclassical new-age', 'Space music', 'Reductionism', 'Lowercase', 'Onkyokei', 'Lowercase', 'Onkyokei', 'Bass music', 'Footwork', 'Future bass', 'Kawaii future bass', 'Jungle terror', 'UK bass', 'Wave', 'Hardwave', 'Footwork', 'Future bass', 'Kawaii future bass', 'Kawaii future bass', 'Jungle terror', 'UK bass', 'Wave', 'Hardwave', 'Hardwave', 'Breakbeat', 'Acid breaks', 'Baltimore club', 'Jersey club', 'Philly club', 'Big beat', 'Breakbeat hardcore', '4-beat', 'Darkcore', 'Hardcore breaks', 'Broken beat', 'Florida breaks', 'Nu skool breaks', 'Progressive breaks', 'Psychedelic breakbeat', 'Acid breaks', 'Baltimore club', 'Jersey club', 'Philly club', 'Jersey club', 'Philly club', 'Big beat', 'Breakbeat hardcore', '4-beat', 'Darkcore', 'Hardcore breaks', '4-beat', 'Darkcore', 'Hardcore breaks', 'Broken beat', 'Florida breaks', 'Nu skool breaks', 'Progressive breaks', 'Psychedelic breakbeat', 'Chill-out', 'Downtempo', 'Psybient', 'Psydub', 'Trip hop', 'Trip rock', 'Downtempo', 'Psybient', 'Psydub', 'Psydub', 'Trip hop', 'Trip rock', 'Chopped and screwed', 'Disco', 'Afro/cosmic music', 'Electro-disco', 'Hi-NRG', 'Eurobeat', 'Eurodance', 'Italo dance', 'Italo disco', 'Spacesynth', 'Space disco', 'Eurodisco', 'Nu-disco', 'Post-disco', 'Boogie', 'City pop', 'Afro/cosmic music', 'Electro-disco', 'Hi-NRG', 'Eurobeat', 'Eurodance', 'Italo dance', 'Italo disco', 'Spacesynth', 'Space disco', 'Hi-NRG', 'Eurobeat', 'Eurodance', 'Italo dance', 'Eurobeat', 'Eurodance', 'Italo dance', 'Italo dance', 'Italo disco', 'Spacesynth', 'Spacesynth', 'Space disco', 'Eurodisco', 'Nu-disco', 'Post-disco', 'Boogie', 'City pop', 'Boogie', 'City pop', 'Drum and bass', 'Darkstep', 'Drumfunk', 'Drumstep', 'Hardstep', 'Intelligent drum and bass', 'Atmospheric drum and bass', 'Jazzstep', 'Jump-up', 'Liquid funk', 'Neurofunk', 'Sambass', 'Techstep', 'Darkstep', 'Drumfunk', 'Drumstep', 'Hardstep', 'Intelligent drum and bass', 'Atmospheric drum and bass', 'Atmospheric drum and bass', 'Jazzstep', 'Jump-up', 'Liquid funk', 'Neurofunk', 'Sambass', 'Techstep', 'Dub', 'Dub poetry', 'Dubtronica', 'Dub poetry', 'Dubtronica', 'Electroacoustic music', 'Acousmatic music', 'Electroacoustic improvisation', 'Live electronics', 'Musique concrète', 'Soundscape', 'Acousmatic music', 'Electroacoustic improvisation', 'Live electronics', 'Musique concrète', 'Soundscape', 'Electronic rock', 'Dance-rock', 'Alternative dance', 'Madchester', 'Baggy', 'New rave', 'Dance-punk', 'Krautrock', 'New wave', 'Cold wave', 'Dark wave', 'Neoclassical dark wave', 'Neue Deutsche Todeskunst', 'Ethereal wave', 'Nu-gaze', 'Minimal wave', 'Neue Deutsche Welle', 'New romantic', 'Sophisti-pop', 'Synth-pop', 'Dance-pop', 'Disco polo', 'Electroclash', 'Electropop', 'Hyperpop', 'Post-rock', 'Space rock', 'Synth-metal', 'Electronicore', 'Synth-punk', 'Dance-rock', 'Alternative dance', 'Madchester', 'Baggy', 'New rave', 'Dance-punk', 'Alternative dance', 'Madchester', 'Baggy', 'New rave', 'Madchester', 'Baggy', 'Baggy', 'New rave', 'Dance-punk', 'Krautrock', 'New wave', 'Cold wave', 'Dark wave', 'Neoclassical dark wave', 'Neue Deutsche Todeskunst', 'Ethereal wave', 'Nu-gaze', 'Minimal wave', 'Neue Deutsche Welle', 'New romantic', 'Sophisti-pop', 'Synth-pop', 'Dance-pop', 'Disco polo', 'Electroclash', 'Electropop', 'Hyperpop', 'Cold wave', 'Dark wave', 'Neoclassical dark wave', 'Neue Deutsche Todeskunst', 'Neoclassical dark wave', 'Neue Deutsche Todeskunst', 'Ethereal wave', 'Nu-gaze', 'Nu-gaze', 'Minimal wave', 'Neue Deutsche Welle', 'New romantic', 'Sophisti-pop', 'Synth-pop', 'Dance-pop', 'Disco polo', 'Electroclash', 'Electropop', 'Hyperpop', 'Dance-pop', 'Disco polo', 'Disco polo', 'Electroclash', 'Electropop', 'Hyperpop', 'Electropop', 'Hyperpop', 'Hyperpop', 'Post-rock', 'Space rock', 'Synth-metal', 'Electronicore', 'Electronicore', 'Synth-punk', 'Electronica', 'Folktronica', 'Indietronica', 'Jazztronica', 'Laptronica', 'Livetronica', 'Progressive electronic', 'Kosmische musik', 'Folktronica', 'Indietronica', 'Jazztronica', 'Laptronica', 'Livetronica', 'Progressive electronic', 'Kosmische musik', 'Kosmische musik', 'Ethnic electronica / regional EDM', 'Asian underground', 'African electronic dance music', 'Afrobeats', 'Azonto', 'Coupé-décalé', 'Kuduro', 'Mahraganat', 'Shangaan electro', 'Budots', 'Changa tuki', 'Dancehall pop', 'Funk carioca', 'Funk ostentação', 'Melodic funk', 'Proibidão', 'Rasteirinha', 'Merenhouse', 'Nortec', 'Rabòday', 'Rara tech', 'Russ music', 'Shamstep', 'Tribal guarachero', 'Worldbeat', 'Manila sound', 'Asian underground', 'African electronic dance music', 'Afrobeats', 'Azonto', 'Coupé-décalé', 'Kuduro', 'Mahraganat', 'Shangaan electro', 'Afrobeats', 'Azonto', 'Azonto', 'Coupé-décalé', 'Kuduro', 'Mahraganat', 'Shangaan electro', 'Budots', 'Changa tuki', 'Dancehall pop', 'Funk carioca', 'Funk ostentação', 'Melodic funk', 'Proibidão', 'Rasteirinha', 'Funk ostentação', 'Melodic funk', 'Proibidão', 'Rasteirinha', 'Merenhouse', 'Nortec', 'Rabòday', 'Rara tech', 'Russ music', 'Shamstep', 'Tribal guarachero', 'Worldbeat', 'Manila sound', 'Manila sound', 'Funk fusion genres', 'Acid jazz', 'Funktronica', 'Synth-funk', 'Acid jazz', 'Funktronica', 'Synth-funk', 'Jungle', 'Ragga jungle', 'Ragga jungle', 'Hardcore', 'Bouncy techno', 'Breakcore', 'Digital hardcore', 'Frenchcore', 'Gabber', 'Early hardcore', 'Mainstream hardcore', 'Happy hardcore', 'UK hardcore', 'Industrial hardcore', 'J-core', 'Lento violento', 'Mákina', 'Speedcore', 'Extratone', 'Flashcore', 'Splittercore', 'Bouncy techno', 'Breakcore', 'Digital hardcore', 'Frenchcore', 'Gabber', 'Early hardcore', 'Mainstream hardcore', 'Early hardcore', 'Mainstream hardcore', 'Happy hardcore', 'UK hardcore', 'UK hardcore', 'Industrial hardcore', 'J-core', 'Lento violento', 'Mákina', 'Speedcore', 'Extratone', 'Flashcore', 'Splittercore', 'Extratone', 'Flashcore', 'Splittercore', 'Hardstyle', 'Dubstyle', 'Jumpstyle', 'Dubstyle', 'Jumpstyle', 'Hauntology', 'Chillwave', 'Hypnagogic pop', 'Synthwave', 'Darksynth', 'Sovietwave', 'Vaporwave', 'Dreampunk', 'Future funk', 'Hardvapour', 'Mallsoft', 'Chillwave', 'Hypnagogic pop', 'Synthwave', 'Darksynth', 'Sovietwave', 'Darksynth', 'Sovietwave', 'Vaporwave', 'Dreampunk', 'Future funk', 'Hardvapour', 'Mallsoft', 'Dreampunk', 'Future funk', 'Hardvapour', 'Mallsoft', 'Hip hop fusion genres', 'Afroswing', 'Alternative hip hop', 'Hipster hop', 'Cloud rap', 'Crunk', 'Crunkcore', 'Snap music', 'Electro', 'Latin freestyle', 'Emo rap', 'Instrumental hip hop', 'Lofi hip hop', 'Miami bass', 'Mumble rap', 'Trap', 'Afro trap', 'Drill', 'UK drill', 'Latin trap', 'Phonk', 'Trap (EDM)', 'UK trap', 'Afroswing', 'Alternative hip hop', 'Hipster hop', 'Hipster hop', 'Cloud rap', 'Crunk', 'Crunkcore', 'Snap music', 'Crunkcore', 'Snap music', 'Electro', 'Latin freestyle', 'Latin freestyle', 'Emo rap', 'Instrumental hip hop', 'Lofi hip hop', 'Miami bass', 'Mumble rap', 'Trap', 'Afro trap', 'Drill', 'UK drill', 'Latin trap', 'Phonk', 'Trap (EDM)', 'UK trap', 'Afro trap', 'Drill', 'UK drill', 'UK drill', 'Latin trap', 'Phonk', 'Trap (EDM)', 'UK trap', 'House music', 'Acid house', 'Amapiano', 'Gqom', 'Kidandali', 'Kwaito', 'Ambient house', 'Balearic beat', 'Ballroom', 'Bass house', 'Blog house', 'Brazilian bass', 'Slap house', 'Chicago hard house', 'Chicago house', 'Deep house', 'Disco house', 'Diva house', 'Hardbag', 'Electro house', 'Big room house', 'Complextro', 'Dutch house', 'Fidget house', 'Melbourne bounce', 'Electro swing', 'French house', 'Funky house', 'Future house', 'Garage house', 'Ghetto house', 'Ghettotech', 'Juke house', 'Hip house', 'Italo house', 'Jazz house', 'Latin house', 'Melodic house', 'Microhouse', 'Moombahcore', 'Moombahton', 'Moombahsoul', 'New Jersey sound', 'Outsider house', 'Progressive house', 'Soulful house', 'Tech house', 'Tribal house', 'Tropical house', 'UK hard house', 'Hard NRG', 'Pumping house', 'Hardbass', 'Scouse house', 'Acid house', 'Amapiano', 'Gqom', 'Kidandali', 'Kwaito', 'Amapiano', 'Gqom', 'Kidandali', 'Kwaito', 'Ambient house', 'Balearic beat', 'Ballroom', 'Bass house', 'Blog house', 'Brazilian bass', 'Slap house', 'Slap house', 'Chicago hard house', 'Chicago house', 'Deep house', 'Disco house', 'Diva house', 'Hardbag', 'Hardbag', 'Electro house', 'Big room house', 'Complextro', 'Dutch house', 'Fidget house', 'Melbourne bounce', 'Big room house', 'Complextro', 'Dutch house', 'Fidget house', 'Melbourne bounce', 'Electro swing', 'French house', 'Funky house', 'Future house', 'Garage house', 'Ghetto house', 'Ghettotech', 'Juke house', 'Ghettotech', 'Juke house', 'Hip house', 'Italo house', 'Jazz house', 'Latin house', 'Melodic house', 'Microhouse', 'Moombahcore', 'Moombahton', 'Moombahsoul', 'Moombahsoul', 'New Jersey sound', 'Outsider house', 'Progressive house', 'Soulful house', 'Tech house', 'Tribal house', 'Tropical house', 'UK hard house', 'Hard NRG', 'Pumping house', 'Hardbass', 'Scouse house', 'Hard NRG', 'Pumping house', 'Hardbass', 'Hardbass', 'Scouse house', 'Industrial / post-industrial', 'Deconstructed club', 'Electro-industrial', 'Dark electro', 'Aggrotech', 'Electronic body music (EBM)', 'Futurepop', 'New beat', 'Industrial hip hop', 'Industrial metal', 'Cyber metal', 'Neue Deutsche Härte', 'Industrial rock', 'Martial industrial', 'Witch house', 'Deconstructed club', 'Electro-industrial', 'Dark electro', 'Aggrotech', 'Dark electro', 'Aggrotech', 'Aggrotech', 'Electronic body music (EBM)', 'Futurepop', 'New beat', 'Futurepop', 'New beat', 'Industrial hip hop', 'Industrial metal', 'Cyber metal', 'Neue Deutsche Härte', 'Cyber metal', 'Neue Deutsche Härte', 'Industrial rock', 'Martial industrial', 'Witch house', 'Intelligent dance music (IDM)', \"Drill 'n' bass\", 'Glitch', \"Drill 'n' bass\", 'Glitch', 'Neo soul', 'Nightcore', 'Noise music', 'Danger music', 'Harsh noise', 'Harsh noise wall', 'Japanoise', 'Power electronics', 'Death industrial', 'Power noise', 'Danger music', 'Harsh noise', 'Harsh noise wall', 'Harsh noise wall', 'Japanoise', 'Power electronics', 'Death industrial', 'Death industrial', 'Power noise', 'Plunderphonics', 'Sampledelia', 'Sampledelia', 'Techno', 'Acid techno', 'Ambient techno', 'Birmingham sound', 'Bleep techno', 'Detroit techno', 'Dub techno', 'Hardtechno', 'Free tekno', 'Industrial techno', 'Minimal techno', 'Schaffel', 'Toytown techno', 'Acid techno', 'Ambient techno', 'Birmingham sound', 'Bleep techno', 'Detroit techno', 'Dub techno', 'Hardtechno', 'Free tekno', 'Free tekno', 'Industrial techno', 'Minimal techno', 'Schaffel', 'Toytown techno', 'Tecno brega', 'Trance music', 'Acid trance', 'Balearic trance', 'Dream trance', 'Eurotrance', 'Goa trance', 'Nitzhonot', 'Hard trance', 'Progressive trance', 'Psychedelic trance', 'Suomisaundi', 'Tech trance', 'Uplifting trance', 'Vocal trance', 'Acid trance', 'Balearic trance', 'Dream trance', 'Eurotrance', 'Goa trance', 'Nitzhonot', 'Nitzhonot', 'Hard trance', 'Progressive trance', 'Psychedelic trance', 'Suomisaundi', 'Suomisaundi', 'Tech trance', 'Uplifting trance', 'Vocal trance', 'UK garage', '2-step garage', 'Bassline', 'Breakstep', 'Dubstep', 'Brostep', 'Post-dubstep', 'Reggaestep', 'Riddim', 'Future garage', 'Grime', 'Grindie', 'Speed garage', 'UK funky', 'Funkstep', 'Wonky', '2-step garage', 'Bassline', 'Breakstep', 'Dubstep', 'Brostep', 'Post-dubstep', 'Reggaestep', 'Riddim', 'Brostep', 'Post-dubstep', 'Reggaestep', 'Riddim', 'Future garage', 'Grime', 'Grindie', 'Grindie', 'Speed garage', 'UK funky', 'Funkstep', 'Funkstep', 'Wonky', 'Video game music', 'Chiptune', 'Bitpop', 'Nintendocore', 'Skweee', 'Chiptune', 'Bitpop', 'Nintendocore', 'Skweee', 'Bitpop', 'Nintendocore', 'Skweee', 'American folk revival', 'Americana', 'Anti-folk', 'British folk revival', 'Celtic music', 'Chalga', 'Corrido', 'Filk', 'Folk rock', 'Folktronica', 'Celtic rock', 'Celtic rock', 'Freak folk', 'Indie folk', 'Industrial folk', 'Mariachi', 'Ranchera', 'Ranchera', 'Neofolk', 'Progressive folk', 'Protest song', 'Psychedelic folk', 'Singer-songwriter', 'Nueva canción', 'Nueva canción', 'Skiffle', 'Sung poetry', 'Tarantella/Pizzica', 'Alternative hip hop', 'Hipster hop', 'Hipster hop', 'Beatboxing', 'Boom bap', 'Bounce', 'British hip hop', 'Road rap', 'Road rap', 'Chopped and screwed', 'Chopper', 'Cloud rap', 'Comedy hip hop', 'Crunk', 'Crunkcore', 'Crunkcore', 'Country rap', 'East Coast hip hop', 'Emo rap', 'Freestyle rap', 'G-funk', 'Hardcore hip hop', 'Dirty rap', 'Gangsta rap', 'Horrorcore', 'Memphis rap', 'Dirty rap', 'Gangsta rap', 'Horrorcore', 'Memphis rap', 'Hip hop soul', 'Hyphy', \"Jerkin'\", \"Jerkin'\", 'Industrial hip hop', 'Instrumental hip hop', 'Jazz rap', 'Latin hip hop', 'Chicano rap', 'Chicano rap', 'Lofi hip hop', 'Miami bass', 'Mumble rap', 'Nerdcore', 'Chap hop', 'Chap hop', 'New jack swing', 'Political hip hop', 'Conscious hip hop', 'Conscious hip hop', 'Pop rap', 'Progressive rap', 'Punk rap', 'Rap opera', 'Rap rock', 'Rap metal', 'Rapcore', 'Rap metal', 'Rapcore', 'Religious hip hop', 'Christian hip hop', 'Jewish hip hop', 'Christian hip hop', 'Jewish hip hop', 'Snap', 'Southern hip hop', 'Trap', 'Dark Trap', 'Drill', 'Brooklyn drill', 'UK drill', 'Latin trap', 'Phonk', 'Drift Phonk', 'Trap metal', 'Tread', 'Dark Trap', 'Drill', 'Brooklyn drill', 'UK drill', 'Brooklyn drill', 'UK drill', 'Latin trap', 'Phonk', 'Drift Phonk', 'Drift Phonk', 'Trap metal', 'Tread', 'Turntablism', 'Underground hip hop', 'West Coast hip hop', 'Acid jazz', 'Afro-Cuban jazz', 'Alt-jazz', 'Avant-garde jazz', 'Bebop', 'Boogie-woogie', 'Bossa nova', 'Brazilian Jazz', 'British dance band', 'Cape jazz', 'Chamber jazz', 'Continental jazz', 'Cool jazz', 'Crossover jazz', 'Dixieland', 'Ethno jazz', 'European free jazz', 'Free funk', 'Free improvisation', 'Free jazz', 'Gypsy jazz', 'Hard bop', 'Jazz blues', 'Jazz-funk', 'Jazz fusion', 'Jazz rap', 'Jazz rock', 'Kansas City jazz', 'Latin jazz', 'Livetronica', 'M-base', 'Mainstream jazz', 'Modal jazz', 'Neo-bop jazz', 'Neo-swing', 'Nu jazz', 'Orchestral jazz', 'Post-bop', 'Progressive jazz', 'Punk jazz', 'Samba-jazz', 'Shibuya-kei', 'Ska jazz', 'Smooth jazz', 'Soul jazz', 'Straight-ahead jazz', 'Stride jazz', 'Swing', 'Trad jazz', 'Third stream', 'Vocal jazz', 'West Coast jazz', 'Adult album alternative', 'Adult contemporary', 'Ambient pop', 'Arabic pop', 'Art pop', 'Baroque pop', 'Bedroom pop', 'Brill building', 'Britpop', 'Bubblegum pop', 'C-pop', 'Cantopop', 'Hokkien pop', 'Mandopop', 'Cantopop', 'Hokkien pop', 'Mandopop', 'Canción', 'Canzone', 'Chalga', 'Chamber pop', 'Chanson', 'Christian pop', 'Classic hits', 'Classical crossover', 'Country pop', 'Cringe pop', 'Dance-pop', 'Disco polo', 'Electropop', 'Europop', 'Austropop', 'Eurobeat', 'French pop', 'Italo dance', 'Italo disco', 'Laïkó', 'Nederpop', 'Neomelodic music', 'Nordic popular music', 'Russian pop', 'Austropop', 'Eurobeat', 'French pop', 'Italo dance', 'Italo disco', 'Laïkó', 'Nederpop', 'Neomelodic music', 'Nordic popular music', 'Russian pop', 'Fado', 'Folk pop', 'Hyperpop', 'Indie pop', 'Twee pop', 'Twee pop', 'Indian pop', 'Iranian pop', 'J-pop', 'City pop', 'Shibuya-kei', 'City pop', 'Shibuya-kei', 'Jangle pop', 'Jazz pop', 'K-pop', 'Korean hip hop', 'Korean rock', \"T'ong guitar\", 'Trot', 'Korean hip hop', 'Korean rock', \"T'ong guitar\", 'Trot', 'Latin ballad', 'Latin pop', 'Mexican pop', 'Mexican pop', 'New Romantic', 'Oldies', 'Operatic pop', 'OPM', 'Pinoy pop', 'Pinoy pop', 'Pop rap', 'Pop rock', 'Pop punk', 'Emo pop', 'Neon pop', 'Power pop', 'Soft rock', 'Surf pop', 'Yacht rock', 'Pop punk', 'Emo pop', 'Neon pop', 'Emo pop', 'Neon pop', 'Power pop', 'Soft rock', 'Surf pop', 'Yacht rock', 'Pop soul', 'Progressive pop', 'Psychedelic pop', 'Rebetiko', 'Schlager', 'Sophisti-pop', 'Space age pop', 'Sunshine pop', 'Swamp pop', 'Synthpop', 'Teen pop', 'Traditional pop', 'Turbo-folk', 'Turkish pop', 'Vispop', 'Wonky pop', 'Worldbeat', 'Yé-yé', 'Alternative R&B', 'Contemporary R&B', 'Disco', 'Freestyle', 'Go-go', 'Go-go', 'Funk', 'Deep funk', 'Minneapolis Sound', 'Psychedelic funk', 'Synth-funk', 'Deep funk', 'Minneapolis Sound', 'Psychedelic funk', 'Synth-funk', 'Gospel music', 'New jack swing', 'Post-disco', 'Boogie', 'Boogie', 'Rhythm and blues', 'Doo-wop', 'Doo-wop', 'Soul', 'Blue-eyed soul', 'Hip hop soul', 'Neo soul', 'Northern soul', 'Psychedelic soul', 'Southern soul', 'Blue-eyed soul', 'Hip hop soul', 'Neo soul', 'Northern soul', 'Psychedelic soul', 'Southern soul', 'Afro rock', 'Alternative rock', 'Alternative dance', 'Britpop', 'Post-Britpop', 'Dream pop', 'Shoegaze', 'Blackgaze', 'Grunge', 'Post-grunge', 'Indie rock', 'Dunedin sound', 'Math rock', 'Midwest emo', 'Post-punk revival', 'Slacker rock', 'Madchester', 'Baggy', 'Noise pop', 'Sadcore', 'Slowcore', 'Alternative dance', 'Britpop', 'Post-Britpop', 'Post-Britpop', 'Dream pop', 'Shoegaze', 'Blackgaze', 'Shoegaze', 'Blackgaze', 'Blackgaze', 'Grunge', 'Post-grunge', 'Post-grunge', 'Indie rock', 'Dunedin sound', 'Math rock', 'Midwest emo', 'Post-punk revival', 'Slacker rock', 'Dunedin sound', 'Math rock', 'Midwest emo', 'Post-punk revival', 'Slacker rock', 'Madchester', 'Baggy', 'Baggy', 'Noise pop', 'Sadcore', 'Slowcore', 'American rock', 'Anatolian rock', 'Arabic rock', 'Arena rock', 'Beat', 'British Invasion', 'Freakbeat', 'Mod (subculture)', 'Nederbeat', 'British Invasion', 'Freakbeat', 'Mod (subculture)', 'Nederbeat', 'Blues rock', 'Boogie rock', 'Boogie rock', 'Brazilian rock', 'Samba rock', 'Samba rock', 'British rhythm and blues', 'British rock music', 'Chamber pop', 'Chinese rock', 'Christian rock', 'Classic rock', 'Comedy rock', 'Country rock', 'Dark cabaret', \"Death 'n' roll\", 'Deathrock', 'Desert rock', 'Electronic rock', 'Electroclash', 'Electronicore', 'New wave', 'Cold wave', 'Dark wave', 'Ethereal wave', 'Electroclash', 'Electronicore', 'New wave', 'Cold wave', 'Dark wave', 'Ethereal wave', 'Cold wave', 'Dark wave', 'Ethereal wave', 'Ethereal wave', 'Experimental rock', 'Art rock', 'Industrial rock', 'Post-punk', 'Dance-punk', 'Dance-rock', 'Gothic rock', 'No wave', 'Noise rock', 'Post-rock', 'Post-metal', 'Art rock', 'Industrial rock', 'Post-punk', 'Dance-punk', 'Dance-rock', 'Gothic rock', 'No wave', 'Noise rock', 'Dance-punk', 'Dance-rock', 'Gothic rock', 'No wave', 'Noise rock', 'Post-rock', 'Post-metal', 'Post-metal', 'Folk rock', 'British folk rock', 'Celtic rock', 'Medieval folk rock', 'British folk rock', 'Celtic rock', 'Medieval folk rock', 'Funk rock', 'Garage rock', 'Proto-punk', 'Proto-punk', 'Geek rock', 'Glam rock', 'Gothic rock', 'Pagan rock', 'Pagan rock', 'Hard rock', 'Heartland rock', 'Indian rock', 'Iranian rock', 'Instrumental rock', 'Japanese rock', 'Jazz fusion', 'Jazz rock', 'Jazz rock', 'Korean rock', 'Latin rock', 'Chicano rock', 'Rock music in Mexico', 'Chicano rock', 'Rock music in Mexico', 'Mangue bit', 'Metal', 'Modern rock', 'Paisley Underground', 'Pop rock', 'Jangle pop', 'Power pop', 'Soft rock', 'Yacht rock', 'Jangle pop', 'Power pop', 'Soft rock', 'Yacht rock', 'Yacht rock', 'Progressive rock', 'Art rock', 'Avant-prog', 'Rock in Opposition', 'Canterbury scene', 'Flamenco rock', 'Krautrock', 'Neo-progressive rock', 'New prog', 'Post-progressive', 'Space rock', 'Symphonic Rock', 'Art rock', 'Avant-prog', 'Rock in Opposition', 'Rock in Opposition', 'Canterbury scene', 'Flamenco rock', 'Krautrock', 'Neo-progressive rock', 'New prog', 'Post-progressive', 'Space rock', 'Symphonic Rock', 'Psychedelic rock', 'Acid rock', 'Freak scene', 'Neo-psychedelia', 'Raga rock', 'Acid rock', 'Freak scene', 'Neo-psychedelia', 'Raga rock', 'Pub rock (Australia)', 'Pub rock (United Kingdom)', 'Punk rock', 'Rap rock', 'Rapcore', 'Rapcore', 'Reggae rock', 'Rock and roll', 'Rockabilly', 'Gothabilly', 'Hellbilly', 'Psychobilly', 'Rockabilly', 'Gothabilly', 'Hellbilly', 'Psychobilly', 'Gothabilly', 'Hellbilly', 'Psychobilly', 'Rock music in France', 'Rock opera', 'Roots rock', 'Soul rock', 'Southern rock', 'Stoner rock', 'Swamp rock', 'Sufi rock', 'Surf rock', 'Tropical rock', 'Viking rock', 'Visual kei', 'Nagoya kei', 'Nagoya kei', 'Wizard rock', 'Worldbeat', 'World fusion', 'Alternative metal', 'Funk metal', 'Nu metal', 'Rap metal', 'Rapcore', 'Funk metal', 'Nu metal', 'Rap metal', 'Rapcore', 'Rapcore', 'Avant-garde metal', 'Drone metal', 'Post-metal', 'Drone metal', 'Post-metal', 'Black metal', 'Blackened death metal', 'Atmospheric black metal', 'Blackgaze', 'Melodic black metal', 'National Socialist black metal', 'Symphonic black metal', 'Viking metal', 'Blackened death metal', 'Atmospheric black metal', 'Blackgaze', 'Melodic black metal', 'National Socialist black metal', 'Symphonic black metal', 'Viking metal', 'Christian metal', 'Unblack metal', 'Unblack metal', 'Death metal', \"Death 'n' roll\", 'Deathgrind', 'Melodic death metal', 'Technical death metal', \"Death 'n' roll\", 'Deathgrind', 'Melodic death metal', 'Technical death metal', 'Doom metal', 'Death-doom', 'Stoner-doom', 'Death-doom', 'Stoner-doom', 'Folk metal', 'Celtic metal', 'Medieval metal', 'Pagan metal', 'Celtic metal', 'Medieval metal', 'Pagan metal', 'Glam metal', 'Gothic metal', 'Industrial metal', 'Latin metal', 'Math metal', 'Metalcore', 'Deathcore', 'Mathcore', 'Melodic metalcore', 'Deathcore', 'Mathcore', 'Melodic metalcore', 'Neoclassical metal', 'Neue Deutsche Härte', 'New wave of American heavy metal', 'New wave of British heavy metal', 'Nintendocore', 'Pirate metal', 'Power metal', 'Progressive metal', 'Sludge metal', 'Symphonic metal', 'Thrash metal', 'Crossover thrash', 'Groove metal', 'Crossover thrash', 'Groove metal', 'Acid punk', 'Afro-punk', 'Anarcho punk', 'Crust punk', 'D-beat', 'Crust punk', 'D-beat', 'D-beat', 'Art punk', 'Avant punk', 'Christian punk', 'Deathpunk', 'Deathrock', 'Electropunk', 'Cyberpunk', 'Digital hardcore', 'Dreampunk', 'Synth punk', 'Cyberpunk', 'Digital hardcore', 'Dreampunk', 'Synth punk', 'Folk punk', 'Celtic punk', 'Cowpunk', 'Gypsy punk', 'Celtic punk', 'Cowpunk', 'Gypsy punk', 'Garage punk', 'German punk', 'Glam punk', 'Gothic punk', 'Grindcore', 'Crustgrind', 'Electrogrind', 'Goregrind', 'Noisegrind', 'Pornogrind', 'Crustgrind', 'Electrogrind', 'Goregrind', 'Noisegrind', 'Pornogrind', 'Hardcore punk', 'Crossover thrash', 'Melodic hardcore', 'Post-hardcore', 'Emo', 'Emo pop', 'Screamo', 'Powerviolence', 'Rapcore', 'Street punk', 'Thrashcore', 'Crossover thrash', 'Melodic hardcore', 'Post-hardcore', 'Emo', 'Emo pop', 'Screamo', 'Emo', 'Emo pop', 'Screamo', 'Emo pop', 'Screamo', 'Powerviolence', 'Rapcore', 'Street punk', 'Thrashcore', 'Horror punk', 'Latino punk', 'Nazi punk', 'Oi!', 'Pop punk', 'Easycore', 'Neon pop', 'Easycore', 'Neon pop', 'Post-punk', 'Dance-punk', 'Post-punk revival', 'Dance-punk', 'Post-punk revival', 'Proto-punk', 'Psychobilly', 'Punkabilly', 'Punkabilly', 'Punk blues', 'Punk jazz', 'Punk pathetique', 'Punk rap', 'Reggae punk', 'Riot grrrl', 'Ska punk', 'Skate punk', 'Surf punk', 'African heavy metal', 'African hip hop', 'African popular music', 'Afro pop', 'Afrobeat', 'Afrobeats', 'Amapiano', 'Apala', 'Arabesque', 'Benga', 'Bikutsi', 'Bongo flava', 'Boomba', 'Bubu music', 'Cape jazz', 'Chaabi', 'Chalga', 'Chaoui music', 'Chimurenga', 'Congolese rumba', 'Coupé-Décalé', 'Fuji music', 'Genge', 'Gnawa', 'Gqom', 'Gumbe', 'Highlife', 'Hiplife', 'Igbo highlife', 'Igbo rap', 'Isicathamiya', 'Jit', 'Jùjú', 'Kadongo Kamu', 'Kizomba', 'Kuduro', 'Kwaito', 'Kwela', 'Lingala', 'Makossa', 'Maloya', \"Ma'luf\", 'Marabi', 'Marrabenta', 'Mbalax', 'Mbaqanga', 'Mbube', 'Morna', 'Ndombolo', 'Palm-wine', 'Raï', 'Rumba', 'Sakara', 'Sega', 'Seggae', 'Semba', 'Shangaan electro', 'Soukous', 'Kwassa kwassa', 'Kwassa kwassa', 'Taarab', 'Zamrock', 'Zouglou', 'Ragtime[1]', 'Cakewalk', 'Classic rag', 'Folk ragtime', 'Honky-tonk piano', 'Novelty piano', 'Stomp', 'Stride piano', 'Cakewalk', 'Classic rag', 'Folk ragtime', 'Honky-tonk piano', 'Novelty piano', 'Stomp', 'Stride piano', 'Rautalanka (Finnish surf-rock)', 'Tuvan', 'Balkan brass', 'Klezmer', 'Shashmaqam', 'Pashto music', 'Kazakh folk music', 'Kyrgyz folk music', 'Mongolian folk music', 'Tajik folk music', 'C-pop', 'Cantopop', 'Hokkien pop', 'Mandopop', 'Cantopop', 'Hokkien pop', 'Mandopop', 'Chinese hip hop', 'Chinese folk music', 'Chinese rock', 'Hong Kong English pop', 'Hong Kong hip hop', 'Taiwanese hip hop', 'Taiwanese pop', 'Taiwanese rock', 'Enka', 'J-pop', 'Japanese hip hop', 'Japanese jazz', 'Japanese rock', 'Kayōkyoku', 'K-pop', 'Korean folk music', 'Korean hip hop', 'Korean rock', 'Trot', 'Asian Underground', 'Baul', 'Bhangra', 'Bhawaiya', 'Dohori', 'Filmi', 'Indian classical', 'Carnatic', 'Hindustani classical', 'Carnatic', 'Hindustani classical', 'Indian jazz', 'Indian pop', 'Indian rock', 'Raga rock', 'Raga rock', 'Kuthu', 'Lavani', 'Morlam', 'Ragini', 'Sufi rock', 'Baila', 'Sri Lankan hip hop', 'Gamelan', 'Malaysian hip hop', 'Malaysian pop', 'Malaysian rock', 'Dangdut', 'Indo pop', 'Sundanese pop', 'Sundanese pop', 'Keroncong', 'Luk thung', 'Luk krung', 'Luk krung', 'Thai pop', 'Thai string pop', 'Thai string pop', 'Manila sound', 'Original Pilipino', 'Original Pilipino', 'Pinoy pop', 'Pinoy rock', 'L-pop', 'Mor lam', 'V-pop', 'Baithak Gana', 'Bouyon', 'Cadence-lypso', 'Calypso', 'Cha-cha-chá', 'Chutney', 'Chutney soca', 'Chutney parang', 'Chutney soca', 'Chutney parang', 'Compas', 'Dancehall', 'Mambo', 'Mento', 'Merengue', 'Méringue', 'Mozambique', 'Pichakaree', 'Punta', 'Punta rock', 'Rasin', 'Reggae', 'Dub', 'Lovers rock', 'Ragga', 'Reggae fusion', 'Ragga jungle', 'Reggae rock', 'Reggaeton', 'Roots reggae', 'Dub', 'Lovers rock', 'Ragga', 'Reggae fusion', 'Ragga jungle', 'Reggae rock', 'Reggae rock', 'Reggaeton', 'Roots reggae', 'Rocksteady', 'Rumba', 'Salsa', 'Ska', 'Ska punk', 'Two-tone', 'Ska punk', 'Two-tone', 'Soca', 'Power soca', 'Power soca', 'Son cubano', 'Songo', 'Timba', 'Twoubadou', 'Zouk', 'Axé', 'Brazilian rock', 'Brega', 'Tecnobrega', 'Tecnobrega', 'Choro', 'Forró', 'Frevo', 'Funk carioca', 'Lambada', 'Zouk-Lambada', 'Zouk-Lambada', 'Maracatu', 'Música popular brasileira', 'Tropicalia', 'Tropicalia', 'Música sertaneja', 'Samba', 'Pagode', 'Samba rock', 'Pagode', 'Samba rock', 'Boogaloo', 'Bullerengue', 'Flamenco', 'Cantes de ida y vuelta', 'Fandangos', 'Soleá', 'Alegrías', 'Bulerías', 'Peteneras', 'Tango', 'Toná', 'Martinetes', 'Tonás', 'Cantes de ida y vuelta', 'Fandangos', 'Soleá', 'Alegrías', 'Bulerías', 'Peteneras', 'Alegrías', 'Bulerías', 'Peteneras', 'Tango', 'Toná', 'Martinetes', 'Tonás', 'Martinetes', 'Tonás', 'Grupera', 'Latin Christian', 'Latin pop', 'Latin ballad', 'Latin ballad', 'Latin rock', 'Latin alternative', 'Rock en Español', 'Latin alternative', 'Rock en Español', 'Latin jazz', 'Afro-Cuban jazz', 'Bossa nova', 'Afro-Cuban jazz', 'Bossa nova', 'Mariachi', 'Ranchera', 'Reggaeton', 'Latin trap', 'Latin trap', 'Regional Mexican', 'Banda', 'Norteño', 'Banda', 'Norteño', 'Tango', 'Tropical', 'Bachata', 'Bolero', 'Criolla', 'Cumbia', 'Chicha', 'Porro', 'Guajira', 'Mambo', 'Merengue', 'Rumba', 'Salsa', 'Salsa romántica', 'Son', 'Tejano', 'Timba', 'Tropipop', 'Vallenato', 'Bachata', 'Bolero', 'Criolla', 'Cumbia', 'Chicha', 'Porro', 'Chicha', 'Porro', 'Guajira', 'Mambo', 'Merengue', 'Rumba', 'Salsa', 'Salsa romántica', 'Salsa romántica', 'Son', 'Tejano', 'Timba', 'Tropipop', 'Vallenato']"
   ]
  },
  {
   "cell_type": "code",
   "execution_count": 239,
   "metadata": {
    "colab": {
     "base_uri": "https://localhost:8080/"
    },
    "executionInfo": {
     "elapsed": 313,
     "status": "ok",
     "timestamp": 1623747121467,
     "user": {
      "displayName": "Ignacio Soteras",
      "photoUrl": "",
      "userId": "02050793736257155229"
     },
     "user_tz": -120
    },
    "id": "-0qiqFTZqqE2",
    "outputId": "c532baae-8ff5-4abc-b70e-0bda934d25b1"
   },
   "outputs": [
    {
     "data": {
      "text/plain": [
       "['African blues',\n",
       " 'Blues rock',\n",
       " 'Blues shouter',\n",
       " 'British blues',\n",
       " 'Canadian blues',\n",
       " 'Chicago blues',\n",
       " 'Classic female blues',\n",
       " 'Contemporary R&B',\n",
       " 'Country blues',\n",
       " 'Delta blues',\n",
       " 'Detroit blues',\n",
       " 'Electric blues',\n",
       " 'Gospel blues',\n",
       " 'Hill country blues',\n",
       " 'Hokum blues',\n",
       " 'Jump blues',\n",
       " 'Kansas City blues',\n",
       " 'Louisiana blues',\n",
       " 'Memphis blues',\n",
       " 'New Orleans blues',\n",
       " 'Piedmont blues',\n",
       " 'Punk blues',\n",
       " 'Rhythm and blues',\n",
       " 'Doo-wop',\n",
       " 'Doo-wop',\n",
       " 'Soul blues',\n",
       " 'St. Louis blues',\n",
       " 'Swamp blues',\n",
       " 'Texas blues',\n",
       " 'West Coast blues',\n",
       " 'Alternative country',\n",
       " 'Cowpunk',\n",
       " 'Cowpunk',\n",
       " 'Americana',\n",
       " 'Australian country',\n",
       " 'Bakersfield sound',\n",
       " 'Bluegrass',\n",
       " 'Progressive bluegrass',\n",
       " 'Reactionary bluegrass',\n",
       " 'Progressive bluegrass',\n",
       " 'Reactionary bluegrass',\n",
       " 'Country blues',\n",
       " 'Country pop',\n",
       " 'Country rap',\n",
       " 'Country rock',\n",
       " 'Cajun',\n",
       " 'Cajun fiddle',\n",
       " 'Cajun fiddle',\n",
       " 'Christian country',\n",
       " 'Close harmony']"
      ]
     },
     "execution_count": 239,
     "metadata": {},
     "output_type": "execute_result"
    }
   ],
   "source": [
    "keywords_wiki[0:50]"
   ]
  },
  {
   "cell_type": "code",
   "execution_count": 240,
   "metadata": {
    "colab": {
     "base_uri": "https://localhost:8080/"
    },
    "executionInfo": {
     "elapsed": 313,
     "status": "ok",
     "timestamp": 1623747121467,
     "user": {
      "displayName": "Ignacio Soteras",
      "photoUrl": "",
      "userId": "02050793736257155229"
     },
     "user_tz": -120
    },
    "id": "-0qiqFTZqqE2",
    "outputId": "c532baae-8ff5-4abc-b70e-0bda934d25b1"
   },
   "outputs": [],
   "source": [
    "## iterate through list of key words to return results page with playlist\n",
    "\n",
    "#keywords=['Afrobeats', 'classical','opera','british rock', 'Rock','Jazz','Groove','metal','easy listening',\\\n",
    "#          'hiphop','pop','electro','world','reggae', 'indie', 'dance', 'folk and accoustic','caribbean',\\\n",
    "#          'funk', 'punk', 'disco', 'african','disney', 'latin','kora']\n",
    "\n",
    "keywords=[ 'indie', 'dance', 'folk and accoustic','caribbean',\\\n",
    "          'funk', 'punk', 'disco', 'african','disney', 'latin']\n",
    "\n",
    "\n",
    "def search_for_playlists(keyword_list):\n",
    "    results=[]\n",
    "    for k in range(len(keywords)):\n",
    "        results.append(sp.search(q=keyword_list,limit=5,type='playlist', market=\"GB\"))\n",
    "        sleep(random.uniform(0.01, 1.67))\n",
    "    return results\n",
    "\n",
    "#results['playlists']['items'][0]['tracks']['total']"
   ]
  },
  {
   "cell_type": "code",
   "execution_count": 241,
   "metadata": {
    "colab": {
     "base_uri": "https://localhost:8080/"
    },
    "executionInfo": {
     "elapsed": 313,
     "status": "ok",
     "timestamp": 1623747121467,
     "user": {
      "displayName": "Ignacio Soteras",
      "photoUrl": "",
      "userId": "02050793736257155229"
     },
     "user_tz": -120
    },
    "id": "-0qiqFTZqqE2",
    "outputId": "c532baae-8ff5-4abc-b70e-0bda934d25b1"
   },
   "outputs": [],
   "source": [
    "results=search_for_playlists(keywords_wiki[0:50])"
   ]
  },
  {
   "cell_type": "code",
   "execution_count": 242,
   "metadata": {
    "colab": {
     "base_uri": "https://localhost:8080/"
    },
    "executionInfo": {
     "elapsed": 313,
     "status": "ok",
     "timestamp": 1623747121467,
     "user": {
      "displayName": "Ignacio Soteras",
      "photoUrl": "",
      "userId": "02050793736257155229"
     },
     "user_tz": -120
    },
    "id": "-0qiqFTZqqE2",
    "outputId": "c532baae-8ff5-4abc-b70e-0bda934d25b1"
   },
   "outputs": [
    {
     "data": {
      "text/plain": [
       "10"
      ]
     },
     "execution_count": 242,
     "metadata": {},
     "output_type": "execute_result"
    }
   ],
   "source": [
    "len(results)"
   ]
  },
  {
   "cell_type": "code",
   "execution_count": 243,
   "metadata": {
    "colab": {
     "base_uri": "https://localhost:8080/"
    },
    "executionInfo": {
     "elapsed": 313,
     "status": "ok",
     "timestamp": 1623747121467,
     "user": {
      "displayName": "Ignacio Soteras",
      "photoUrl": "",
      "userId": "02050793736257155229"
     },
     "user_tz": -120
    },
    "id": "-0qiqFTZqqE2",
    "outputId": "c532baae-8ff5-4abc-b70e-0bda934d25b1"
   },
   "outputs": [
    {
     "data": {
      "text/plain": [
       "[{'playlists': {'href': 'https://api.spotify.com/v1/search?query=African+blues&type=playlist&market=GB&offset=0&limit=5',\n",
       "   'items': [{'collaborative': False,\n",
       "     'description': 'Next time you listen to blues music remember where it actually comes from. Mali | Guinea | Gambia | Burkina Faso | Sierra Leone | Maghreb ... Curated by The Playlist Factory. Submissions : theplaylistfactory.com',\n",
       "     'external_urls': {'spotify': 'https://open.spotify.com/playlist/0cAGaeebKBsklVdo15q0mm'},\n",
       "     'href': 'https://api.spotify.com/v1/playlists/0cAGaeebKBsklVdo15q0mm',\n",
       "     'id': '0cAGaeebKBsklVdo15q0mm',\n",
       "     'images': [{'height': None,\n",
       "       'url': 'https://i.scdn.co/image/ab67706c0000bebb3da95ddf8ecf25edcc10cdd9',\n",
       "       'width': None}],\n",
       "     'name': 'African blues | Guitars from Africa | Desert Blues | Sahel Sounds | Mandingo Music',\n",
       "     'owner': {'display_name': 'The Playlist Factory',\n",
       "      'external_urls': {'spotify': 'https://open.spotify.com/user/gillian_delvigne'},\n",
       "      'href': 'https://api.spotify.com/v1/users/gillian_delvigne',\n",
       "      'id': 'gillian_delvigne',\n",
       "      'type': 'user',\n",
       "      'uri': 'spotify:user:gillian_delvigne'},\n",
       "     'primary_color': None,\n",
       "     'public': None,\n",
       "     'snapshot_id': 'MzI5LDZkODQxMTY2OWRhYzc1ZTFiNzIyZmJkOWU3ZWJjNzlhMmMyNjkzZjY=',\n",
       "     'tracks': {'href': 'https://api.spotify.com/v1/playlists/0cAGaeebKBsklVdo15q0mm/tracks',\n",
       "      'total': 149},\n",
       "     'type': 'playlist',\n",
       "     'uri': 'spotify:playlist:0cAGaeebKBsklVdo15q0mm'},\n",
       "    {'collaborative': False,\n",
       "     'description': 'African Music | African Blues',\n",
       "     'external_urls': {'spotify': 'https://open.spotify.com/playlist/0QNsBD5Yz234aFxvLq5t39'},\n",
       "     'href': 'https://api.spotify.com/v1/playlists/0QNsBD5Yz234aFxvLq5t39',\n",
       "     'id': '0QNsBD5Yz234aFxvLq5t39',\n",
       "     'images': [{'height': None,\n",
       "       'url': 'https://i.scdn.co/image/ab67706c0000bebbf4b7c7e94179d01c338856c5',\n",
       "       'width': None}],\n",
       "     'name': 'African Music | African Blues',\n",
       "     'owner': {'display_name': 'Buddha’s Lounge',\n",
       "      'external_urls': {'spotify': 'https://open.spotify.com/user/j9r03qkjuusqvx4m3som9o6n3'},\n",
       "      'href': 'https://api.spotify.com/v1/users/j9r03qkjuusqvx4m3som9o6n3',\n",
       "      'id': 'j9r03qkjuusqvx4m3som9o6n3',\n",
       "      'type': 'user',\n",
       "      'uri': 'spotify:user:j9r03qkjuusqvx4m3som9o6n3'},\n",
       "     'primary_color': None,\n",
       "     'public': None,\n",
       "     'snapshot_id': 'MTI2LDc3NDE3NTg0N2M5MDk0NzhhMGJkNzY4NGNmNmFhMGE0NTQ0NzI3NjM=',\n",
       "     'tracks': {'href': 'https://api.spotify.com/v1/playlists/0QNsBD5Yz234aFxvLq5t39/tracks',\n",
       "      'total': 101},\n",
       "     'type': 'playlist',\n",
       "     'uri': 'spotify:playlist:0QNsBD5Yz234aFxvLq5t39'},\n",
       "    {'collaborative': False,\n",
       "     'description': 'The tracks heating up the continent right now!  Cover: <a href=\"https://open.spotify.com/artist/2zhossaaVN2pXg5p8o101X?si=0TqJMkGqRYu0Dz0MVcrvtQ\"> Bien</a>  ',\n",
       "     'external_urls': {'spotify': 'https://open.spotify.com/playlist/37i9dQZF1DWYkaDif7Ztbp'},\n",
       "     'href': 'https://api.spotify.com/v1/playlists/37i9dQZF1DWYkaDif7Ztbp',\n",
       "     'id': '37i9dQZF1DWYkaDif7Ztbp',\n",
       "     'images': [{'height': None,\n",
       "       'url': 'https://i.scdn.co/image/ab67706f00000003d6746d6e190d09332b89ea05',\n",
       "       'width': None}],\n",
       "     'name': 'African Heat',\n",
       "     'owner': {'display_name': 'Spotify',\n",
       "      'external_urls': {'spotify': 'https://open.spotify.com/user/spotify'},\n",
       "      'href': 'https://api.spotify.com/v1/users/spotify',\n",
       "      'id': 'spotify',\n",
       "      'type': 'user',\n",
       "      'uri': 'spotify:user:spotify'},\n",
       "     'primary_color': None,\n",
       "     'public': None,\n",
       "     'snapshot_id': 'MTY3NjU4ODQwMCwwMDAwMDAwMDQ1ZTJlMzIzYmYyZWQ4N2VlNjJiZGU4MWYwMjliODQ4',\n",
       "     'tracks': {'href': 'https://api.spotify.com/v1/playlists/37i9dQZF1DWYkaDif7Ztbp/tracks',\n",
       "      'total': 72},\n",
       "     'type': 'playlist',\n",
       "     'uri': 'spotify:playlist:37i9dQZF1DWYkaDif7Ztbp'},\n",
       "    {'collaborative': False,\n",
       "     'description': 'West africa - mali&#x2F;algeria&#x2F;nigeria. Desert blues&#x2F;tuareg&#x2F;ali farka toure',\n",
       "     'external_urls': {'spotify': 'https://open.spotify.com/playlist/3C3VmcWqn5MTou8foAPOEW'},\n",
       "     'href': 'https://api.spotify.com/v1/playlists/3C3VmcWqn5MTou8foAPOEW',\n",
       "     'id': '3C3VmcWqn5MTou8foAPOEW',\n",
       "     'images': [{'height': None,\n",
       "       'url': 'https://i.scdn.co/image/ab67706c0000bebbdfb2a36b44b6c2a6bd92c042',\n",
       "       'width': None}],\n",
       "     'name': 'West African blues',\n",
       "     'owner': {'display_name': 'Flo Lenehan',\n",
       "      'external_urls': {'spotify': 'https://open.spotify.com/user/11184359395'},\n",
       "      'href': 'https://api.spotify.com/v1/users/11184359395',\n",
       "      'id': '11184359395',\n",
       "      'type': 'user',\n",
       "      'uri': 'spotify:user:11184359395'},\n",
       "     'primary_color': None,\n",
       "     'public': None,\n",
       "     'snapshot_id': 'MjAxLDYxZjgyMzk0ZDYyNTNhMWIwMWZjNDQ2MTJkNzAyODQ0NGVmZmRmYzc=',\n",
       "     'tracks': {'href': 'https://api.spotify.com/v1/playlists/3C3VmcWqn5MTou8foAPOEW/tracks',\n",
       "      'total': 311},\n",
       "     'type': 'playlist',\n",
       "     'uri': 'spotify:playlist:3C3VmcWqn5MTou8foAPOEW'},\n",
       "    {'collaborative': False,\n",
       "     'description': '<a href=spotify:playlist:37i9dQZF1EIYUtHGM6ALmW>John Mayer</a>, <a href=spotify:playlist:37i9dQZF1EIYWMXuJGmiMD>Eric Clapton</a>, <a href=spotify:playlist:37i9dQZF1EIXKJFlF1GMJ0>KALEO</a> and more',\n",
       "     'external_urls': {'spotify': 'https://open.spotify.com/playlist/37i9dQZF1EQpz3DZCEoX3g'},\n",
       "     'href': 'https://api.spotify.com/v1/playlists/37i9dQZF1EQpz3DZCEoX3g',\n",
       "     'id': '37i9dQZF1EQpz3DZCEoX3g',\n",
       "     'images': [{'height': None,\n",
       "       'url': 'https://seed-mix-image.spotifycdn.com/v6/img/blues/0FI0kxP0BWurTz8cB8BBug/en/large',\n",
       "       'width': None}],\n",
       "     'name': 'Blues Mix',\n",
       "     'owner': {'display_name': 'Spotify',\n",
       "      'external_urls': {'spotify': 'https://open.spotify.com/user/spotify'},\n",
       "      'href': 'https://api.spotify.com/v1/users/spotify',\n",
       "      'id': 'spotify',\n",
       "      'type': 'user',\n",
       "      'uri': 'spotify:user:spotify'},\n",
       "     'primary_color': None,\n",
       "     'public': None,\n",
       "     'snapshot_id': 'MTY3NzA0NTYwMCwwMDAwMDAwMGU1NGZkZGI3ODhhYjMzZmNhOTNmZTk0ZDJjOTkwZjEw',\n",
       "     'tracks': {'href': 'https://api.spotify.com/v1/playlists/37i9dQZF1EQpz3DZCEoX3g/tracks',\n",
       "      'total': 50},\n",
       "     'type': 'playlist',\n",
       "     'uri': 'spotify:playlist:37i9dQZF1EQpz3DZCEoX3g'}],\n",
       "   'limit': 5,\n",
       "   'next': 'https://api.spotify.com/v1/search?query=African+blues&type=playlist&market=GB&offset=5&limit=5',\n",
       "   'offset': 0,\n",
       "   'previous': None,\n",
       "   'total': 387}},\n",
       " {'playlists': {'href': 'https://api.spotify.com/v1/search?query=African+blues&type=playlist&market=GB&offset=0&limit=5',\n",
       "   'items': [{'collaborative': False,\n",
       "     'description': 'Next time you listen to blues music remember where it actually comes from. Mali | Guinea | Gambia | Burkina Faso | Sierra Leone | Maghreb ... Curated by The Playlist Factory. Submissions : theplaylistfactory.com',\n",
       "     'external_urls': {'spotify': 'https://open.spotify.com/playlist/0cAGaeebKBsklVdo15q0mm'},\n",
       "     'href': 'https://api.spotify.com/v1/playlists/0cAGaeebKBsklVdo15q0mm',\n",
       "     'id': '0cAGaeebKBsklVdo15q0mm',\n",
       "     'images': [{'height': None,\n",
       "       'url': 'https://i.scdn.co/image/ab67706c0000bebb3da95ddf8ecf25edcc10cdd9',\n",
       "       'width': None}],\n",
       "     'name': 'African blues | Guitars from Africa | Desert Blues | Sahel Sounds | Mandingo Music',\n",
       "     'owner': {'display_name': 'The Playlist Factory',\n",
       "      'external_urls': {'spotify': 'https://open.spotify.com/user/gillian_delvigne'},\n",
       "      'href': 'https://api.spotify.com/v1/users/gillian_delvigne',\n",
       "      'id': 'gillian_delvigne',\n",
       "      'type': 'user',\n",
       "      'uri': 'spotify:user:gillian_delvigne'},\n",
       "     'primary_color': None,\n",
       "     'public': None,\n",
       "     'snapshot_id': 'MzI5LDZkODQxMTY2OWRhYzc1ZTFiNzIyZmJkOWU3ZWJjNzlhMmMyNjkzZjY=',\n",
       "     'tracks': {'href': 'https://api.spotify.com/v1/playlists/0cAGaeebKBsklVdo15q0mm/tracks',\n",
       "      'total': 149},\n",
       "     'type': 'playlist',\n",
       "     'uri': 'spotify:playlist:0cAGaeebKBsklVdo15q0mm'},\n",
       "    {'collaborative': False,\n",
       "     'description': 'African Music | African Blues',\n",
       "     'external_urls': {'spotify': 'https://open.spotify.com/playlist/0QNsBD5Yz234aFxvLq5t39'},\n",
       "     'href': 'https://api.spotify.com/v1/playlists/0QNsBD5Yz234aFxvLq5t39',\n",
       "     'id': '0QNsBD5Yz234aFxvLq5t39',\n",
       "     'images': [{'height': None,\n",
       "       'url': 'https://i.scdn.co/image/ab67706c0000bebbf4b7c7e94179d01c338856c5',\n",
       "       'width': None}],\n",
       "     'name': 'African Music | African Blues',\n",
       "     'owner': {'display_name': 'Buddha’s Lounge',\n",
       "      'external_urls': {'spotify': 'https://open.spotify.com/user/j9r03qkjuusqvx4m3som9o6n3'},\n",
       "      'href': 'https://api.spotify.com/v1/users/j9r03qkjuusqvx4m3som9o6n3',\n",
       "      'id': 'j9r03qkjuusqvx4m3som9o6n3',\n",
       "      'type': 'user',\n",
       "      'uri': 'spotify:user:j9r03qkjuusqvx4m3som9o6n3'},\n",
       "     'primary_color': None,\n",
       "     'public': None,\n",
       "     'snapshot_id': 'MTI2LDc3NDE3NTg0N2M5MDk0NzhhMGJkNzY4NGNmNmFhMGE0NTQ0NzI3NjM=',\n",
       "     'tracks': {'href': 'https://api.spotify.com/v1/playlists/0QNsBD5Yz234aFxvLq5t39/tracks',\n",
       "      'total': 101},\n",
       "     'type': 'playlist',\n",
       "     'uri': 'spotify:playlist:0QNsBD5Yz234aFxvLq5t39'},\n",
       "    {'collaborative': False,\n",
       "     'description': 'The tracks heating up the continent right now!  Cover: <a href=\"https://open.spotify.com/artist/2zhossaaVN2pXg5p8o101X?si=0TqJMkGqRYu0Dz0MVcrvtQ\"> Bien</a>  ',\n",
       "     'external_urls': {'spotify': 'https://open.spotify.com/playlist/37i9dQZF1DWYkaDif7Ztbp'},\n",
       "     'href': 'https://api.spotify.com/v1/playlists/37i9dQZF1DWYkaDif7Ztbp',\n",
       "     'id': '37i9dQZF1DWYkaDif7Ztbp',\n",
       "     'images': [{'height': None,\n",
       "       'url': 'https://i.scdn.co/image/ab67706f00000003d6746d6e190d09332b89ea05',\n",
       "       'width': None}],\n",
       "     'name': 'African Heat',\n",
       "     'owner': {'display_name': 'Spotify',\n",
       "      'external_urls': {'spotify': 'https://open.spotify.com/user/spotify'},\n",
       "      'href': 'https://api.spotify.com/v1/users/spotify',\n",
       "      'id': 'spotify',\n",
       "      'type': 'user',\n",
       "      'uri': 'spotify:user:spotify'},\n",
       "     'primary_color': None,\n",
       "     'public': None,\n",
       "     'snapshot_id': 'MTY3NjU4ODQwMCwwMDAwMDAwMDQ1ZTJlMzIzYmYyZWQ4N2VlNjJiZGU4MWYwMjliODQ4',\n",
       "     'tracks': {'href': 'https://api.spotify.com/v1/playlists/37i9dQZF1DWYkaDif7Ztbp/tracks',\n",
       "      'total': 72},\n",
       "     'type': 'playlist',\n",
       "     'uri': 'spotify:playlist:37i9dQZF1DWYkaDif7Ztbp'},\n",
       "    {'collaborative': False,\n",
       "     'description': 'West africa - mali&#x2F;algeria&#x2F;nigeria. Desert blues&#x2F;tuareg&#x2F;ali farka toure',\n",
       "     'external_urls': {'spotify': 'https://open.spotify.com/playlist/3C3VmcWqn5MTou8foAPOEW'},\n",
       "     'href': 'https://api.spotify.com/v1/playlists/3C3VmcWqn5MTou8foAPOEW',\n",
       "     'id': '3C3VmcWqn5MTou8foAPOEW',\n",
       "     'images': [{'height': None,\n",
       "       'url': 'https://i.scdn.co/image/ab67706c0000bebbdfb2a36b44b6c2a6bd92c042',\n",
       "       'width': None}],\n",
       "     'name': 'West African blues',\n",
       "     'owner': {'display_name': 'Flo Lenehan',\n",
       "      'external_urls': {'spotify': 'https://open.spotify.com/user/11184359395'},\n",
       "      'href': 'https://api.spotify.com/v1/users/11184359395',\n",
       "      'id': '11184359395',\n",
       "      'type': 'user',\n",
       "      'uri': 'spotify:user:11184359395'},\n",
       "     'primary_color': None,\n",
       "     'public': None,\n",
       "     'snapshot_id': 'MjAxLDYxZjgyMzk0ZDYyNTNhMWIwMWZjNDQ2MTJkNzAyODQ0NGVmZmRmYzc=',\n",
       "     'tracks': {'href': 'https://api.spotify.com/v1/playlists/3C3VmcWqn5MTou8foAPOEW/tracks',\n",
       "      'total': 311},\n",
       "     'type': 'playlist',\n",
       "     'uri': 'spotify:playlist:3C3VmcWqn5MTou8foAPOEW'},\n",
       "    {'collaborative': False,\n",
       "     'description': '<a href=spotify:playlist:37i9dQZF1EIYUtHGM6ALmW>John Mayer</a>, <a href=spotify:playlist:37i9dQZF1EIYWMXuJGmiMD>Eric Clapton</a>, <a href=spotify:playlist:37i9dQZF1EIXKJFlF1GMJ0>KALEO</a> and more',\n",
       "     'external_urls': {'spotify': 'https://open.spotify.com/playlist/37i9dQZF1EQpz3DZCEoX3g'},\n",
       "     'href': 'https://api.spotify.com/v1/playlists/37i9dQZF1EQpz3DZCEoX3g',\n",
       "     'id': '37i9dQZF1EQpz3DZCEoX3g',\n",
       "     'images': [{'height': None,\n",
       "       'url': 'https://seed-mix-image.spotifycdn.com/v6/img/blues/0FI0kxP0BWurTz8cB8BBug/en/large',\n",
       "       'width': None}],\n",
       "     'name': 'Blues Mix',\n",
       "     'owner': {'display_name': 'Spotify',\n",
       "      'external_urls': {'spotify': 'https://open.spotify.com/user/spotify'},\n",
       "      'href': 'https://api.spotify.com/v1/users/spotify',\n",
       "      'id': 'spotify',\n",
       "      'type': 'user',\n",
       "      'uri': 'spotify:user:spotify'},\n",
       "     'primary_color': None,\n",
       "     'public': None,\n",
       "     'snapshot_id': 'MTY3NzA0NTYwMCwwMDAwMDAwMGU1NGZkZGI3ODhhYjMzZmNhOTNmZTk0ZDJjOTkwZjEw',\n",
       "     'tracks': {'href': 'https://api.spotify.com/v1/playlists/37i9dQZF1EQpz3DZCEoX3g/tracks',\n",
       "      'total': 50},\n",
       "     'type': 'playlist',\n",
       "     'uri': 'spotify:playlist:37i9dQZF1EQpz3DZCEoX3g'}],\n",
       "   'limit': 5,\n",
       "   'next': 'https://api.spotify.com/v1/search?query=African+blues&type=playlist&market=GB&offset=5&limit=5',\n",
       "   'offset': 0,\n",
       "   'previous': None,\n",
       "   'total': 387}},\n",
       " {'playlists': {'href': 'https://api.spotify.com/v1/search?query=African+blues&type=playlist&market=GB&offset=0&limit=5',\n",
       "   'items': [{'collaborative': False,\n",
       "     'description': 'Next time you listen to blues music remember where it actually comes from. Mali | Guinea | Gambia | Burkina Faso | Sierra Leone | Maghreb ... Curated by The Playlist Factory. Submissions : theplaylistfactory.com',\n",
       "     'external_urls': {'spotify': 'https://open.spotify.com/playlist/0cAGaeebKBsklVdo15q0mm'},\n",
       "     'href': 'https://api.spotify.com/v1/playlists/0cAGaeebKBsklVdo15q0mm',\n",
       "     'id': '0cAGaeebKBsklVdo15q0mm',\n",
       "     'images': [{'height': None,\n",
       "       'url': 'https://i.scdn.co/image/ab67706c0000bebb3da95ddf8ecf25edcc10cdd9',\n",
       "       'width': None}],\n",
       "     'name': 'African blues | Guitars from Africa | Desert Blues | Sahel Sounds | Mandingo Music',\n",
       "     'owner': {'display_name': 'The Playlist Factory',\n",
       "      'external_urls': {'spotify': 'https://open.spotify.com/user/gillian_delvigne'},\n",
       "      'href': 'https://api.spotify.com/v1/users/gillian_delvigne',\n",
       "      'id': 'gillian_delvigne',\n",
       "      'type': 'user',\n",
       "      'uri': 'spotify:user:gillian_delvigne'},\n",
       "     'primary_color': None,\n",
       "     'public': None,\n",
       "     'snapshot_id': 'MzI5LDZkODQxMTY2OWRhYzc1ZTFiNzIyZmJkOWU3ZWJjNzlhMmMyNjkzZjY=',\n",
       "     'tracks': {'href': 'https://api.spotify.com/v1/playlists/0cAGaeebKBsklVdo15q0mm/tracks',\n",
       "      'total': 149},\n",
       "     'type': 'playlist',\n",
       "     'uri': 'spotify:playlist:0cAGaeebKBsklVdo15q0mm'},\n",
       "    {'collaborative': False,\n",
       "     'description': 'African Music | African Blues',\n",
       "     'external_urls': {'spotify': 'https://open.spotify.com/playlist/0QNsBD5Yz234aFxvLq5t39'},\n",
       "     'href': 'https://api.spotify.com/v1/playlists/0QNsBD5Yz234aFxvLq5t39',\n",
       "     'id': '0QNsBD5Yz234aFxvLq5t39',\n",
       "     'images': [{'height': None,\n",
       "       'url': 'https://i.scdn.co/image/ab67706c0000bebbf4b7c7e94179d01c338856c5',\n",
       "       'width': None}],\n",
       "     'name': 'African Music | African Blues',\n",
       "     'owner': {'display_name': 'Buddha’s Lounge',\n",
       "      'external_urls': {'spotify': 'https://open.spotify.com/user/j9r03qkjuusqvx4m3som9o6n3'},\n",
       "      'href': 'https://api.spotify.com/v1/users/j9r03qkjuusqvx4m3som9o6n3',\n",
       "      'id': 'j9r03qkjuusqvx4m3som9o6n3',\n",
       "      'type': 'user',\n",
       "      'uri': 'spotify:user:j9r03qkjuusqvx4m3som9o6n3'},\n",
       "     'primary_color': None,\n",
       "     'public': None,\n",
       "     'snapshot_id': 'MTI2LDc3NDE3NTg0N2M5MDk0NzhhMGJkNzY4NGNmNmFhMGE0NTQ0NzI3NjM=',\n",
       "     'tracks': {'href': 'https://api.spotify.com/v1/playlists/0QNsBD5Yz234aFxvLq5t39/tracks',\n",
       "      'total': 101},\n",
       "     'type': 'playlist',\n",
       "     'uri': 'spotify:playlist:0QNsBD5Yz234aFxvLq5t39'},\n",
       "    {'collaborative': False,\n",
       "     'description': 'The tracks heating up the continent right now!  Cover: <a href=\"https://open.spotify.com/artist/2zhossaaVN2pXg5p8o101X?si=0TqJMkGqRYu0Dz0MVcrvtQ\"> Bien</a>  ',\n",
       "     'external_urls': {'spotify': 'https://open.spotify.com/playlist/37i9dQZF1DWYkaDif7Ztbp'},\n",
       "     'href': 'https://api.spotify.com/v1/playlists/37i9dQZF1DWYkaDif7Ztbp',\n",
       "     'id': '37i9dQZF1DWYkaDif7Ztbp',\n",
       "     'images': [{'height': None,\n",
       "       'url': 'https://i.scdn.co/image/ab67706f00000003d6746d6e190d09332b89ea05',\n",
       "       'width': None}],\n",
       "     'name': 'African Heat',\n",
       "     'owner': {'display_name': 'Spotify',\n",
       "      'external_urls': {'spotify': 'https://open.spotify.com/user/spotify'},\n",
       "      'href': 'https://api.spotify.com/v1/users/spotify',\n",
       "      'id': 'spotify',\n",
       "      'type': 'user',\n",
       "      'uri': 'spotify:user:spotify'},\n",
       "     'primary_color': None,\n",
       "     'public': None,\n",
       "     'snapshot_id': 'MTY3NjU4ODQwMCwwMDAwMDAwMDQ1ZTJlMzIzYmYyZWQ4N2VlNjJiZGU4MWYwMjliODQ4',\n",
       "     'tracks': {'href': 'https://api.spotify.com/v1/playlists/37i9dQZF1DWYkaDif7Ztbp/tracks',\n",
       "      'total': 72},\n",
       "     'type': 'playlist',\n",
       "     'uri': 'spotify:playlist:37i9dQZF1DWYkaDif7Ztbp'},\n",
       "    {'collaborative': False,\n",
       "     'description': 'West africa - mali&#x2F;algeria&#x2F;nigeria. Desert blues&#x2F;tuareg&#x2F;ali farka toure',\n",
       "     'external_urls': {'spotify': 'https://open.spotify.com/playlist/3C3VmcWqn5MTou8foAPOEW'},\n",
       "     'href': 'https://api.spotify.com/v1/playlists/3C3VmcWqn5MTou8foAPOEW',\n",
       "     'id': '3C3VmcWqn5MTou8foAPOEW',\n",
       "     'images': [{'height': None,\n",
       "       'url': 'https://i.scdn.co/image/ab67706c0000bebbdfb2a36b44b6c2a6bd92c042',\n",
       "       'width': None}],\n",
       "     'name': 'West African blues',\n",
       "     'owner': {'display_name': 'Flo Lenehan',\n",
       "      'external_urls': {'spotify': 'https://open.spotify.com/user/11184359395'},\n",
       "      'href': 'https://api.spotify.com/v1/users/11184359395',\n",
       "      'id': '11184359395',\n",
       "      'type': 'user',\n",
       "      'uri': 'spotify:user:11184359395'},\n",
       "     'primary_color': None,\n",
       "     'public': None,\n",
       "     'snapshot_id': 'MjAxLDYxZjgyMzk0ZDYyNTNhMWIwMWZjNDQ2MTJkNzAyODQ0NGVmZmRmYzc=',\n",
       "     'tracks': {'href': 'https://api.spotify.com/v1/playlists/3C3VmcWqn5MTou8foAPOEW/tracks',\n",
       "      'total': 311},\n",
       "     'type': 'playlist',\n",
       "     'uri': 'spotify:playlist:3C3VmcWqn5MTou8foAPOEW'},\n",
       "    {'collaborative': False,\n",
       "     'description': '<a href=spotify:playlist:37i9dQZF1EIYUtHGM6ALmW>John Mayer</a>, <a href=spotify:playlist:37i9dQZF1EIYWMXuJGmiMD>Eric Clapton</a>, <a href=spotify:playlist:37i9dQZF1EIXKJFlF1GMJ0>KALEO</a> and more',\n",
       "     'external_urls': {'spotify': 'https://open.spotify.com/playlist/37i9dQZF1EQpz3DZCEoX3g'},\n",
       "     'href': 'https://api.spotify.com/v1/playlists/37i9dQZF1EQpz3DZCEoX3g',\n",
       "     'id': '37i9dQZF1EQpz3DZCEoX3g',\n",
       "     'images': [{'height': None,\n",
       "       'url': 'https://seed-mix-image.spotifycdn.com/v6/img/blues/0FI0kxP0BWurTz8cB8BBug/en/large',\n",
       "       'width': None}],\n",
       "     'name': 'Blues Mix',\n",
       "     'owner': {'display_name': 'Spotify',\n",
       "      'external_urls': {'spotify': 'https://open.spotify.com/user/spotify'},\n",
       "      'href': 'https://api.spotify.com/v1/users/spotify',\n",
       "      'id': 'spotify',\n",
       "      'type': 'user',\n",
       "      'uri': 'spotify:user:spotify'},\n",
       "     'primary_color': None,\n",
       "     'public': None,\n",
       "     'snapshot_id': 'MTY3NzA0NTYwMCwwMDAwMDAwMGU1NGZkZGI3ODhhYjMzZmNhOTNmZTk0ZDJjOTkwZjEw',\n",
       "     'tracks': {'href': 'https://api.spotify.com/v1/playlists/37i9dQZF1EQpz3DZCEoX3g/tracks',\n",
       "      'total': 50},\n",
       "     'type': 'playlist',\n",
       "     'uri': 'spotify:playlist:37i9dQZF1EQpz3DZCEoX3g'}],\n",
       "   'limit': 5,\n",
       "   'next': 'https://api.spotify.com/v1/search?query=African+blues&type=playlist&market=GB&offset=5&limit=5',\n",
       "   'offset': 0,\n",
       "   'previous': None,\n",
       "   'total': 387}},\n",
       " {'playlists': {'href': 'https://api.spotify.com/v1/search?query=African+blues&type=playlist&market=GB&offset=0&limit=5',\n",
       "   'items': [{'collaborative': False,\n",
       "     'description': 'Next time you listen to blues music remember where it actually comes from. Mali | Guinea | Gambia | Burkina Faso | Sierra Leone | Maghreb ... Curated by The Playlist Factory. Submissions : theplaylistfactory.com',\n",
       "     'external_urls': {'spotify': 'https://open.spotify.com/playlist/0cAGaeebKBsklVdo15q0mm'},\n",
       "     'href': 'https://api.spotify.com/v1/playlists/0cAGaeebKBsklVdo15q0mm',\n",
       "     'id': '0cAGaeebKBsklVdo15q0mm',\n",
       "     'images': [{'height': None,\n",
       "       'url': 'https://i.scdn.co/image/ab67706c0000bebb3da95ddf8ecf25edcc10cdd9',\n",
       "       'width': None}],\n",
       "     'name': 'African blues | Guitars from Africa | Desert Blues | Sahel Sounds | Mandingo Music',\n",
       "     'owner': {'display_name': 'The Playlist Factory',\n",
       "      'external_urls': {'spotify': 'https://open.spotify.com/user/gillian_delvigne'},\n",
       "      'href': 'https://api.spotify.com/v1/users/gillian_delvigne',\n",
       "      'id': 'gillian_delvigne',\n",
       "      'type': 'user',\n",
       "      'uri': 'spotify:user:gillian_delvigne'},\n",
       "     'primary_color': None,\n",
       "     'public': None,\n",
       "     'snapshot_id': 'MzI5LDZkODQxMTY2OWRhYzc1ZTFiNzIyZmJkOWU3ZWJjNzlhMmMyNjkzZjY=',\n",
       "     'tracks': {'href': 'https://api.spotify.com/v1/playlists/0cAGaeebKBsklVdo15q0mm/tracks',\n",
       "      'total': 149},\n",
       "     'type': 'playlist',\n",
       "     'uri': 'spotify:playlist:0cAGaeebKBsklVdo15q0mm'},\n",
       "    {'collaborative': False,\n",
       "     'description': 'African Music | African Blues',\n",
       "     'external_urls': {'spotify': 'https://open.spotify.com/playlist/0QNsBD5Yz234aFxvLq5t39'},\n",
       "     'href': 'https://api.spotify.com/v1/playlists/0QNsBD5Yz234aFxvLq5t39',\n",
       "     'id': '0QNsBD5Yz234aFxvLq5t39',\n",
       "     'images': [{'height': None,\n",
       "       'url': 'https://i.scdn.co/image/ab67706c0000bebbf4b7c7e94179d01c338856c5',\n",
       "       'width': None}],\n",
       "     'name': 'African Music | African Blues',\n",
       "     'owner': {'display_name': 'Buddha’s Lounge',\n",
       "      'external_urls': {'spotify': 'https://open.spotify.com/user/j9r03qkjuusqvx4m3som9o6n3'},\n",
       "      'href': 'https://api.spotify.com/v1/users/j9r03qkjuusqvx4m3som9o6n3',\n",
       "      'id': 'j9r03qkjuusqvx4m3som9o6n3',\n",
       "      'type': 'user',\n",
       "      'uri': 'spotify:user:j9r03qkjuusqvx4m3som9o6n3'},\n",
       "     'primary_color': None,\n",
       "     'public': None,\n",
       "     'snapshot_id': 'MTI2LDc3NDE3NTg0N2M5MDk0NzhhMGJkNzY4NGNmNmFhMGE0NTQ0NzI3NjM=',\n",
       "     'tracks': {'href': 'https://api.spotify.com/v1/playlists/0QNsBD5Yz234aFxvLq5t39/tracks',\n",
       "      'total': 101},\n",
       "     'type': 'playlist',\n",
       "     'uri': 'spotify:playlist:0QNsBD5Yz234aFxvLq5t39'},\n",
       "    {'collaborative': False,\n",
       "     'description': 'The tracks heating up the continent right now!  Cover: <a href=\"https://open.spotify.com/artist/2zhossaaVN2pXg5p8o101X?si=0TqJMkGqRYu0Dz0MVcrvtQ\"> Bien</a>  ',\n",
       "     'external_urls': {'spotify': 'https://open.spotify.com/playlist/37i9dQZF1DWYkaDif7Ztbp'},\n",
       "     'href': 'https://api.spotify.com/v1/playlists/37i9dQZF1DWYkaDif7Ztbp',\n",
       "     'id': '37i9dQZF1DWYkaDif7Ztbp',\n",
       "     'images': [{'height': None,\n",
       "       'url': 'https://i.scdn.co/image/ab67706f00000003d6746d6e190d09332b89ea05',\n",
       "       'width': None}],\n",
       "     'name': 'African Heat',\n",
       "     'owner': {'display_name': 'Spotify',\n",
       "      'external_urls': {'spotify': 'https://open.spotify.com/user/spotify'},\n",
       "      'href': 'https://api.spotify.com/v1/users/spotify',\n",
       "      'id': 'spotify',\n",
       "      'type': 'user',\n",
       "      'uri': 'spotify:user:spotify'},\n",
       "     'primary_color': None,\n",
       "     'public': None,\n",
       "     'snapshot_id': 'MTY3NjU4ODQwMCwwMDAwMDAwMDQ1ZTJlMzIzYmYyZWQ4N2VlNjJiZGU4MWYwMjliODQ4',\n",
       "     'tracks': {'href': 'https://api.spotify.com/v1/playlists/37i9dQZF1DWYkaDif7Ztbp/tracks',\n",
       "      'total': 72},\n",
       "     'type': 'playlist',\n",
       "     'uri': 'spotify:playlist:37i9dQZF1DWYkaDif7Ztbp'},\n",
       "    {'collaborative': False,\n",
       "     'description': 'West africa - mali&#x2F;algeria&#x2F;nigeria. Desert blues&#x2F;tuareg&#x2F;ali farka toure',\n",
       "     'external_urls': {'spotify': 'https://open.spotify.com/playlist/3C3VmcWqn5MTou8foAPOEW'},\n",
       "     'href': 'https://api.spotify.com/v1/playlists/3C3VmcWqn5MTou8foAPOEW',\n",
       "     'id': '3C3VmcWqn5MTou8foAPOEW',\n",
       "     'images': [{'height': None,\n",
       "       'url': 'https://i.scdn.co/image/ab67706c0000bebbdfb2a36b44b6c2a6bd92c042',\n",
       "       'width': None}],\n",
       "     'name': 'West African blues',\n",
       "     'owner': {'display_name': 'Flo Lenehan',\n",
       "      'external_urls': {'spotify': 'https://open.spotify.com/user/11184359395'},\n",
       "      'href': 'https://api.spotify.com/v1/users/11184359395',\n",
       "      'id': '11184359395',\n",
       "      'type': 'user',\n",
       "      'uri': 'spotify:user:11184359395'},\n",
       "     'primary_color': None,\n",
       "     'public': None,\n",
       "     'snapshot_id': 'MjAxLDYxZjgyMzk0ZDYyNTNhMWIwMWZjNDQ2MTJkNzAyODQ0NGVmZmRmYzc=',\n",
       "     'tracks': {'href': 'https://api.spotify.com/v1/playlists/3C3VmcWqn5MTou8foAPOEW/tracks',\n",
       "      'total': 311},\n",
       "     'type': 'playlist',\n",
       "     'uri': 'spotify:playlist:3C3VmcWqn5MTou8foAPOEW'},\n",
       "    {'collaborative': False,\n",
       "     'description': '<a href=spotify:playlist:37i9dQZF1EIYUtHGM6ALmW>John Mayer</a>, <a href=spotify:playlist:37i9dQZF1EIYWMXuJGmiMD>Eric Clapton</a>, <a href=spotify:playlist:37i9dQZF1EIXKJFlF1GMJ0>KALEO</a> and more',\n",
       "     'external_urls': {'spotify': 'https://open.spotify.com/playlist/37i9dQZF1EQpz3DZCEoX3g'},\n",
       "     'href': 'https://api.spotify.com/v1/playlists/37i9dQZF1EQpz3DZCEoX3g',\n",
       "     'id': '37i9dQZF1EQpz3DZCEoX3g',\n",
       "     'images': [{'height': None,\n",
       "       'url': 'https://seed-mix-image.spotifycdn.com/v6/img/blues/0FI0kxP0BWurTz8cB8BBug/en/large',\n",
       "       'width': None}],\n",
       "     'name': 'Blues Mix',\n",
       "     'owner': {'display_name': 'Spotify',\n",
       "      'external_urls': {'spotify': 'https://open.spotify.com/user/spotify'},\n",
       "      'href': 'https://api.spotify.com/v1/users/spotify',\n",
       "      'id': 'spotify',\n",
       "      'type': 'user',\n",
       "      'uri': 'spotify:user:spotify'},\n",
       "     'primary_color': None,\n",
       "     'public': None,\n",
       "     'snapshot_id': 'MTY3NzA0NTYwMCwwMDAwMDAwMGU1NGZkZGI3ODhhYjMzZmNhOTNmZTk0ZDJjOTkwZjEw',\n",
       "     'tracks': {'href': 'https://api.spotify.com/v1/playlists/37i9dQZF1EQpz3DZCEoX3g/tracks',\n",
       "      'total': 50},\n",
       "     'type': 'playlist',\n",
       "     'uri': 'spotify:playlist:37i9dQZF1EQpz3DZCEoX3g'}],\n",
       "   'limit': 5,\n",
       "   'next': 'https://api.spotify.com/v1/search?query=African+blues&type=playlist&market=GB&offset=5&limit=5',\n",
       "   'offset': 0,\n",
       "   'previous': None,\n",
       "   'total': 387}},\n",
       " {'playlists': {'href': 'https://api.spotify.com/v1/search?query=African+blues&type=playlist&market=GB&offset=0&limit=5',\n",
       "   'items': [{'collaborative': False,\n",
       "     'description': 'Next time you listen to blues music remember where it actually comes from. Mali | Guinea | Gambia | Burkina Faso | Sierra Leone | Maghreb ... Curated by The Playlist Factory. Submissions : theplaylistfactory.com',\n",
       "     'external_urls': {'spotify': 'https://open.spotify.com/playlist/0cAGaeebKBsklVdo15q0mm'},\n",
       "     'href': 'https://api.spotify.com/v1/playlists/0cAGaeebKBsklVdo15q0mm',\n",
       "     'id': '0cAGaeebKBsklVdo15q0mm',\n",
       "     'images': [{'height': None,\n",
       "       'url': 'https://i.scdn.co/image/ab67706c0000bebb3da95ddf8ecf25edcc10cdd9',\n",
       "       'width': None}],\n",
       "     'name': 'African blues | Guitars from Africa | Desert Blues | Sahel Sounds | Mandingo Music',\n",
       "     'owner': {'display_name': 'The Playlist Factory',\n",
       "      'external_urls': {'spotify': 'https://open.spotify.com/user/gillian_delvigne'},\n",
       "      'href': 'https://api.spotify.com/v1/users/gillian_delvigne',\n",
       "      'id': 'gillian_delvigne',\n",
       "      'type': 'user',\n",
       "      'uri': 'spotify:user:gillian_delvigne'},\n",
       "     'primary_color': None,\n",
       "     'public': None,\n",
       "     'snapshot_id': 'MzI5LDZkODQxMTY2OWRhYzc1ZTFiNzIyZmJkOWU3ZWJjNzlhMmMyNjkzZjY=',\n",
       "     'tracks': {'href': 'https://api.spotify.com/v1/playlists/0cAGaeebKBsklVdo15q0mm/tracks',\n",
       "      'total': 149},\n",
       "     'type': 'playlist',\n",
       "     'uri': 'spotify:playlist:0cAGaeebKBsklVdo15q0mm'},\n",
       "    {'collaborative': False,\n",
       "     'description': 'African Music | African Blues',\n",
       "     'external_urls': {'spotify': 'https://open.spotify.com/playlist/0QNsBD5Yz234aFxvLq5t39'},\n",
       "     'href': 'https://api.spotify.com/v1/playlists/0QNsBD5Yz234aFxvLq5t39',\n",
       "     'id': '0QNsBD5Yz234aFxvLq5t39',\n",
       "     'images': [{'height': None,\n",
       "       'url': 'https://i.scdn.co/image/ab67706c0000bebbf4b7c7e94179d01c338856c5',\n",
       "       'width': None}],\n",
       "     'name': 'African Music | African Blues',\n",
       "     'owner': {'display_name': 'Buddha’s Lounge',\n",
       "      'external_urls': {'spotify': 'https://open.spotify.com/user/j9r03qkjuusqvx4m3som9o6n3'},\n",
       "      'href': 'https://api.spotify.com/v1/users/j9r03qkjuusqvx4m3som9o6n3',\n",
       "      'id': 'j9r03qkjuusqvx4m3som9o6n3',\n",
       "      'type': 'user',\n",
       "      'uri': 'spotify:user:j9r03qkjuusqvx4m3som9o6n3'},\n",
       "     'primary_color': None,\n",
       "     'public': None,\n",
       "     'snapshot_id': 'MTI2LDc3NDE3NTg0N2M5MDk0NzhhMGJkNzY4NGNmNmFhMGE0NTQ0NzI3NjM=',\n",
       "     'tracks': {'href': 'https://api.spotify.com/v1/playlists/0QNsBD5Yz234aFxvLq5t39/tracks',\n",
       "      'total': 101},\n",
       "     'type': 'playlist',\n",
       "     'uri': 'spotify:playlist:0QNsBD5Yz234aFxvLq5t39'},\n",
       "    {'collaborative': False,\n",
       "     'description': 'The tracks heating up the continent right now!  Cover: <a href=\"https://open.spotify.com/artist/2zhossaaVN2pXg5p8o101X?si=0TqJMkGqRYu0Dz0MVcrvtQ\"> Bien</a>  ',\n",
       "     'external_urls': {'spotify': 'https://open.spotify.com/playlist/37i9dQZF1DWYkaDif7Ztbp'},\n",
       "     'href': 'https://api.spotify.com/v1/playlists/37i9dQZF1DWYkaDif7Ztbp',\n",
       "     'id': '37i9dQZF1DWYkaDif7Ztbp',\n",
       "     'images': [{'height': None,\n",
       "       'url': 'https://i.scdn.co/image/ab67706f00000003d6746d6e190d09332b89ea05',\n",
       "       'width': None}],\n",
       "     'name': 'African Heat',\n",
       "     'owner': {'display_name': 'Spotify',\n",
       "      'external_urls': {'spotify': 'https://open.spotify.com/user/spotify'},\n",
       "      'href': 'https://api.spotify.com/v1/users/spotify',\n",
       "      'id': 'spotify',\n",
       "      'type': 'user',\n",
       "      'uri': 'spotify:user:spotify'},\n",
       "     'primary_color': None,\n",
       "     'public': None,\n",
       "     'snapshot_id': 'MTY3NjU4ODQwMCwwMDAwMDAwMDQ1ZTJlMzIzYmYyZWQ4N2VlNjJiZGU4MWYwMjliODQ4',\n",
       "     'tracks': {'href': 'https://api.spotify.com/v1/playlists/37i9dQZF1DWYkaDif7Ztbp/tracks',\n",
       "      'total': 72},\n",
       "     'type': 'playlist',\n",
       "     'uri': 'spotify:playlist:37i9dQZF1DWYkaDif7Ztbp'},\n",
       "    {'collaborative': False,\n",
       "     'description': 'West africa - mali&#x2F;algeria&#x2F;nigeria. Desert blues&#x2F;tuareg&#x2F;ali farka toure',\n",
       "     'external_urls': {'spotify': 'https://open.spotify.com/playlist/3C3VmcWqn5MTou8foAPOEW'},\n",
       "     'href': 'https://api.spotify.com/v1/playlists/3C3VmcWqn5MTou8foAPOEW',\n",
       "     'id': '3C3VmcWqn5MTou8foAPOEW',\n",
       "     'images': [{'height': None,\n",
       "       'url': 'https://i.scdn.co/image/ab67706c0000bebbdfb2a36b44b6c2a6bd92c042',\n",
       "       'width': None}],\n",
       "     'name': 'West African blues',\n",
       "     'owner': {'display_name': 'Flo Lenehan',\n",
       "      'external_urls': {'spotify': 'https://open.spotify.com/user/11184359395'},\n",
       "      'href': 'https://api.spotify.com/v1/users/11184359395',\n",
       "      'id': '11184359395',\n",
       "      'type': 'user',\n",
       "      'uri': 'spotify:user:11184359395'},\n",
       "     'primary_color': None,\n",
       "     'public': None,\n",
       "     'snapshot_id': 'MjAxLDYxZjgyMzk0ZDYyNTNhMWIwMWZjNDQ2MTJkNzAyODQ0NGVmZmRmYzc=',\n",
       "     'tracks': {'href': 'https://api.spotify.com/v1/playlists/3C3VmcWqn5MTou8foAPOEW/tracks',\n",
       "      'total': 311},\n",
       "     'type': 'playlist',\n",
       "     'uri': 'spotify:playlist:3C3VmcWqn5MTou8foAPOEW'},\n",
       "    {'collaborative': False,\n",
       "     'description': '<a href=spotify:playlist:37i9dQZF1EIYUtHGM6ALmW>John Mayer</a>, <a href=spotify:playlist:37i9dQZF1EIYWMXuJGmiMD>Eric Clapton</a>, <a href=spotify:playlist:37i9dQZF1EIXKJFlF1GMJ0>KALEO</a> and more',\n",
       "     'external_urls': {'spotify': 'https://open.spotify.com/playlist/37i9dQZF1EQpz3DZCEoX3g'},\n",
       "     'href': 'https://api.spotify.com/v1/playlists/37i9dQZF1EQpz3DZCEoX3g',\n",
       "     'id': '37i9dQZF1EQpz3DZCEoX3g',\n",
       "     'images': [{'height': None,\n",
       "       'url': 'https://seed-mix-image.spotifycdn.com/v6/img/blues/0FI0kxP0BWurTz8cB8BBug/en/large',\n",
       "       'width': None}],\n",
       "     'name': 'Blues Mix',\n",
       "     'owner': {'display_name': 'Spotify',\n",
       "      'external_urls': {'spotify': 'https://open.spotify.com/user/spotify'},\n",
       "      'href': 'https://api.spotify.com/v1/users/spotify',\n",
       "      'id': 'spotify',\n",
       "      'type': 'user',\n",
       "      'uri': 'spotify:user:spotify'},\n",
       "     'primary_color': None,\n",
       "     'public': None,\n",
       "     'snapshot_id': 'MTY3NzA0NTYwMCwwMDAwMDAwMGU1NGZkZGI3ODhhYjMzZmNhOTNmZTk0ZDJjOTkwZjEw',\n",
       "     'tracks': {'href': 'https://api.spotify.com/v1/playlists/37i9dQZF1EQpz3DZCEoX3g/tracks',\n",
       "      'total': 50},\n",
       "     'type': 'playlist',\n",
       "     'uri': 'spotify:playlist:37i9dQZF1EQpz3DZCEoX3g'}],\n",
       "   'limit': 5,\n",
       "   'next': 'https://api.spotify.com/v1/search?query=African+blues&type=playlist&market=GB&offset=5&limit=5',\n",
       "   'offset': 0,\n",
       "   'previous': None,\n",
       "   'total': 387}},\n",
       " {'playlists': {'href': 'https://api.spotify.com/v1/search?query=African+blues&type=playlist&market=GB&offset=0&limit=5',\n",
       "   'items': [{'collaborative': False,\n",
       "     'description': 'Next time you listen to blues music remember where it actually comes from. Mali | Guinea | Gambia | Burkina Faso | Sierra Leone | Maghreb ... Curated by The Playlist Factory. Submissions : theplaylistfactory.com',\n",
       "     'external_urls': {'spotify': 'https://open.spotify.com/playlist/0cAGaeebKBsklVdo15q0mm'},\n",
       "     'href': 'https://api.spotify.com/v1/playlists/0cAGaeebKBsklVdo15q0mm',\n",
       "     'id': '0cAGaeebKBsklVdo15q0mm',\n",
       "     'images': [{'height': None,\n",
       "       'url': 'https://i.scdn.co/image/ab67706c0000bebb3da95ddf8ecf25edcc10cdd9',\n",
       "       'width': None}],\n",
       "     'name': 'African blues | Guitars from Africa | Desert Blues | Sahel Sounds | Mandingo Music',\n",
       "     'owner': {'display_name': 'The Playlist Factory',\n",
       "      'external_urls': {'spotify': 'https://open.spotify.com/user/gillian_delvigne'},\n",
       "      'href': 'https://api.spotify.com/v1/users/gillian_delvigne',\n",
       "      'id': 'gillian_delvigne',\n",
       "      'type': 'user',\n",
       "      'uri': 'spotify:user:gillian_delvigne'},\n",
       "     'primary_color': None,\n",
       "     'public': None,\n",
       "     'snapshot_id': 'MzI5LDZkODQxMTY2OWRhYzc1ZTFiNzIyZmJkOWU3ZWJjNzlhMmMyNjkzZjY=',\n",
       "     'tracks': {'href': 'https://api.spotify.com/v1/playlists/0cAGaeebKBsklVdo15q0mm/tracks',\n",
       "      'total': 149},\n",
       "     'type': 'playlist',\n",
       "     'uri': 'spotify:playlist:0cAGaeebKBsklVdo15q0mm'},\n",
       "    {'collaborative': False,\n",
       "     'description': 'African Music | African Blues',\n",
       "     'external_urls': {'spotify': 'https://open.spotify.com/playlist/0QNsBD5Yz234aFxvLq5t39'},\n",
       "     'href': 'https://api.spotify.com/v1/playlists/0QNsBD5Yz234aFxvLq5t39',\n",
       "     'id': '0QNsBD5Yz234aFxvLq5t39',\n",
       "     'images': [{'height': None,\n",
       "       'url': 'https://i.scdn.co/image/ab67706c0000bebbf4b7c7e94179d01c338856c5',\n",
       "       'width': None}],\n",
       "     'name': 'African Music | African Blues',\n",
       "     'owner': {'display_name': 'Buddha’s Lounge',\n",
       "      'external_urls': {'spotify': 'https://open.spotify.com/user/j9r03qkjuusqvx4m3som9o6n3'},\n",
       "      'href': 'https://api.spotify.com/v1/users/j9r03qkjuusqvx4m3som9o6n3',\n",
       "      'id': 'j9r03qkjuusqvx4m3som9o6n3',\n",
       "      'type': 'user',\n",
       "      'uri': 'spotify:user:j9r03qkjuusqvx4m3som9o6n3'},\n",
       "     'primary_color': None,\n",
       "     'public': None,\n",
       "     'snapshot_id': 'MTI2LDc3NDE3NTg0N2M5MDk0NzhhMGJkNzY4NGNmNmFhMGE0NTQ0NzI3NjM=',\n",
       "     'tracks': {'href': 'https://api.spotify.com/v1/playlists/0QNsBD5Yz234aFxvLq5t39/tracks',\n",
       "      'total': 101},\n",
       "     'type': 'playlist',\n",
       "     'uri': 'spotify:playlist:0QNsBD5Yz234aFxvLq5t39'},\n",
       "    {'collaborative': False,\n",
       "     'description': 'The tracks heating up the continent right now!  Cover: <a href=\"https://open.spotify.com/artist/2zhossaaVN2pXg5p8o101X?si=0TqJMkGqRYu0Dz0MVcrvtQ\"> Bien</a>  ',\n",
       "     'external_urls': {'spotify': 'https://open.spotify.com/playlist/37i9dQZF1DWYkaDif7Ztbp'},\n",
       "     'href': 'https://api.spotify.com/v1/playlists/37i9dQZF1DWYkaDif7Ztbp',\n",
       "     'id': '37i9dQZF1DWYkaDif7Ztbp',\n",
       "     'images': [{'height': None,\n",
       "       'url': 'https://i.scdn.co/image/ab67706f00000003d6746d6e190d09332b89ea05',\n",
       "       'width': None}],\n",
       "     'name': 'African Heat',\n",
       "     'owner': {'display_name': 'Spotify',\n",
       "      'external_urls': {'spotify': 'https://open.spotify.com/user/spotify'},\n",
       "      'href': 'https://api.spotify.com/v1/users/spotify',\n",
       "      'id': 'spotify',\n",
       "      'type': 'user',\n",
       "      'uri': 'spotify:user:spotify'},\n",
       "     'primary_color': None,\n",
       "     'public': None,\n",
       "     'snapshot_id': 'MTY3NjU4ODQwMCwwMDAwMDAwMDQ1ZTJlMzIzYmYyZWQ4N2VlNjJiZGU4MWYwMjliODQ4',\n",
       "     'tracks': {'href': 'https://api.spotify.com/v1/playlists/37i9dQZF1DWYkaDif7Ztbp/tracks',\n",
       "      'total': 72},\n",
       "     'type': 'playlist',\n",
       "     'uri': 'spotify:playlist:37i9dQZF1DWYkaDif7Ztbp'},\n",
       "    {'collaborative': False,\n",
       "     'description': 'West africa - mali&#x2F;algeria&#x2F;nigeria. Desert blues&#x2F;tuareg&#x2F;ali farka toure',\n",
       "     'external_urls': {'spotify': 'https://open.spotify.com/playlist/3C3VmcWqn5MTou8foAPOEW'},\n",
       "     'href': 'https://api.spotify.com/v1/playlists/3C3VmcWqn5MTou8foAPOEW',\n",
       "     'id': '3C3VmcWqn5MTou8foAPOEW',\n",
       "     'images': [{'height': None,\n",
       "       'url': 'https://i.scdn.co/image/ab67706c0000bebbdfb2a36b44b6c2a6bd92c042',\n",
       "       'width': None}],\n",
       "     'name': 'West African blues',\n",
       "     'owner': {'display_name': 'Flo Lenehan',\n",
       "      'external_urls': {'spotify': 'https://open.spotify.com/user/11184359395'},\n",
       "      'href': 'https://api.spotify.com/v1/users/11184359395',\n",
       "      'id': '11184359395',\n",
       "      'type': 'user',\n",
       "      'uri': 'spotify:user:11184359395'},\n",
       "     'primary_color': None,\n",
       "     'public': None,\n",
       "     'snapshot_id': 'MjAxLDYxZjgyMzk0ZDYyNTNhMWIwMWZjNDQ2MTJkNzAyODQ0NGVmZmRmYzc=',\n",
       "     'tracks': {'href': 'https://api.spotify.com/v1/playlists/3C3VmcWqn5MTou8foAPOEW/tracks',\n",
       "      'total': 311},\n",
       "     'type': 'playlist',\n",
       "     'uri': 'spotify:playlist:3C3VmcWqn5MTou8foAPOEW'},\n",
       "    {'collaborative': False,\n",
       "     'description': '<a href=spotify:playlist:37i9dQZF1EIYUtHGM6ALmW>John Mayer</a>, <a href=spotify:playlist:37i9dQZF1EIYWMXuJGmiMD>Eric Clapton</a>, <a href=spotify:playlist:37i9dQZF1EIXKJFlF1GMJ0>KALEO</a> and more',\n",
       "     'external_urls': {'spotify': 'https://open.spotify.com/playlist/37i9dQZF1EQpz3DZCEoX3g'},\n",
       "     'href': 'https://api.spotify.com/v1/playlists/37i9dQZF1EQpz3DZCEoX3g',\n",
       "     'id': '37i9dQZF1EQpz3DZCEoX3g',\n",
       "     'images': [{'height': None,\n",
       "       'url': 'https://seed-mix-image.spotifycdn.com/v6/img/blues/0FI0kxP0BWurTz8cB8BBug/en/large',\n",
       "       'width': None}],\n",
       "     'name': 'Blues Mix',\n",
       "     'owner': {'display_name': 'Spotify',\n",
       "      'external_urls': {'spotify': 'https://open.spotify.com/user/spotify'},\n",
       "      'href': 'https://api.spotify.com/v1/users/spotify',\n",
       "      'id': 'spotify',\n",
       "      'type': 'user',\n",
       "      'uri': 'spotify:user:spotify'},\n",
       "     'primary_color': None,\n",
       "     'public': None,\n",
       "     'snapshot_id': 'MTY3NzA0NTYwMCwwMDAwMDAwMGU1NGZkZGI3ODhhYjMzZmNhOTNmZTk0ZDJjOTkwZjEw',\n",
       "     'tracks': {'href': 'https://api.spotify.com/v1/playlists/37i9dQZF1EQpz3DZCEoX3g/tracks',\n",
       "      'total': 50},\n",
       "     'type': 'playlist',\n",
       "     'uri': 'spotify:playlist:37i9dQZF1EQpz3DZCEoX3g'}],\n",
       "   'limit': 5,\n",
       "   'next': 'https://api.spotify.com/v1/search?query=African+blues&type=playlist&market=GB&offset=5&limit=5',\n",
       "   'offset': 0,\n",
       "   'previous': None,\n",
       "   'total': 387}},\n",
       " {'playlists': {'href': 'https://api.spotify.com/v1/search?query=African+blues&type=playlist&market=GB&offset=0&limit=5',\n",
       "   'items': [{'collaborative': False,\n",
       "     'description': 'Next time you listen to blues music remember where it actually comes from. Mali | Guinea | Gambia | Burkina Faso | Sierra Leone | Maghreb ... Curated by The Playlist Factory. Submissions : theplaylistfactory.com',\n",
       "     'external_urls': {'spotify': 'https://open.spotify.com/playlist/0cAGaeebKBsklVdo15q0mm'},\n",
       "     'href': 'https://api.spotify.com/v1/playlists/0cAGaeebKBsklVdo15q0mm',\n",
       "     'id': '0cAGaeebKBsklVdo15q0mm',\n",
       "     'images': [{'height': None,\n",
       "       'url': 'https://i.scdn.co/image/ab67706c0000bebb3da95ddf8ecf25edcc10cdd9',\n",
       "       'width': None}],\n",
       "     'name': 'African blues | Guitars from Africa | Desert Blues | Sahel Sounds | Mandingo Music',\n",
       "     'owner': {'display_name': 'The Playlist Factory',\n",
       "      'external_urls': {'spotify': 'https://open.spotify.com/user/gillian_delvigne'},\n",
       "      'href': 'https://api.spotify.com/v1/users/gillian_delvigne',\n",
       "      'id': 'gillian_delvigne',\n",
       "      'type': 'user',\n",
       "      'uri': 'spotify:user:gillian_delvigne'},\n",
       "     'primary_color': None,\n",
       "     'public': None,\n",
       "     'snapshot_id': 'MzI5LDZkODQxMTY2OWRhYzc1ZTFiNzIyZmJkOWU3ZWJjNzlhMmMyNjkzZjY=',\n",
       "     'tracks': {'href': 'https://api.spotify.com/v1/playlists/0cAGaeebKBsklVdo15q0mm/tracks',\n",
       "      'total': 149},\n",
       "     'type': 'playlist',\n",
       "     'uri': 'spotify:playlist:0cAGaeebKBsklVdo15q0mm'},\n",
       "    {'collaborative': False,\n",
       "     'description': 'African Music | African Blues',\n",
       "     'external_urls': {'spotify': 'https://open.spotify.com/playlist/0QNsBD5Yz234aFxvLq5t39'},\n",
       "     'href': 'https://api.spotify.com/v1/playlists/0QNsBD5Yz234aFxvLq5t39',\n",
       "     'id': '0QNsBD5Yz234aFxvLq5t39',\n",
       "     'images': [{'height': None,\n",
       "       'url': 'https://i.scdn.co/image/ab67706c0000bebbf4b7c7e94179d01c338856c5',\n",
       "       'width': None}],\n",
       "     'name': 'African Music | African Blues',\n",
       "     'owner': {'display_name': 'Buddha’s Lounge',\n",
       "      'external_urls': {'spotify': 'https://open.spotify.com/user/j9r03qkjuusqvx4m3som9o6n3'},\n",
       "      'href': 'https://api.spotify.com/v1/users/j9r03qkjuusqvx4m3som9o6n3',\n",
       "      'id': 'j9r03qkjuusqvx4m3som9o6n3',\n",
       "      'type': 'user',\n",
       "      'uri': 'spotify:user:j9r03qkjuusqvx4m3som9o6n3'},\n",
       "     'primary_color': None,\n",
       "     'public': None,\n",
       "     'snapshot_id': 'MTI2LDc3NDE3NTg0N2M5MDk0NzhhMGJkNzY4NGNmNmFhMGE0NTQ0NzI3NjM=',\n",
       "     'tracks': {'href': 'https://api.spotify.com/v1/playlists/0QNsBD5Yz234aFxvLq5t39/tracks',\n",
       "      'total': 101},\n",
       "     'type': 'playlist',\n",
       "     'uri': 'spotify:playlist:0QNsBD5Yz234aFxvLq5t39'},\n",
       "    {'collaborative': False,\n",
       "     'description': 'The tracks heating up the continent right now!  Cover: <a href=\"https://open.spotify.com/artist/2zhossaaVN2pXg5p8o101X?si=0TqJMkGqRYu0Dz0MVcrvtQ\"> Bien</a>  ',\n",
       "     'external_urls': {'spotify': 'https://open.spotify.com/playlist/37i9dQZF1DWYkaDif7Ztbp'},\n",
       "     'href': 'https://api.spotify.com/v1/playlists/37i9dQZF1DWYkaDif7Ztbp',\n",
       "     'id': '37i9dQZF1DWYkaDif7Ztbp',\n",
       "     'images': [{'height': None,\n",
       "       'url': 'https://i.scdn.co/image/ab67706f00000003d6746d6e190d09332b89ea05',\n",
       "       'width': None}],\n",
       "     'name': 'African Heat',\n",
       "     'owner': {'display_name': 'Spotify',\n",
       "      'external_urls': {'spotify': 'https://open.spotify.com/user/spotify'},\n",
       "      'href': 'https://api.spotify.com/v1/users/spotify',\n",
       "      'id': 'spotify',\n",
       "      'type': 'user',\n",
       "      'uri': 'spotify:user:spotify'},\n",
       "     'primary_color': None,\n",
       "     'public': None,\n",
       "     'snapshot_id': 'MTY3NjU4ODQwMCwwMDAwMDAwMDQ1ZTJlMzIzYmYyZWQ4N2VlNjJiZGU4MWYwMjliODQ4',\n",
       "     'tracks': {'href': 'https://api.spotify.com/v1/playlists/37i9dQZF1DWYkaDif7Ztbp/tracks',\n",
       "      'total': 72},\n",
       "     'type': 'playlist',\n",
       "     'uri': 'spotify:playlist:37i9dQZF1DWYkaDif7Ztbp'},\n",
       "    {'collaborative': False,\n",
       "     'description': 'West africa - mali&#x2F;algeria&#x2F;nigeria. Desert blues&#x2F;tuareg&#x2F;ali farka toure',\n",
       "     'external_urls': {'spotify': 'https://open.spotify.com/playlist/3C3VmcWqn5MTou8foAPOEW'},\n",
       "     'href': 'https://api.spotify.com/v1/playlists/3C3VmcWqn5MTou8foAPOEW',\n",
       "     'id': '3C3VmcWqn5MTou8foAPOEW',\n",
       "     'images': [{'height': None,\n",
       "       'url': 'https://i.scdn.co/image/ab67706c0000bebbdfb2a36b44b6c2a6bd92c042',\n",
       "       'width': None}],\n",
       "     'name': 'West African blues',\n",
       "     'owner': {'display_name': 'Flo Lenehan',\n",
       "      'external_urls': {'spotify': 'https://open.spotify.com/user/11184359395'},\n",
       "      'href': 'https://api.spotify.com/v1/users/11184359395',\n",
       "      'id': '11184359395',\n",
       "      'type': 'user',\n",
       "      'uri': 'spotify:user:11184359395'},\n",
       "     'primary_color': None,\n",
       "     'public': None,\n",
       "     'snapshot_id': 'MjAxLDYxZjgyMzk0ZDYyNTNhMWIwMWZjNDQ2MTJkNzAyODQ0NGVmZmRmYzc=',\n",
       "     'tracks': {'href': 'https://api.spotify.com/v1/playlists/3C3VmcWqn5MTou8foAPOEW/tracks',\n",
       "      'total': 311},\n",
       "     'type': 'playlist',\n",
       "     'uri': 'spotify:playlist:3C3VmcWqn5MTou8foAPOEW'},\n",
       "    {'collaborative': False,\n",
       "     'description': '<a href=spotify:playlist:37i9dQZF1EIYUtHGM6ALmW>John Mayer</a>, <a href=spotify:playlist:37i9dQZF1EIYWMXuJGmiMD>Eric Clapton</a>, <a href=spotify:playlist:37i9dQZF1EIXKJFlF1GMJ0>KALEO</a> and more',\n",
       "     'external_urls': {'spotify': 'https://open.spotify.com/playlist/37i9dQZF1EQpz3DZCEoX3g'},\n",
       "     'href': 'https://api.spotify.com/v1/playlists/37i9dQZF1EQpz3DZCEoX3g',\n",
       "     'id': '37i9dQZF1EQpz3DZCEoX3g',\n",
       "     'images': [{'height': None,\n",
       "       'url': 'https://seed-mix-image.spotifycdn.com/v6/img/blues/0FI0kxP0BWurTz8cB8BBug/en/large',\n",
       "       'width': None}],\n",
       "     'name': 'Blues Mix',\n",
       "     'owner': {'display_name': 'Spotify',\n",
       "      'external_urls': {'spotify': 'https://open.spotify.com/user/spotify'},\n",
       "      'href': 'https://api.spotify.com/v1/users/spotify',\n",
       "      'id': 'spotify',\n",
       "      'type': 'user',\n",
       "      'uri': 'spotify:user:spotify'},\n",
       "     'primary_color': None,\n",
       "     'public': None,\n",
       "     'snapshot_id': 'MTY3NzA0NTYwMCwwMDAwMDAwMGU1NGZkZGI3ODhhYjMzZmNhOTNmZTk0ZDJjOTkwZjEw',\n",
       "     'tracks': {'href': 'https://api.spotify.com/v1/playlists/37i9dQZF1EQpz3DZCEoX3g/tracks',\n",
       "      'total': 50},\n",
       "     'type': 'playlist',\n",
       "     'uri': 'spotify:playlist:37i9dQZF1EQpz3DZCEoX3g'}],\n",
       "   'limit': 5,\n",
       "   'next': 'https://api.spotify.com/v1/search?query=African+blues&type=playlist&market=GB&offset=5&limit=5',\n",
       "   'offset': 0,\n",
       "   'previous': None,\n",
       "   'total': 387}},\n",
       " {'playlists': {'href': 'https://api.spotify.com/v1/search?query=African+blues&type=playlist&market=GB&offset=0&limit=5',\n",
       "   'items': [{'collaborative': False,\n",
       "     'description': 'Next time you listen to blues music remember where it actually comes from. Mali | Guinea | Gambia | Burkina Faso | Sierra Leone | Maghreb ... Curated by The Playlist Factory. Submissions : theplaylistfactory.com',\n",
       "     'external_urls': {'spotify': 'https://open.spotify.com/playlist/0cAGaeebKBsklVdo15q0mm'},\n",
       "     'href': 'https://api.spotify.com/v1/playlists/0cAGaeebKBsklVdo15q0mm',\n",
       "     'id': '0cAGaeebKBsklVdo15q0mm',\n",
       "     'images': [{'height': None,\n",
       "       'url': 'https://i.scdn.co/image/ab67706c0000bebb3da95ddf8ecf25edcc10cdd9',\n",
       "       'width': None}],\n",
       "     'name': 'African blues | Guitars from Africa | Desert Blues | Sahel Sounds | Mandingo Music',\n",
       "     'owner': {'display_name': 'The Playlist Factory',\n",
       "      'external_urls': {'spotify': 'https://open.spotify.com/user/gillian_delvigne'},\n",
       "      'href': 'https://api.spotify.com/v1/users/gillian_delvigne',\n",
       "      'id': 'gillian_delvigne',\n",
       "      'type': 'user',\n",
       "      'uri': 'spotify:user:gillian_delvigne'},\n",
       "     'primary_color': None,\n",
       "     'public': None,\n",
       "     'snapshot_id': 'MzI5LDZkODQxMTY2OWRhYzc1ZTFiNzIyZmJkOWU3ZWJjNzlhMmMyNjkzZjY=',\n",
       "     'tracks': {'href': 'https://api.spotify.com/v1/playlists/0cAGaeebKBsklVdo15q0mm/tracks',\n",
       "      'total': 149},\n",
       "     'type': 'playlist',\n",
       "     'uri': 'spotify:playlist:0cAGaeebKBsklVdo15q0mm'},\n",
       "    {'collaborative': False,\n",
       "     'description': 'African Music | African Blues',\n",
       "     'external_urls': {'spotify': 'https://open.spotify.com/playlist/0QNsBD5Yz234aFxvLq5t39'},\n",
       "     'href': 'https://api.spotify.com/v1/playlists/0QNsBD5Yz234aFxvLq5t39',\n",
       "     'id': '0QNsBD5Yz234aFxvLq5t39',\n",
       "     'images': [{'height': None,\n",
       "       'url': 'https://i.scdn.co/image/ab67706c0000bebbf4b7c7e94179d01c338856c5',\n",
       "       'width': None}],\n",
       "     'name': 'African Music | African Blues',\n",
       "     'owner': {'display_name': 'Buddha’s Lounge',\n",
       "      'external_urls': {'spotify': 'https://open.spotify.com/user/j9r03qkjuusqvx4m3som9o6n3'},\n",
       "      'href': 'https://api.spotify.com/v1/users/j9r03qkjuusqvx4m3som9o6n3',\n",
       "      'id': 'j9r03qkjuusqvx4m3som9o6n3',\n",
       "      'type': 'user',\n",
       "      'uri': 'spotify:user:j9r03qkjuusqvx4m3som9o6n3'},\n",
       "     'primary_color': None,\n",
       "     'public': None,\n",
       "     'snapshot_id': 'MTI2LDc3NDE3NTg0N2M5MDk0NzhhMGJkNzY4NGNmNmFhMGE0NTQ0NzI3NjM=',\n",
       "     'tracks': {'href': 'https://api.spotify.com/v1/playlists/0QNsBD5Yz234aFxvLq5t39/tracks',\n",
       "      'total': 101},\n",
       "     'type': 'playlist',\n",
       "     'uri': 'spotify:playlist:0QNsBD5Yz234aFxvLq5t39'},\n",
       "    {'collaborative': False,\n",
       "     'description': 'The tracks heating up the continent right now!  Cover: <a href=\"https://open.spotify.com/artist/2zhossaaVN2pXg5p8o101X?si=0TqJMkGqRYu0Dz0MVcrvtQ\"> Bien</a>  ',\n",
       "     'external_urls': {'spotify': 'https://open.spotify.com/playlist/37i9dQZF1DWYkaDif7Ztbp'},\n",
       "     'href': 'https://api.spotify.com/v1/playlists/37i9dQZF1DWYkaDif7Ztbp',\n",
       "     'id': '37i9dQZF1DWYkaDif7Ztbp',\n",
       "     'images': [{'height': None,\n",
       "       'url': 'https://i.scdn.co/image/ab67706f00000003d6746d6e190d09332b89ea05',\n",
       "       'width': None}],\n",
       "     'name': 'African Heat',\n",
       "     'owner': {'display_name': 'Spotify',\n",
       "      'external_urls': {'spotify': 'https://open.spotify.com/user/spotify'},\n",
       "      'href': 'https://api.spotify.com/v1/users/spotify',\n",
       "      'id': 'spotify',\n",
       "      'type': 'user',\n",
       "      'uri': 'spotify:user:spotify'},\n",
       "     'primary_color': None,\n",
       "     'public': None,\n",
       "     'snapshot_id': 'MTY3NjU4ODQwMCwwMDAwMDAwMDQ1ZTJlMzIzYmYyZWQ4N2VlNjJiZGU4MWYwMjliODQ4',\n",
       "     'tracks': {'href': 'https://api.spotify.com/v1/playlists/37i9dQZF1DWYkaDif7Ztbp/tracks',\n",
       "      'total': 72},\n",
       "     'type': 'playlist',\n",
       "     'uri': 'spotify:playlist:37i9dQZF1DWYkaDif7Ztbp'},\n",
       "    {'collaborative': False,\n",
       "     'description': 'West africa - mali&#x2F;algeria&#x2F;nigeria. Desert blues&#x2F;tuareg&#x2F;ali farka toure',\n",
       "     'external_urls': {'spotify': 'https://open.spotify.com/playlist/3C3VmcWqn5MTou8foAPOEW'},\n",
       "     'href': 'https://api.spotify.com/v1/playlists/3C3VmcWqn5MTou8foAPOEW',\n",
       "     'id': '3C3VmcWqn5MTou8foAPOEW',\n",
       "     'images': [{'height': None,\n",
       "       'url': 'https://i.scdn.co/image/ab67706c0000bebbdfb2a36b44b6c2a6bd92c042',\n",
       "       'width': None}],\n",
       "     'name': 'West African blues',\n",
       "     'owner': {'display_name': 'Flo Lenehan',\n",
       "      'external_urls': {'spotify': 'https://open.spotify.com/user/11184359395'},\n",
       "      'href': 'https://api.spotify.com/v1/users/11184359395',\n",
       "      'id': '11184359395',\n",
       "      'type': 'user',\n",
       "      'uri': 'spotify:user:11184359395'},\n",
       "     'primary_color': None,\n",
       "     'public': None,\n",
       "     'snapshot_id': 'MjAxLDYxZjgyMzk0ZDYyNTNhMWIwMWZjNDQ2MTJkNzAyODQ0NGVmZmRmYzc=',\n",
       "     'tracks': {'href': 'https://api.spotify.com/v1/playlists/3C3VmcWqn5MTou8foAPOEW/tracks',\n",
       "      'total': 311},\n",
       "     'type': 'playlist',\n",
       "     'uri': 'spotify:playlist:3C3VmcWqn5MTou8foAPOEW'},\n",
       "    {'collaborative': False,\n",
       "     'description': '<a href=spotify:playlist:37i9dQZF1EIYUtHGM6ALmW>John Mayer</a>, <a href=spotify:playlist:37i9dQZF1EIYWMXuJGmiMD>Eric Clapton</a>, <a href=spotify:playlist:37i9dQZF1EIXKJFlF1GMJ0>KALEO</a> and more',\n",
       "     'external_urls': {'spotify': 'https://open.spotify.com/playlist/37i9dQZF1EQpz3DZCEoX3g'},\n",
       "     'href': 'https://api.spotify.com/v1/playlists/37i9dQZF1EQpz3DZCEoX3g',\n",
       "     'id': '37i9dQZF1EQpz3DZCEoX3g',\n",
       "     'images': [{'height': None,\n",
       "       'url': 'https://seed-mix-image.spotifycdn.com/v6/img/blues/0FI0kxP0BWurTz8cB8BBug/en/large',\n",
       "       'width': None}],\n",
       "     'name': 'Blues Mix',\n",
       "     'owner': {'display_name': 'Spotify',\n",
       "      'external_urls': {'spotify': 'https://open.spotify.com/user/spotify'},\n",
       "      'href': 'https://api.spotify.com/v1/users/spotify',\n",
       "      'id': 'spotify',\n",
       "      'type': 'user',\n",
       "      'uri': 'spotify:user:spotify'},\n",
       "     'primary_color': None,\n",
       "     'public': None,\n",
       "     'snapshot_id': 'MTY3NzA0NTYwMCwwMDAwMDAwMGU1NGZkZGI3ODhhYjMzZmNhOTNmZTk0ZDJjOTkwZjEw',\n",
       "     'tracks': {'href': 'https://api.spotify.com/v1/playlists/37i9dQZF1EQpz3DZCEoX3g/tracks',\n",
       "      'total': 50},\n",
       "     'type': 'playlist',\n",
       "     'uri': 'spotify:playlist:37i9dQZF1EQpz3DZCEoX3g'}],\n",
       "   'limit': 5,\n",
       "   'next': 'https://api.spotify.com/v1/search?query=African+blues&type=playlist&market=GB&offset=5&limit=5',\n",
       "   'offset': 0,\n",
       "   'previous': None,\n",
       "   'total': 387}},\n",
       " {'playlists': {'href': 'https://api.spotify.com/v1/search?query=African+blues&type=playlist&market=GB&offset=0&limit=5',\n",
       "   'items': [{'collaborative': False,\n",
       "     'description': 'Next time you listen to blues music remember where it actually comes from. Mali | Guinea | Gambia | Burkina Faso | Sierra Leone | Maghreb ... Curated by The Playlist Factory. Submissions : theplaylistfactory.com',\n",
       "     'external_urls': {'spotify': 'https://open.spotify.com/playlist/0cAGaeebKBsklVdo15q0mm'},\n",
       "     'href': 'https://api.spotify.com/v1/playlists/0cAGaeebKBsklVdo15q0mm',\n",
       "     'id': '0cAGaeebKBsklVdo15q0mm',\n",
       "     'images': [{'height': None,\n",
       "       'url': 'https://i.scdn.co/image/ab67706c0000bebb3da95ddf8ecf25edcc10cdd9',\n",
       "       'width': None}],\n",
       "     'name': 'African blues | Guitars from Africa | Desert Blues | Sahel Sounds | Mandingo Music',\n",
       "     'owner': {'display_name': 'The Playlist Factory',\n",
       "      'external_urls': {'spotify': 'https://open.spotify.com/user/gillian_delvigne'},\n",
       "      'href': 'https://api.spotify.com/v1/users/gillian_delvigne',\n",
       "      'id': 'gillian_delvigne',\n",
       "      'type': 'user',\n",
       "      'uri': 'spotify:user:gillian_delvigne'},\n",
       "     'primary_color': None,\n",
       "     'public': None,\n",
       "     'snapshot_id': 'MzI5LDZkODQxMTY2OWRhYzc1ZTFiNzIyZmJkOWU3ZWJjNzlhMmMyNjkzZjY=',\n",
       "     'tracks': {'href': 'https://api.spotify.com/v1/playlists/0cAGaeebKBsklVdo15q0mm/tracks',\n",
       "      'total': 149},\n",
       "     'type': 'playlist',\n",
       "     'uri': 'spotify:playlist:0cAGaeebKBsklVdo15q0mm'},\n",
       "    {'collaborative': False,\n",
       "     'description': 'African Music | African Blues',\n",
       "     'external_urls': {'spotify': 'https://open.spotify.com/playlist/0QNsBD5Yz234aFxvLq5t39'},\n",
       "     'href': 'https://api.spotify.com/v1/playlists/0QNsBD5Yz234aFxvLq5t39',\n",
       "     'id': '0QNsBD5Yz234aFxvLq5t39',\n",
       "     'images': [{'height': None,\n",
       "       'url': 'https://i.scdn.co/image/ab67706c0000bebbf4b7c7e94179d01c338856c5',\n",
       "       'width': None}],\n",
       "     'name': 'African Music | African Blues',\n",
       "     'owner': {'display_name': 'Buddha’s Lounge',\n",
       "      'external_urls': {'spotify': 'https://open.spotify.com/user/j9r03qkjuusqvx4m3som9o6n3'},\n",
       "      'href': 'https://api.spotify.com/v1/users/j9r03qkjuusqvx4m3som9o6n3',\n",
       "      'id': 'j9r03qkjuusqvx4m3som9o6n3',\n",
       "      'type': 'user',\n",
       "      'uri': 'spotify:user:j9r03qkjuusqvx4m3som9o6n3'},\n",
       "     'primary_color': None,\n",
       "     'public': None,\n",
       "     'snapshot_id': 'MTI2LDc3NDE3NTg0N2M5MDk0NzhhMGJkNzY4NGNmNmFhMGE0NTQ0NzI3NjM=',\n",
       "     'tracks': {'href': 'https://api.spotify.com/v1/playlists/0QNsBD5Yz234aFxvLq5t39/tracks',\n",
       "      'total': 101},\n",
       "     'type': 'playlist',\n",
       "     'uri': 'spotify:playlist:0QNsBD5Yz234aFxvLq5t39'},\n",
       "    {'collaborative': False,\n",
       "     'description': 'The tracks heating up the continent right now!  Cover: <a href=\"https://open.spotify.com/artist/2zhossaaVN2pXg5p8o101X?si=0TqJMkGqRYu0Dz0MVcrvtQ\"> Bien</a>  ',\n",
       "     'external_urls': {'spotify': 'https://open.spotify.com/playlist/37i9dQZF1DWYkaDif7Ztbp'},\n",
       "     'href': 'https://api.spotify.com/v1/playlists/37i9dQZF1DWYkaDif7Ztbp',\n",
       "     'id': '37i9dQZF1DWYkaDif7Ztbp',\n",
       "     'images': [{'height': None,\n",
       "       'url': 'https://i.scdn.co/image/ab67706f00000003d6746d6e190d09332b89ea05',\n",
       "       'width': None}],\n",
       "     'name': 'African Heat',\n",
       "     'owner': {'display_name': 'Spotify',\n",
       "      'external_urls': {'spotify': 'https://open.spotify.com/user/spotify'},\n",
       "      'href': 'https://api.spotify.com/v1/users/spotify',\n",
       "      'id': 'spotify',\n",
       "      'type': 'user',\n",
       "      'uri': 'spotify:user:spotify'},\n",
       "     'primary_color': None,\n",
       "     'public': None,\n",
       "     'snapshot_id': 'MTY3NjU4ODQwMCwwMDAwMDAwMDQ1ZTJlMzIzYmYyZWQ4N2VlNjJiZGU4MWYwMjliODQ4',\n",
       "     'tracks': {'href': 'https://api.spotify.com/v1/playlists/37i9dQZF1DWYkaDif7Ztbp/tracks',\n",
       "      'total': 72},\n",
       "     'type': 'playlist',\n",
       "     'uri': 'spotify:playlist:37i9dQZF1DWYkaDif7Ztbp'},\n",
       "    {'collaborative': False,\n",
       "     'description': 'West africa - mali&#x2F;algeria&#x2F;nigeria. Desert blues&#x2F;tuareg&#x2F;ali farka toure',\n",
       "     'external_urls': {'spotify': 'https://open.spotify.com/playlist/3C3VmcWqn5MTou8foAPOEW'},\n",
       "     'href': 'https://api.spotify.com/v1/playlists/3C3VmcWqn5MTou8foAPOEW',\n",
       "     'id': '3C3VmcWqn5MTou8foAPOEW',\n",
       "     'images': [{'height': None,\n",
       "       'url': 'https://i.scdn.co/image/ab67706c0000bebbdfb2a36b44b6c2a6bd92c042',\n",
       "       'width': None}],\n",
       "     'name': 'West African blues',\n",
       "     'owner': {'display_name': 'Flo Lenehan',\n",
       "      'external_urls': {'spotify': 'https://open.spotify.com/user/11184359395'},\n",
       "      'href': 'https://api.spotify.com/v1/users/11184359395',\n",
       "      'id': '11184359395',\n",
       "      'type': 'user',\n",
       "      'uri': 'spotify:user:11184359395'},\n",
       "     'primary_color': None,\n",
       "     'public': None,\n",
       "     'snapshot_id': 'MjAxLDYxZjgyMzk0ZDYyNTNhMWIwMWZjNDQ2MTJkNzAyODQ0NGVmZmRmYzc=',\n",
       "     'tracks': {'href': 'https://api.spotify.com/v1/playlists/3C3VmcWqn5MTou8foAPOEW/tracks',\n",
       "      'total': 311},\n",
       "     'type': 'playlist',\n",
       "     'uri': 'spotify:playlist:3C3VmcWqn5MTou8foAPOEW'},\n",
       "    {'collaborative': False,\n",
       "     'description': '<a href=spotify:playlist:37i9dQZF1EIYUtHGM6ALmW>John Mayer</a>, <a href=spotify:playlist:37i9dQZF1EIYWMXuJGmiMD>Eric Clapton</a>, <a href=spotify:playlist:37i9dQZF1EIXKJFlF1GMJ0>KALEO</a> and more',\n",
       "     'external_urls': {'spotify': 'https://open.spotify.com/playlist/37i9dQZF1EQpz3DZCEoX3g'},\n",
       "     'href': 'https://api.spotify.com/v1/playlists/37i9dQZF1EQpz3DZCEoX3g',\n",
       "     'id': '37i9dQZF1EQpz3DZCEoX3g',\n",
       "     'images': [{'height': None,\n",
       "       'url': 'https://seed-mix-image.spotifycdn.com/v6/img/blues/0FI0kxP0BWurTz8cB8BBug/en/large',\n",
       "       'width': None}],\n",
       "     'name': 'Blues Mix',\n",
       "     'owner': {'display_name': 'Spotify',\n",
       "      'external_urls': {'spotify': 'https://open.spotify.com/user/spotify'},\n",
       "      'href': 'https://api.spotify.com/v1/users/spotify',\n",
       "      'id': 'spotify',\n",
       "      'type': 'user',\n",
       "      'uri': 'spotify:user:spotify'},\n",
       "     'primary_color': None,\n",
       "     'public': None,\n",
       "     'snapshot_id': 'MTY3NzA0NTYwMCwwMDAwMDAwMGU1NGZkZGI3ODhhYjMzZmNhOTNmZTk0ZDJjOTkwZjEw',\n",
       "     'tracks': {'href': 'https://api.spotify.com/v1/playlists/37i9dQZF1EQpz3DZCEoX3g/tracks',\n",
       "      'total': 50},\n",
       "     'type': 'playlist',\n",
       "     'uri': 'spotify:playlist:37i9dQZF1EQpz3DZCEoX3g'}],\n",
       "   'limit': 5,\n",
       "   'next': 'https://api.spotify.com/v1/search?query=African+blues&type=playlist&market=GB&offset=5&limit=5',\n",
       "   'offset': 0,\n",
       "   'previous': None,\n",
       "   'total': 387}},\n",
       " {'playlists': {'href': 'https://api.spotify.com/v1/search?query=African+blues&type=playlist&market=GB&offset=0&limit=5',\n",
       "   'items': [{'collaborative': False,\n",
       "     'description': 'Next time you listen to blues music remember where it actually comes from. Mali | Guinea | Gambia | Burkina Faso | Sierra Leone | Maghreb ... Curated by The Playlist Factory. Submissions : theplaylistfactory.com',\n",
       "     'external_urls': {'spotify': 'https://open.spotify.com/playlist/0cAGaeebKBsklVdo15q0mm'},\n",
       "     'href': 'https://api.spotify.com/v1/playlists/0cAGaeebKBsklVdo15q0mm',\n",
       "     'id': '0cAGaeebKBsklVdo15q0mm',\n",
       "     'images': [{'height': None,\n",
       "       'url': 'https://i.scdn.co/image/ab67706c0000bebb3da95ddf8ecf25edcc10cdd9',\n",
       "       'width': None}],\n",
       "     'name': 'African blues | Guitars from Africa | Desert Blues | Sahel Sounds | Mandingo Music',\n",
       "     'owner': {'display_name': 'The Playlist Factory',\n",
       "      'external_urls': {'spotify': 'https://open.spotify.com/user/gillian_delvigne'},\n",
       "      'href': 'https://api.spotify.com/v1/users/gillian_delvigne',\n",
       "      'id': 'gillian_delvigne',\n",
       "      'type': 'user',\n",
       "      'uri': 'spotify:user:gillian_delvigne'},\n",
       "     'primary_color': None,\n",
       "     'public': None,\n",
       "     'snapshot_id': 'MzI5LDZkODQxMTY2OWRhYzc1ZTFiNzIyZmJkOWU3ZWJjNzlhMmMyNjkzZjY=',\n",
       "     'tracks': {'href': 'https://api.spotify.com/v1/playlists/0cAGaeebKBsklVdo15q0mm/tracks',\n",
       "      'total': 149},\n",
       "     'type': 'playlist',\n",
       "     'uri': 'spotify:playlist:0cAGaeebKBsklVdo15q0mm'},\n",
       "    {'collaborative': False,\n",
       "     'description': 'African Music | African Blues',\n",
       "     'external_urls': {'spotify': 'https://open.spotify.com/playlist/0QNsBD5Yz234aFxvLq5t39'},\n",
       "     'href': 'https://api.spotify.com/v1/playlists/0QNsBD5Yz234aFxvLq5t39',\n",
       "     'id': '0QNsBD5Yz234aFxvLq5t39',\n",
       "     'images': [{'height': None,\n",
       "       'url': 'https://i.scdn.co/image/ab67706c0000bebbf4b7c7e94179d01c338856c5',\n",
       "       'width': None}],\n",
       "     'name': 'African Music | African Blues',\n",
       "     'owner': {'display_name': 'Buddha’s Lounge',\n",
       "      'external_urls': {'spotify': 'https://open.spotify.com/user/j9r03qkjuusqvx4m3som9o6n3'},\n",
       "      'href': 'https://api.spotify.com/v1/users/j9r03qkjuusqvx4m3som9o6n3',\n",
       "      'id': 'j9r03qkjuusqvx4m3som9o6n3',\n",
       "      'type': 'user',\n",
       "      'uri': 'spotify:user:j9r03qkjuusqvx4m3som9o6n3'},\n",
       "     'primary_color': None,\n",
       "     'public': None,\n",
       "     'snapshot_id': 'MTI2LDc3NDE3NTg0N2M5MDk0NzhhMGJkNzY4NGNmNmFhMGE0NTQ0NzI3NjM=',\n",
       "     'tracks': {'href': 'https://api.spotify.com/v1/playlists/0QNsBD5Yz234aFxvLq5t39/tracks',\n",
       "      'total': 101},\n",
       "     'type': 'playlist',\n",
       "     'uri': 'spotify:playlist:0QNsBD5Yz234aFxvLq5t39'},\n",
       "    {'collaborative': False,\n",
       "     'description': 'The tracks heating up the continent right now!  Cover: <a href=\"https://open.spotify.com/artist/2zhossaaVN2pXg5p8o101X?si=0TqJMkGqRYu0Dz0MVcrvtQ\"> Bien</a>  ',\n",
       "     'external_urls': {'spotify': 'https://open.spotify.com/playlist/37i9dQZF1DWYkaDif7Ztbp'},\n",
       "     'href': 'https://api.spotify.com/v1/playlists/37i9dQZF1DWYkaDif7Ztbp',\n",
       "     'id': '37i9dQZF1DWYkaDif7Ztbp',\n",
       "     'images': [{'height': None,\n",
       "       'url': 'https://i.scdn.co/image/ab67706f00000003d6746d6e190d09332b89ea05',\n",
       "       'width': None}],\n",
       "     'name': 'African Heat',\n",
       "     'owner': {'display_name': 'Spotify',\n",
       "      'external_urls': {'spotify': 'https://open.spotify.com/user/spotify'},\n",
       "      'href': 'https://api.spotify.com/v1/users/spotify',\n",
       "      'id': 'spotify',\n",
       "      'type': 'user',\n",
       "      'uri': 'spotify:user:spotify'},\n",
       "     'primary_color': None,\n",
       "     'public': None,\n",
       "     'snapshot_id': 'MTY3NjU4ODQwMCwwMDAwMDAwMDQ1ZTJlMzIzYmYyZWQ4N2VlNjJiZGU4MWYwMjliODQ4',\n",
       "     'tracks': {'href': 'https://api.spotify.com/v1/playlists/37i9dQZF1DWYkaDif7Ztbp/tracks',\n",
       "      'total': 72},\n",
       "     'type': 'playlist',\n",
       "     'uri': 'spotify:playlist:37i9dQZF1DWYkaDif7Ztbp'},\n",
       "    {'collaborative': False,\n",
       "     'description': 'West africa - mali&#x2F;algeria&#x2F;nigeria. Desert blues&#x2F;tuareg&#x2F;ali farka toure',\n",
       "     'external_urls': {'spotify': 'https://open.spotify.com/playlist/3C3VmcWqn5MTou8foAPOEW'},\n",
       "     'href': 'https://api.spotify.com/v1/playlists/3C3VmcWqn5MTou8foAPOEW',\n",
       "     'id': '3C3VmcWqn5MTou8foAPOEW',\n",
       "     'images': [{'height': None,\n",
       "       'url': 'https://i.scdn.co/image/ab67706c0000bebbdfb2a36b44b6c2a6bd92c042',\n",
       "       'width': None}],\n",
       "     'name': 'West African blues',\n",
       "     'owner': {'display_name': 'Flo Lenehan',\n",
       "      'external_urls': {'spotify': 'https://open.spotify.com/user/11184359395'},\n",
       "      'href': 'https://api.spotify.com/v1/users/11184359395',\n",
       "      'id': '11184359395',\n",
       "      'type': 'user',\n",
       "      'uri': 'spotify:user:11184359395'},\n",
       "     'primary_color': None,\n",
       "     'public': None,\n",
       "     'snapshot_id': 'MjAxLDYxZjgyMzk0ZDYyNTNhMWIwMWZjNDQ2MTJkNzAyODQ0NGVmZmRmYzc=',\n",
       "     'tracks': {'href': 'https://api.spotify.com/v1/playlists/3C3VmcWqn5MTou8foAPOEW/tracks',\n",
       "      'total': 311},\n",
       "     'type': 'playlist',\n",
       "     'uri': 'spotify:playlist:3C3VmcWqn5MTou8foAPOEW'},\n",
       "    {'collaborative': False,\n",
       "     'description': '<a href=spotify:playlist:37i9dQZF1EIYUtHGM6ALmW>John Mayer</a>, <a href=spotify:playlist:37i9dQZF1EIYWMXuJGmiMD>Eric Clapton</a>, <a href=spotify:playlist:37i9dQZF1EIXKJFlF1GMJ0>KALEO</a> and more',\n",
       "     'external_urls': {'spotify': 'https://open.spotify.com/playlist/37i9dQZF1EQpz3DZCEoX3g'},\n",
       "     'href': 'https://api.spotify.com/v1/playlists/37i9dQZF1EQpz3DZCEoX3g',\n",
       "     'id': '37i9dQZF1EQpz3DZCEoX3g',\n",
       "     'images': [{'height': None,\n",
       "       'url': 'https://seed-mix-image.spotifycdn.com/v6/img/blues/0FI0kxP0BWurTz8cB8BBug/en/large',\n",
       "       'width': None}],\n",
       "     'name': 'Blues Mix',\n",
       "     'owner': {'display_name': 'Spotify',\n",
       "      'external_urls': {'spotify': 'https://open.spotify.com/user/spotify'},\n",
       "      'href': 'https://api.spotify.com/v1/users/spotify',\n",
       "      'id': 'spotify',\n",
       "      'type': 'user',\n",
       "      'uri': 'spotify:user:spotify'},\n",
       "     'primary_color': None,\n",
       "     'public': None,\n",
       "     'snapshot_id': 'MTY3NzA0NTYwMCwwMDAwMDAwMGU1NGZkZGI3ODhhYjMzZmNhOTNmZTk0ZDJjOTkwZjEw',\n",
       "     'tracks': {'href': 'https://api.spotify.com/v1/playlists/37i9dQZF1EQpz3DZCEoX3g/tracks',\n",
       "      'total': 50},\n",
       "     'type': 'playlist',\n",
       "     'uri': 'spotify:playlist:37i9dQZF1EQpz3DZCEoX3g'}],\n",
       "   'limit': 5,\n",
       "   'next': 'https://api.spotify.com/v1/search?query=African+blues&type=playlist&market=GB&offset=5&limit=5',\n",
       "   'offset': 0,\n",
       "   'previous': None,\n",
       "   'total': 387}}]"
      ]
     },
     "execution_count": 243,
     "metadata": {},
     "output_type": "execute_result"
    }
   ],
   "source": [
    "results"
   ]
  },
  {
   "cell_type": "code",
   "execution_count": 244,
   "metadata": {
    "colab": {
     "base_uri": "https://localhost:8080/"
    },
    "executionInfo": {
     "elapsed": 313,
     "status": "ok",
     "timestamp": 1623747121467,
     "user": {
      "displayName": "Ignacio Soteras",
      "photoUrl": "",
      "userId": "02050793736257155229"
     },
     "user_tz": -120
    },
    "id": "-0qiqFTZqqE2",
    "outputId": "c532baae-8ff5-4abc-b70e-0bda934d25b1"
   },
   "outputs": [],
   "source": [
    "# Function: get playlist ids from search results\n",
    "# input: playlist search results\n",
    "#output: list of playlist ids\n",
    "#Now loop through list of playlist results \n",
    "\n",
    "def get_playlist_ids(results):\n",
    "    \n",
    "    playlist_ids=[]\n",
    "\n",
    "    for p in range(len(results)):\n",
    "        for i in range(len(results[p]['playlists']['items'])):\n",
    "            if results[p]['playlists']['items'][0]['tracks']['total'] >= 50:\n",
    "                playlist_ids.append(results[p]['playlists']['items'][i]['id'])\n",
    "    return playlist_ids"
   ]
  },
  {
   "cell_type": "code",
   "execution_count": 245,
   "metadata": {
    "colab": {
     "base_uri": "https://localhost:8080/"
    },
    "executionInfo": {
     "elapsed": 313,
     "status": "ok",
     "timestamp": 1623747121467,
     "user": {
      "displayName": "Ignacio Soteras",
      "photoUrl": "",
      "userId": "02050793736257155229"
     },
     "user_tz": -120
    },
    "id": "-0qiqFTZqqE2",
    "outputId": "c532baae-8ff5-4abc-b70e-0bda934d25b1"
   },
   "outputs": [],
   "source": [
    "playlist_ids=get_playlist_ids(results)"
   ]
  },
  {
   "cell_type": "code",
   "execution_count": null,
   "metadata": {
    "colab": {
     "base_uri": "https://localhost:8080/"
    },
    "executionInfo": {
     "elapsed": 313,
     "status": "ok",
     "timestamp": 1623747121467,
     "user": {
      "displayName": "Ignacio Soteras",
      "photoUrl": "",
      "userId": "02050793736257155229"
     },
     "user_tz": -120
    },
    "id": "-0qiqFTZqqE2",
    "outputId": "c532baae-8ff5-4abc-b70e-0bda934d25b1"
   },
   "outputs": [],
   "source": [
    "#print(len(playlist_ids))\n",
    "playlist_ids"
   ]
  },
  {
   "cell_type": "code",
   "execution_count": 246,
   "metadata": {
    "colab": {
     "base_uri": "https://localhost:8080/",
     "output_embedded_package_id": "11lmL6TaP4CJpfs0sN7EJh5tcgfZk9V36"
    },
    "executionInfo": {
     "elapsed": 13594,
     "status": "ok",
     "timestamp": 1623748845508,
     "user": {
      "displayName": "Ignacio Soteras",
      "photoUrl": "",
      "userId": "02050793736257155229"
     },
     "user_tz": -120
    },
    "id": "xL2er8hRIl_S",
    "outputId": "d0450533-db51-412d-8d20-43634781280a"
   },
   "outputs": [
    {
     "data": {
      "text/plain": [
       "6610"
      ]
     },
     "execution_count": 246,
     "metadata": {},
     "output_type": "execute_result"
    }
   ],
   "source": [
    "# now try to get it work on list of playlist ids\n",
    "\n",
    "def get_playlist_tracks(username, playlist_ids):\n",
    "    track_list=[]\n",
    "    for i in range(len(playlist_ids)):\n",
    "        results = sp.user_playlist_tracks(username,playlist_ids[i],market=\"GB\")\n",
    "        tracks = results['items']\n",
    "        sleep(random.uniform(0.001,2.8))\n",
    "        while results['next']:\n",
    "            results = sp.next(results)\n",
    "            tracks.extend(results['items'])\n",
    "    #return tracks   \n",
    "        for i in range(len(tracks)):\n",
    "            track_list.append(tracks[i]['track']['id'])\n",
    "\n",
    "    return track_list\n",
    "\n",
    "track_list=get_playlist_tracks('spotify',playlist_ids)\n",
    "len(track_list)"
   ]
  },
  {
   "cell_type": "code",
   "execution_count": 206,
   "metadata": {
    "colab": {
     "base_uri": "https://localhost:8080/",
     "output_embedded_package_id": "11lmL6TaP4CJpfs0sN7EJh5tcgfZk9V36"
    },
    "executionInfo": {
     "elapsed": 13594,
     "status": "ok",
     "timestamp": 1623748845508,
     "user": {
      "displayName": "Ignacio Soteras",
      "photoUrl": "",
      "userId": "02050793736257155229"
     },
     "user_tz": -120
    },
    "id": "xL2er8hRIl_S",
    "outputId": "d0450533-db51-412d-8d20-43634781280a"
   },
   "outputs": [
    {
     "data": {
      "text/plain": [
       "4942"
      ]
     },
     "execution_count": 206,
     "metadata": {},
     "output_type": "execute_result"
    }
   ],
   "source": [
    "len(track_list)"
   ]
  },
  {
   "cell_type": "code",
   "execution_count": 254,
   "metadata": {},
   "outputs": [],
   "source": [
    "#Get audio features for track list\n",
    "list_of_audio_features=[]\n",
    "\n",
    "for item in range(len(track_list)):\n",
    "   # print (track_list[item])\n",
    "    try:\n",
    "        list_of_audio_features.append(sp.audio_features(track_list[item])[0])\n",
    "        sleep(random.uniform(0.01, 0.067))\n",
    "    except TypeError:\n",
    "            continue"
   ]
  },
  {
   "cell_type": "code",
   "execution_count": 255,
   "metadata": {},
   "outputs": [
    {
     "data": {
      "text/plain": [
       "6600"
      ]
     },
     "execution_count": 255,
     "metadata": {},
     "output_type": "execute_result"
    }
   ],
   "source": [
    "len(list_of_audio_features)"
   ]
  },
  {
   "cell_type": "code",
   "execution_count": 256,
   "metadata": {},
   "outputs": [],
   "source": [
    "df4=pd.DataFrame(list_of_audio_features)"
   ]
  },
  {
   "cell_type": "code",
   "execution_count": 230,
   "metadata": {},
   "outputs": [
    {
     "data": {
      "text/plain": [
       "(4942, 18)"
      ]
     },
     "execution_count": 230,
     "metadata": {},
     "output_type": "execute_result"
    }
   ],
   "source": [
    "df.shape"
   ]
  },
  {
   "cell_type": "code",
   "execution_count": 218,
   "metadata": {},
   "outputs": [
    {
     "data": {
      "text/plain": [
       "Index(['danceability', 'energy', 'key', 'loudness', 'mode', 'speechiness',\n",
       "       'acousticness', 'instrumentalness', 'liveness', 'valence', 'tempo',\n",
       "       'type', 'id', 'uri', 'track_href', 'analysis_url', 'duration_ms',\n",
       "       'time_signature'],\n",
       "      dtype='object')"
      ]
     },
     "execution_count": 218,
     "metadata": {},
     "output_type": "execute_result"
    }
   ],
   "source": [
    "df.columns"
   ]
  },
  {
   "cell_type": "code",
   "execution_count": null,
   "metadata": {},
   "outputs": [],
   "source": [
    "df.pivot_table(columns=['id'], aggfunc='size')"
   ]
  },
  {
   "cell_type": "code",
   "execution_count": 228,
   "metadata": {},
   "outputs": [],
   "source": [
    "df3=df.drop_duplicates(subset='id')"
   ]
  },
  {
   "cell_type": "code",
   "execution_count": 229,
   "metadata": {},
   "outputs": [
    {
     "data": {
      "text/plain": [
       "(4942, 18)"
      ]
     },
     "execution_count": 229,
     "metadata": {},
     "output_type": "execute_result"
    }
   ],
   "source": [
    "df.shape"
   ]
  },
  {
   "cell_type": "code",
   "execution_count": 211,
   "metadata": {},
   "outputs": [],
   "source": [
    "df1=pd.DataFrame(list_of_audio_features)"
   ]
  },
  {
   "cell_type": "code",
   "execution_count": 213,
   "metadata": {},
   "outputs": [
    {
     "data": {
      "text/plain": [
       "(751, 18)"
      ]
     },
     "execution_count": 213,
     "metadata": {},
     "output_type": "execute_result"
    }
   ],
   "source": [
    "df1.shape"
   ]
  },
  {
   "cell_type": "markdown",
   "metadata": {},
   "source": [
    "## Embeded track player"
   ]
  },
  {
   "cell_type": "markdown",
   "metadata": {
    "id": "DLMGLXLm2e-1"
   },
   "source": [
    "{'spotify': https://open.spotify.com/track/4O2N861eOnF9q8EtpH8IJu"
   ]
  },
  {
   "cell_type": "code",
   "execution_count": 37,
   "metadata": {},
   "outputs": [
    {
     "data": {
      "text/html": [
       "\n",
       "        <iframe\n",
       "            width=\"320\"\n",
       "            height=\"80\"\n",
       "            src=\"https://open.spotify.com/embed/track/1v7L65Lzy0j0vdpRjJewt1?utm_source=generator?frameborder=0&allowtransparency=true&allow=encrypted-media\"\n",
       "            frameborder=\"0\"\n",
       "            allowfullscreen\n",
       "            \n",
       "        ></iframe>\n",
       "        "
      ],
      "text/plain": [
       "<IPython.lib.display.IFrame at 0x1543fcdecd0>"
      ]
     },
     "execution_count": 37,
     "metadata": {},
     "output_type": "execute_result"
    }
   ],
   "source": [
    "from IPython.display import IFrame\n",
    "\n",
    "track_id = '1v7L65Lzy0j0vdpRjJewt1'\n",
    "#track_id= 'spotify:track:3hgl7EQwTutSm6PESsB7gZ'\n",
    "IFrame(src=\"https://open.spotify.com/embed/track/\"+track_id+\"?utm_source=generator\",\n",
    "       width=\"320\",\n",
    "       height=\"80\",\n",
    "       frameborder=\"0\",\n",
    "       allowtransparency=\"true\",\n",
    "       allow=\"encrypted-media\",\n",
    "      )"
   ]
  },
  {
   "cell_type": "code",
   "execution_count": 33,
   "metadata": {},
   "outputs": [],
   "source": [
    "def play_song(track_id):\n",
    "    return IFrame(src=\"https://open.spotify.com/embed/track/\"+track_id,\n",
    "       width=\"320\",\n",
    "       height=\"80\",\n",
    "       frameborder=\"0\",\n",
    "       allowtransparency=\"true\",\n",
    "       allow=\"encrypted-media\",\n",
    "      )"
   ]
  },
  {
   "cell_type": "code",
   "execution_count": null,
   "metadata": {},
   "outputs": [],
   "source": [
    "play_song(\"1rfORa9iYmocEsnnZGMVC4\")"
   ]
  },
  {
   "cell_type": "markdown",
   "metadata": {},
   "source": [
    "# Getting the Audio feature of a song"
   ]
  },
  {
   "cell_type": "code",
   "execution_count": 38,
   "metadata": {},
   "outputs": [],
   "source": [
    "track_id=results[\"tracks\"][\"items\"][0][\"id\"]"
   ]
  },
  {
   "cell_type": "code",
   "execution_count": 39,
   "metadata": {},
   "outputs": [
    {
     "data": {
      "text/plain": [
       "[{'danceability': 0.686,\n",
       "  'energy': 0.735,\n",
       "  'key': 2,\n",
       "  'loudness': -4.616,\n",
       "  'mode': 1,\n",
       "  'speechiness': 0.264,\n",
       "  'acousticness': 0.00921,\n",
       "  'instrumentalness': 0.00066,\n",
       "  'liveness': 0.342,\n",
       "  'valence': 0.0596,\n",
       "  'tempo': 171.355,\n",
       "  'type': 'audio_features',\n",
       "  'id': '1v7L65Lzy0j0vdpRjJewt1',\n",
       "  'uri': 'spotify:track:1v7L65Lzy0j0vdpRjJewt1',\n",
       "  'track_href': 'https://api.spotify.com/v1/tracks/1v7L65Lzy0j0vdpRjJewt1',\n",
       "  'analysis_url': 'https://api.spotify.com/v1/audio-analysis/1v7L65Lzy0j0vdpRjJewt1',\n",
       "  'duration_ms': 322227,\n",
       "  'time_signature': 4}]"
      ]
     },
     "execution_count": 39,
     "metadata": {},
     "output_type": "execute_result"
    }
   ],
   "source": [
    "sp.audio_features(track_id)"
   ]
  },
  {
   "cell_type": "code",
   "execution_count": 46,
   "metadata": {},
   "outputs": [
    {
     "data": {
      "text/plain": [
       "[{'danceability': 0.213,\n",
       "  'energy': 0.0656,\n",
       "  'key': 7,\n",
       "  'loudness': -24.81,\n",
       "  'mode': 1,\n",
       "  'speechiness': 0.0467,\n",
       "  'acousticness': 0.992,\n",
       "  'instrumentalness': 0.969,\n",
       "  'liveness': 0.0699,\n",
       "  'valence': 0.0384,\n",
       "  'tempo': 65.023,\n",
       "  'type': 'audio_features',\n",
       "  'id': '3U8Fx7zNTQrctytkj6Gqgd',\n",
       "  'uri': 'spotify:track:3U8Fx7zNTQrctytkj6Gqgd',\n",
       "  'track_href': 'https://api.spotify.com/v1/tracks/3U8Fx7zNTQrctytkj6Gqgd',\n",
       "  'analysis_url': 'https://api.spotify.com/v1/audio-analysis/3U8Fx7zNTQrctytkj6Gqgd',\n",
       "  'duration_ms': 150147,\n",
       "  'time_signature': 3}]"
      ]
     },
     "execution_count": 46,
     "metadata": {},
     "output_type": "execute_result"
    }
   ],
   "source": [
    "## example of bethoven song\n",
    "sp.audio_features(\"3U8Fx7zNTQrctytkj6Gqgd\")"
   ]
  },
  {
   "cell_type": "markdown",
   "metadata": {},
   "source": [
    "## building Data frame of audio features"
   ]
  },
  {
   "cell_type": "code",
   "execution_count": null,
   "metadata": {},
   "outputs": [],
   "source": [
    "sp.audio_features(song[\"tracks\"][\"items\"][0][\"uri\"])"
   ]
  },
  {
   "cell_type": "code",
   "execution_count": null,
   "metadata": {},
   "outputs": [],
   "source": [
    "#my_dict = sp.audio_features(song[\"tracks\"][\"items\"][0][\"uri\"])[0] # you can provide a list of uri's\n",
    "\n",
    "list_of_songs=[]\n",
    "for index in range(0,len(song[\"tracks\"][\"items\"])):\n",
    "    list_of_songs.append(sp.audio_features(song[\"tracks\"][\"items\"][index][\"uri\"])[0])\n",
    "df=pd.DataFrame(list_of_songs)    \n",
    "df=df[[\"danceability\",\"energy\",\"loudness\",\"speechiness\",\"acousticness\",\n",
    "    \"instrumentalness\",\"liveness\",\"valence\",\"tempo\",\"id\",\"duration_ms\"]]\n",
    "\n",
    "df"
   ]
  },
  {
   "cell_type": "markdown",
   "metadata": {
    "id": "ZdgnthLDIDUz"
   },
   "source": [
    "## Searching a playlist"
   ]
  },
  {
   "cell_type": "code",
   "execution_count": 7,
   "metadata": {
    "executionInfo": {
     "elapsed": 287,
     "status": "ok",
     "timestamp": 1623748573692,
     "user": {
      "displayName": "Ignacio Soteras",
      "photoUrl": "",
      "userId": "02050793736257155229"
     },
     "user_tz": -120
    },
    "id": "QFNoaLUpIAVg"
   },
   "outputs": [],
   "source": [
    "playlist = sp.user_playlist_tracks(\"spotify\", \"1h0CEZCm6IbFTbxThn6Xcs\",market=\"GB\")"
   ]
  },
  {
   "cell_type": "code",
   "execution_count": 8,
   "metadata": {
    "colab": {
     "base_uri": "https://localhost:8080/"
    },
    "executionInfo": {
     "elapsed": 4,
     "status": "ok",
     "timestamp": 1623748576469,
     "user": {
      "displayName": "Ignacio Soteras",
      "photoUrl": "",
      "userId": "02050793736257155229"
     },
     "user_tz": -120
    },
    "id": "hEmemxE9oDwa",
    "outputId": "fb5cd5d8-df90-45b9-e083-0fc52307b408"
   },
   "outputs": [
    {
     "data": {
      "text/plain": [
       "{'added_at': '2022-10-10T15:34:06Z',\n",
       " 'added_by': {'external_urls': {'spotify': 'https://open.spotify.com/user/peacefulclassics'},\n",
       "  'href': 'https://api.spotify.com/v1/users/peacefulclassics',\n",
       "  'id': 'peacefulclassics',\n",
       "  'type': 'user',\n",
       "  'uri': 'spotify:user:peacefulclassics'},\n",
       " 'is_local': False,\n",
       " 'primary_color': None,\n",
       " 'track': {'album': {'album_type': 'single',\n",
       "   'artists': [{'external_urls': {'spotify': 'https://open.spotify.com/artist/436sYg6CZhNefQJogaXeK0'},\n",
       "     'href': 'https://api.spotify.com/v1/artists/436sYg6CZhNefQJogaXeK0',\n",
       "     'id': '436sYg6CZhNefQJogaXeK0',\n",
       "     'name': 'Camille Saint-Saëns',\n",
       "     'type': 'artist',\n",
       "     'uri': 'spotify:artist:436sYg6CZhNefQJogaXeK0'},\n",
       "    {'external_urls': {'spotify': 'https://open.spotify.com/artist/7FEzSfCBSOo0wAmdk9pQ6M'},\n",
       "     'href': 'https://api.spotify.com/v1/artists/7FEzSfCBSOo0wAmdk9pQ6M',\n",
       "     'id': '7FEzSfCBSOo0wAmdk9pQ6M',\n",
       "     'name': 'Isata Kanneh-Mason',\n",
       "     'type': 'artist',\n",
       "     'uri': 'spotify:artist:7FEzSfCBSOo0wAmdk9pQ6M'},\n",
       "    {'external_urls': {'spotify': 'https://open.spotify.com/artist/4N1PbaBSiRha6yzEmdwcCZ'},\n",
       "     'href': 'https://api.spotify.com/v1/artists/4N1PbaBSiRha6yzEmdwcCZ',\n",
       "     'id': '4N1PbaBSiRha6yzEmdwcCZ',\n",
       "     'name': 'Jeneba Kanneh-Mason',\n",
       "     'type': 'artist',\n",
       "     'uri': 'spotify:artist:4N1PbaBSiRha6yzEmdwcCZ'},\n",
       "    {'external_urls': {'spotify': 'https://open.spotify.com/artist/6OTr0YwLwGdv7mlmX27hRX'},\n",
       "     'href': 'https://api.spotify.com/v1/artists/6OTr0YwLwGdv7mlmX27hRX',\n",
       "     'id': '6OTr0YwLwGdv7mlmX27hRX',\n",
       "     'name': 'Sheku Kanneh-Mason',\n",
       "     'type': 'artist',\n",
       "     'uri': 'spotify:artist:6OTr0YwLwGdv7mlmX27hRX'}],\n",
       "   'external_urls': {'spotify': 'https://open.spotify.com/album/3SbOSz7UrUpxok03YjX5YI'},\n",
       "   'href': 'https://api.spotify.com/v1/albums/3SbOSz7UrUpxok03YjX5YI',\n",
       "   'id': '3SbOSz7UrUpxok03YjX5YI',\n",
       "   'images': [{'height': 640,\n",
       "     'url': 'https://i.scdn.co/image/ab67616d0000b2730f554ebde761482faecb143a',\n",
       "     'width': 640},\n",
       "    {'height': 300,\n",
       "     'url': 'https://i.scdn.co/image/ab67616d00001e020f554ebde761482faecb143a',\n",
       "     'width': 300},\n",
       "    {'height': 64,\n",
       "     'url': 'https://i.scdn.co/image/ab67616d000048510f554ebde761482faecb143a',\n",
       "     'width': 64}],\n",
       "   'name': 'Saint-Saëns: Carnival of the Animals: The Swan',\n",
       "   'release_date': '2020-09-25',\n",
       "   'release_date_precision': 'day',\n",
       "   'total_tracks': 1,\n",
       "   'type': 'album',\n",
       "   'uri': 'spotify:album:3SbOSz7UrUpxok03YjX5YI'},\n",
       "  'artists': [{'external_urls': {'spotify': 'https://open.spotify.com/artist/436sYg6CZhNefQJogaXeK0'},\n",
       "    'href': 'https://api.spotify.com/v1/artists/436sYg6CZhNefQJogaXeK0',\n",
       "    'id': '436sYg6CZhNefQJogaXeK0',\n",
       "    'name': 'Camille Saint-Saëns',\n",
       "    'type': 'artist',\n",
       "    'uri': 'spotify:artist:436sYg6CZhNefQJogaXeK0'},\n",
       "   {'external_urls': {'spotify': 'https://open.spotify.com/artist/7FEzSfCBSOo0wAmdk9pQ6M'},\n",
       "    'href': 'https://api.spotify.com/v1/artists/7FEzSfCBSOo0wAmdk9pQ6M',\n",
       "    'id': '7FEzSfCBSOo0wAmdk9pQ6M',\n",
       "    'name': 'Isata Kanneh-Mason',\n",
       "    'type': 'artist',\n",
       "    'uri': 'spotify:artist:7FEzSfCBSOo0wAmdk9pQ6M'},\n",
       "   {'external_urls': {'spotify': 'https://open.spotify.com/artist/4N1PbaBSiRha6yzEmdwcCZ'},\n",
       "    'href': 'https://api.spotify.com/v1/artists/4N1PbaBSiRha6yzEmdwcCZ',\n",
       "    'id': '4N1PbaBSiRha6yzEmdwcCZ',\n",
       "    'name': 'Jeneba Kanneh-Mason',\n",
       "    'type': 'artist',\n",
       "    'uri': 'spotify:artist:4N1PbaBSiRha6yzEmdwcCZ'},\n",
       "   {'external_urls': {'spotify': 'https://open.spotify.com/artist/6OTr0YwLwGdv7mlmX27hRX'},\n",
       "    'href': 'https://api.spotify.com/v1/artists/6OTr0YwLwGdv7mlmX27hRX',\n",
       "    'id': '6OTr0YwLwGdv7mlmX27hRX',\n",
       "    'name': 'Sheku Kanneh-Mason',\n",
       "    'type': 'artist',\n",
       "    'uri': 'spotify:artist:6OTr0YwLwGdv7mlmX27hRX'}],\n",
       "  'disc_number': 1,\n",
       "  'duration_ms': 150146,\n",
       "  'episode': False,\n",
       "  'explicit': False,\n",
       "  'external_ids': {'isrc': 'GBBBC2000214'},\n",
       "  'external_urls': {'spotify': 'https://open.spotify.com/track/3U8Fx7zNTQrctytkj6Gqgd'},\n",
       "  'href': 'https://api.spotify.com/v1/tracks/3U8Fx7zNTQrctytkj6Gqgd',\n",
       "  'id': '3U8Fx7zNTQrctytkj6Gqgd',\n",
       "  'is_local': False,\n",
       "  'is_playable': True,\n",
       "  'name': 'Carnival of the Animals: The Swan',\n",
       "  'popularity': 59,\n",
       "  'preview_url': None,\n",
       "  'track': True,\n",
       "  'track_number': 1,\n",
       "  'type': 'track',\n",
       "  'uri': 'spotify:track:3U8Fx7zNTQrctytkj6Gqgd'},\n",
       " 'video_thumbnail': {'url': None}}"
      ]
     },
     "execution_count": 8,
     "metadata": {},
     "output_type": "execute_result"
    }
   ],
   "source": [
    "playlist[\"items\"][0]"
   ]
  },
  {
   "cell_type": "markdown",
   "metadata": {},
   "source": [
    "## extracting a song from playlist"
   ]
  },
  {
   "cell_type": "code",
   "execution_count": null,
   "metadata": {},
   "outputs": [],
   "source": [
    "playlist[\"items\"][0][\"track\"][\"id\"]"
   ]
  },
  {
   "cell_type": "code",
   "execution_count": null,
   "metadata": {},
   "outputs": [],
   "source": [
    "play_song(playlist[\"items\"][0][\"track\"][\"id\"])"
   ]
  },
  {
   "cell_type": "code",
   "execution_count": 28,
   "metadata": {
    "colab": {
     "base_uri": "https://localhost:8080/"
    },
    "executionInfo": {
     "elapsed": 363,
     "status": "ok",
     "timestamp": 1623748609799,
     "user": {
      "displayName": "Ignacio Soteras",
      "photoUrl": "",
      "userId": "02050793736257155229"
     },
     "user_tz": -120
    },
    "id": "wG-PfUCEIKvy",
    "outputId": "2c5135b8-7fa6-4f4f-c4d9-a35ed4f949d0"
   },
   "outputs": [
    {
     "name": "stdout",
     "output_type": "stream",
     "text": [
      "['href', 'items', 'limit', 'next', 'offset', 'previous', 'total']\n",
      "Total number of songs in the playlist:  185\n"
     ]
    },
    {
     "data": {
      "text/plain": [
       "100"
      ]
     },
     "execution_count": 28,
     "metadata": {},
     "output_type": "execute_result"
    }
   ],
   "source": [
    "print(list(playlist.keys())) # Let's look at items and total:\n",
    "print(\"Total number of songs in the playlist: \",playlist[\"total\"]) #  Let's check items:\n",
    "len(playlist[\"items\"]) # It is limited to 100 tracks, we will have to fix it:"
   ]
  },
  {
   "cell_type": "code",
   "execution_count": null,
   "metadata": {},
   "outputs": [],
   "source": [
    "def tracks_from_playlist(playlist_ref):\n",
    "    playlist = sp.user_playlist_tracks(\"spotify\", playlist_ref,market=\"GB\")\n",
    "    track_list=[playlist['items'][track]['track']['id'] for track in range(len(playlist['items']))]\n",
    "    track_list\n",
    "    \n",
    "\n",
    "\n",
    "## THIS IS THE TRACK ID\n",
    "#print(playlist['items'][0]['track']['id'])\n",
    "\n",
    "\n",
    "track_list"
   ]
  },
  {
   "cell_type": "markdown",
   "metadata": {
    "id": "8gIIuaAAIhQi"
   },
   "source": [
    "## Extracting the songs of a playlist"
   ]
  },
  {
   "cell_type": "markdown",
   "metadata": {
    "id": "vmwZa11wjBM6"
   },
   "source": [
    "Pagination using \"next\"\n",
    "When you collect songs from a playlist using sp.playlist_tracks, you're limited by the limit parameter, which has a maximum (and default) value of 100. When the playlist has more than 100 songs, you have to collect them by navigating through the \"pages\" of the results.\n",
    "\n",
    "The parameter offset allows you to retrieve resuls starting at a certain position: if you start at position 101, you'd get the next \"page\" of results. An offset of 201 would give you the third page, and so on.\n",
    "\n",
    "The function sp.next() does the same, but in a simpler way: it can be used on the results from any request to directly retrieve the results for the next page.\n",
    "\n",
    "We can check whether there's a next page or not by accessing the key next on the results from any request."
   ]
  },
  {
   "cell_type": "code",
   "execution_count": 104,
   "metadata": {
    "colab": {
     "base_uri": "https://localhost:8080/",
     "output_embedded_package_id": "11lmL6TaP4CJpfs0sN7EJh5tcgfZk9V36"
    },
    "executionInfo": {
     "elapsed": 13594,
     "status": "ok",
     "timestamp": 1623748845508,
     "user": {
      "displayName": "Ignacio Soteras",
      "photoUrl": "",
      "userId": "02050793736257155229"
     },
     "user_tz": -120
    },
    "id": "xL2er8hRIl_S",
    "outputId": "d0450533-db51-412d-8d20-43634781280a"
   },
   "outputs": [],
   "source": [
    "playlist_ids=['2PjVPkj4a9kBvQIXaZ6UUt','1h0CEZCm6IbFTbxThn6Xcs']"
   ]
  },
  {
   "cell_type": "code",
   "execution_count": 76,
   "metadata": {
    "colab": {
     "base_uri": "https://localhost:8080/",
     "output_embedded_package_id": "11lmL6TaP4CJpfs0sN7EJh5tcgfZk9V36"
    },
    "executionInfo": {
     "elapsed": 13594,
     "status": "ok",
     "timestamp": 1623748845508,
     "user": {
      "displayName": "Ignacio Soteras",
      "photoUrl": "",
      "userId": "02050793736257155229"
     },
     "user_tz": -120
    },
    "id": "xL2er8hRIl_S",
    "outputId": "d0450533-db51-412d-8d20-43634781280a"
   },
   "outputs": [],
   "source": [
    "## this function generates list of ids going through each page\n",
    "\n",
    "def get_playlist_tracks(username, playlist_id):\n",
    "    results = sp.user_playlist_tracks(username,playlist_id,market=\"GB\")\n",
    "    tracks = results['items']\n",
    "    while results['next']:\n",
    "        results = sp.next(results)\n",
    "        tracks.extend(results['items'])\n",
    "    #return tracks   \n",
    "    track_list=[tracks[i]['track']['id'] for i in range(len(tracks))]\n",
    "\n",
    "    return track_list\n",
    "\n",
    "track_list=get_playlist_tracks('spotify','1h0CEZCm6IbFTbxThn6Xcs')"
   ]
  },
  {
   "cell_type": "code",
   "execution_count": 77,
   "metadata": {
    "colab": {
     "base_uri": "https://localhost:8080/",
     "output_embedded_package_id": "11lmL6TaP4CJpfs0sN7EJh5tcgfZk9V36"
    },
    "executionInfo": {
     "elapsed": 13594,
     "status": "ok",
     "timestamp": 1623748845508,
     "user": {
      "displayName": "Ignacio Soteras",
      "photoUrl": "",
      "userId": "02050793736257155229"
     },
     "user_tz": -120
    },
    "id": "xL2er8hRIl_S",
    "outputId": "d0450533-db51-412d-8d20-43634781280a",
    "scrolled": true
   },
   "outputs": [
    {
     "name": "stdout",
     "output_type": "stream",
     "text": [
      "['3U8Fx7zNTQrctytkj6Gqgd', '6MzbO6YS0M6tjwT93hjAl0', '1L4NadMj3Jj7YgGaikyhfr', '3hCPh4oVVjaM8tv9sFH8cx', '5xbuJuQsTVheVZvX2AJVIv', '5U87k9mIyu2sGQppcqV4Dw', '1eqyKmkcp7b2s1PU9fEZRS', '4tKmydUDl8OIeb7fioEsnl', '6YDgMoJ8ssOuKjQ6jiz4Kk', '28XMNc5If5BmJWYDU42gkw', '0vzSIBAqnN1HzvWrPbh6VF', '2d6ml9Qkx8r4EjuUyrdpRV', '2ZrF3UfwS50CKE8jQQVjWj', '48i1p3R9l9f7zjcHPJysZZ', '0aDl3mGEr6eZcSwoJo91Np', '2gMCNoPiMjuVMmzQRlOXMV', '2vz6Zep5xyCIAZgIroYL1X', '1D5LT3ZUtwpXFpiv18M0R2', '1rpF77jsLBMG2QjCuhe0Sr', '3weNRklVDqb4Rr5MhKBR3D', '0H2VhGUC3P3hvwz8rdGIpC', '64LTn5fTsPR0QLy7bVYl9w', '1qpKMLztFXlRFSlGhjj1dZ', '24cgBBhZD1cWekUqaYuqTB', '4zdyJk5NEGXiWIZ87zfRVQ', '0kckvKwPBjQuVLgwGnICAv', '7i9cdG6l1lg0xAraTublsw', '1mlLOJXeUrwviYpUHYeZE8', '0OrZXWjGgGUuoIoqnLvtJN', '1BncfTJAWxrsxyT9culBrj', '65a1ng2xAbaRbYWsq9H2MH', '5zIJsFst05gsrUdr9ghEpG', '58vWVeAtv2LKwlYyRLPWV5', '16i2ij3Q3tqSpZjHXbTDXW', '503fwzlbWHx5g0CqlU9Giu', '0DqFXzLtKkj9JO421NJpl1', '1TQ2UYCN7nhfj3cfcFC76V', '7lY6qt63y0Ag5lpHMVglLo', '7F0TGSmNn87tqm4tB81m4U', '5xVcnhVL0AwcOgbpuxTu6W', '1hX3yoGAJypm6dMMWLoyKo', '0DMTFPtUOkBgfM4U0Ih8LR', '7elLKWtTEMCbOmYZ37ci9r', '47kA4ykK0Rlwjf8oV2HMo7', '3NrOSg735np3PW8OEvt5F8', '4XJXYvjW0CB2MLMk8l7Vdi', '0H3JiNc4CGnFVwMqWvACmO', '1BpKbG3NkHgK5AypMtdUv9', '7zv2BCCUu8bwd9fo9BA8IK', '7cp3lHAPGcUbb7tJP0kuxl', '63ZSow0dnUhOr175IbNZa2', '4Lpe7VxL34rcMnpfOwoqOI', '3vSOD8Ng5m8eLH4EhoJcTL', '5Gm2tHCFTzb0vHZfReSr5f', '4sh6V9AnglIBepfD5mTyqn', '02xd7yuAEiLOF7rt4zlPep', '7q2DehTTvivpurQfe41iCy', '2buQqAGeQDkkUySsKyoDQJ', '0EnEULk14Oso59QtQHVUoC', '5wDBBKEIiDYwPQj4SpbBPI', '3FtVBG9AY9KEIXcMhCUrAG', '6ZJ9lLDRwr5w5oCuRHhBHx', '4nd6FMCfNFWkbi2dnsf5I3', '595G0No6FI82sWWsbsQEoX', '1ypvFPpRdI7bV38hctvL2Z', '4u2Kn8DaYBEuB19AjWcMDn', '6mfmrVSe5Cm7cvsNwW6uJk', '5EGQC8qSbx5xQD8dlat1R3', '6kFy7huUv9xoGw52pZgh6H', '63ow4jM1Yg5qpILxh9vtkO', '31BLOz0XDJPPDKI94Gd14v', '33DWEcHqtj1w5rnghLE77x', '4CBIdJ5o1XyMlkUg4jOHWg', '4JXppv83zXXt1tNs4MsXd6', '7IHEJdJhju1F2rhIiwgawx', '65J9Ep6oWjSgyJ8MFChjWl', '6Ntsj2X8cjYHoG9ykImLsT', '5RWA30VaTsYkFrkzxKL3aK', '3uzaVkdNuUZOn3KtsQjwDy', '1YluEbLfaWBfV2GpQQLOcZ', '0d71p8tQDxLgdTkEHcxQyl', '2Fqi28vvtFUjKSCrKGUg4i', '2XYEu7Deyz20WeL6Py3XLc', '1fWeZQfdmAoi3HWpHcn4tM', '5xm20JNLHy9vUVrnmZS6Uj', '4cfwFc5ptXuzQMT9fSdnOl', '213c1iusR15fQyr8ttyi1v', '4DsbdOinvRPoD2ax4DhxMU', '1jcQ040aWKeiUGJ2IcnFtV', '0Gqd8s8FPiCn8k6BLp3kVa', '6g4APvysGUmiSl9hyxPboK', '4JWVkr5jUjylM3hMG5zvXw', '4i8ly7ffzWu8nfKLI8SZFj', '3z3nJD2LEW3yFMaEjjGerZ', '29T3H5d9TgTlYcKiuNxdRT', '6q5co1XdRmnMeWlL1RWXPK', '1BbQIyPnuhVIlJEqPcY3Ug', '5RqKo9P4DLA0bVyY70cWkr', '43bSKCMWHIuBsUVmQcDX1J', '6a3LTwG4gwiC62EUNff5AD', '0scC8HqVaRe04wA0EeAZLp', '171fKTIvL8wDal3N6Uv0Bk', '7dZyWWwjruK9YiJiN9mbMC', '7pgJTa3eZM4kkT2vsZUmFt', '6aANvQTjMgtOlCAaHlYcyn', '419qlOGNXoyICx4jO0hqaj', '7staad9eqX2BbnJBQ8m9tc', '6t7lMFHSifu9j8NPMNCv9T', '2k2MprlqkmDMKKOOWGREzW', '2Lio4KTzsA8BPLhXmyo4CQ', '7BpDcPsVqfMgHdVglLK3Kt', '3iWo5Y9DpJNdFI3lERYgEy', '4PRnYCH5hoxypKVcOBvx3a', '6xdhAIbohZbctt3rstAsnH', '0Y9BzZGT2FuLVPrHoq1g2G', '1xKqK9hrIRN0rnHbRfmbv5', '4XPq8MBYuWi4Z5PzmebwYo', '7yNdc5jF4CAe2TzFadHPKK', '0fqveSCZR2TqGAtEid72Ua', '76PT3Wp1xEYDkMFeLj5H8d', '21Fs9UuXGoESVVESdWTxZ5', '0ftAOThcYwpSDapJhDOy7o', '6Olyr6tQ7DKWPJro6nn35C', '4VpLwqzkob5lUeTE9rCqcK', '3hgRiVuiBWVbpd4kBQD68m', '4aGi0uWDjzW8asTmAlBJrg', '6qRi4Nuw8lU4pn0kK3LGJA', '6VbKfs0qEJBUfICAyon04g', '16xQMSrDSEWP5Lp8GrHGcu', '62Boz6NDFyOT3tKkSWis2E', '3l8h6urWQ8SxZINH323Zc7', '16lscXk0JZ078EVRAIN7Bs', '7mX2xUpAPaMVh0zHhGoDkC', '6TS1h31F8I9SIBIwIvdKYk', '5BmNj3cDAyqSFw69VY12WU', '7AEf1Jc3htMKTWmFZOOGtR', '46tPGzCXCI2oKsemztDA9u', '4ObQ0m7VUtrgdEwpFeCKua', '3G4mnG1syPccyEfeW2i7WI', '6IUfNz7B3fwyI4FWPJdFWe', '6brnswWmZ8Xdf4MWeskofY', '29S6PLRccSCyKozzwIik0J', '14DLTNK9HrUbwJM0H9FGxI', '7f6yQYQ600Klj3v56omFJR', '6sLr7HzQe2xQVhBmhrT3vU', '7auzpFwCwJhgwkQ8jQdtWb', '3mk0kPavvau5tz8b174cdl', '3NbAsIxDL0fVgNuCLD152P', '0RpkVigRs7isnjAaK6WOdQ', '2Imxyb3LiuXsDFo7Gq5YDs', '2oBEw0ppansoY565M3QSjZ', '7wimV3Cs7awovZner8YvD5', '39uLYYZytVUwcjgeYLI409', '2Tz7fLm0pWasWCCfJiHPlJ', '5liyqr2PFQKbYPKRAjedvq', '4h4py9AzEuUGBTJZO4ifnm', '0enxWAXiYB6JEVqzIRgDba', '3bagw7W1Q4nsecXdDV5CAx', '2tJBG2m6K5jUKxzyTZm9Z7', '7oenWdkfvoEySYVc0rH6Cq', '2mTYDD0oiG5L4BEvMPZsOO', '2LiWNkeUOAeibGxJKxmjsD', '5D6GPHLuelrjivumi4YWwt', '5J43zdQTc8ekUdknGU6c5M', '1xxtp0zJZNTyMeE7vzKBOW', '1PINN6x0Riouab3wPSglpp', '4kRZaiCbkpJWo6yxjuUrAF', '6Teem6p2CvvB9HDr2MUBq4', '7nGA1sRfLDWXYb3VPstnZf', '7msmTNDbP3QWWuevPxcm48', '22Y5vvWLZ38ipJiOGgdFqI', '53sR7EKIy3Yc2a3xPXMz9h', '5UhNUgVvEDNY7FBYo5f7QJ', '2oLjhx7w8Hyd3gry9cCXr7', '6GLy7czJd5VC2Jf47lpj12', '6mJU2BSVEm03xuNQeu0aIr', '1G2mAZQL8xfy9wRqC6fY6K', '11kFCPT3e5GGpDQhX6d4sD', '536wHI10jgntsG8BaeiIog', '6GewKupuOJzW9LoRs0w2dI', '2TOUdZaG9w8pbGVoH0GohP', '3SokfTeWt84ZeUenQUPzAX', '73cFlYu63RLX1qn9qzMXiJ', '3Sy6wgTNEp6vSgLs4EyXAf', '4wudbbceOZKjRlhTtbHvAs']\n"
     ]
    }
   ],
   "source": [
    "\n",
    "print(track_list)"
   ]
  },
  {
   "cell_type": "code",
   "execution_count": 25,
   "metadata": {
    "scrolled": true
   },
   "outputs": [
    {
     "ename": "NameError",
     "evalue": "name 'get_playlist_tracks' is not defined",
     "output_type": "error",
     "traceback": [
      "\u001b[1;31m---------------------------------------------------------------------------\u001b[0m",
      "\u001b[1;31mNameError\u001b[0m                                 Traceback (most recent call last)",
      "\u001b[1;32m~\\AppData\\Local\\Temp\\ipykernel_1008\\3342550357.py\u001b[0m in \u001b[0;36m<module>\u001b[1;34m\u001b[0m\n\u001b[1;32m----> 1\u001b[1;33m \u001b[0mtracks\u001b[0m\u001b[1;33m=\u001b[0m\u001b[0mget_playlist_tracks\u001b[0m\u001b[1;33m(\u001b[0m\u001b[1;34m\"spotify\"\u001b[0m\u001b[1;33m,\u001b[0m \u001b[1;34m\"4rnleEAOdmFAbRcNCgZMpY\"\u001b[0m\u001b[1;33m)\u001b[0m\u001b[1;33m\u001b[0m\u001b[1;33m\u001b[0m\u001b[0m\n\u001b[0m",
      "\u001b[1;31mNameError\u001b[0m: name 'get_playlist_tracks' is not defined"
     ]
    }
   ],
   "source": [
    "tracks=get_playlist_tracks(\"spotify\", \"4rnleEAOdmFAbRcNCgZMpY\")"
   ]
  },
  {
   "cell_type": "markdown",
   "metadata": {},
   "source": [
    "## extracting the songs ids from playlist"
   ]
  },
  {
   "cell_type": "code",
   "execution_count": null,
   "metadata": {},
   "outputs": [],
   "source": [
    "list_of_audio_features=[]\n",
    "for item in range(0,10):\n",
    "    #print (tracks[item][\"track\"][\"id\"])\n",
    "    list_of_audio_features.append(sp.audio_features(tracks[item][\"track\"][\"id\"])[0])"
   ]
  },
  {
   "cell_type": "code",
   "execution_count": null,
   "metadata": {
    "scrolled": true
   },
   "outputs": [],
   "source": [
    "df=pd.DataFrame(list_of_audio_features)    \n",
    "df=df[[\"danceability\",\"energy\",\"loudness\",\"speechiness\",\"acousticness\",\n",
    "    \"instrumentalness\",\"liveness\",\"valence\",\"tempo\",\"id\",\"duration_ms\"]]\n",
    "\n",
    "df"
   ]
  },
  {
   "cell_type": "markdown",
   "metadata": {},
   "source": [
    "## Extra useful functions"
   ]
  },
  {
   "cell_type": "markdown",
   "metadata": {
    "id": "0tlqOKWCJDq1"
   },
   "source": [
    "## Getting the artists of the playlist "
   ]
  },
  {
   "cell_type": "code",
   "execution_count": null,
   "metadata": {
    "executionInfo": {
     "elapsed": 410,
     "status": "ok",
     "timestamp": 1623748940470,
     "user": {
      "displayName": "Ignacio Soteras",
      "photoUrl": "",
      "userId": "02050793736257155229"
     },
     "user_tz": -120
    },
    "id": "idbmLYT7qTCG"
   },
   "outputs": [],
   "source": [
    "def get_artists_from_track(track):\n",
    "    return [artist[\"name\"] for artist in track[\"artists\"]]"
   ]
  },
  {
   "cell_type": "code",
   "execution_count": null,
   "metadata": {
    "executionInfo": {
     "elapsed": 278,
     "status": "ok",
     "timestamp": 1623748991105,
     "user": {
      "displayName": "Ignacio Soteras",
      "photoUrl": "",
      "userId": "02050793736257155229"
     },
     "user_tz": -120
    },
    "id": "VBm6PWerJH6A"
   },
   "outputs": [],
   "source": [
    "def get_artists_from_playlist(playlist_id):\n",
    "    tracks_from_playlist = get_playlist_tracks(\"spotify\", playlist_id)\n",
    "    return list(set(artist for subset in [get_artists_from_track(track[\"track\"]) for track in tracks_from_playlist] for artist in subset))"
   ]
  },
  {
   "cell_type": "code",
   "execution_count": null,
   "metadata": {
    "colab": {
     "base_uri": "https://localhost:8080/"
    },
    "executionInfo": {
     "elapsed": 8072,
     "status": "ok",
     "timestamp": 1623749004146,
     "user": {
      "displayName": "Ignacio Soteras",
      "photoUrl": "",
      "userId": "02050793736257155229"
     },
     "user_tz": -120
    },
    "id": "vMADuNRjCzYW",
    "outputId": "8ed416b0-c989-440f-a7b2-a51ea90177d9"
   },
   "outputs": [],
   "source": [
    "get_artists_from_playlist(\"4rnleEAOdmFAbRcNCgZMpY\")"
   ]
  },
  {
   "cell_type": "markdown",
   "metadata": {
    "id": "MBq_6MslLqN1"
   },
   "source": [
    "# Getting albums "
   ]
  },
  {
   "cell_type": "markdown",
   "metadata": {
    "id": "flAFNc16L7UA"
   },
   "source": [
    "In this section we will work with albums to extract information. We will start by extracting all the albums of an artist."
   ]
  },
  {
   "cell_type": "code",
   "execution_count": null,
   "metadata": {
    "executionInfo": {
     "elapsed": 338,
     "status": "ok",
     "timestamp": 1623749616116,
     "user": {
      "displayName": "Ignacio Soteras",
      "photoUrl": "",
      "userId": "02050793736257155229"
     },
     "user_tz": -120
    },
    "id": "aYMfWpqSL8cv"
   },
   "outputs": [],
   "source": [
    "def get_albums_from_artist(artist_id):\n",
    "    results = sp.artist_albums(artist_id, limit = 50,country=\"GB\")\n",
    "    tracks = results['items']\n",
    "    while results['next']:\n",
    "        results = sp.next(results)\n",
    "        tracks.extend(results['items'])\n",
    "    return tracks\n",
    "\n",
    "# Same for albums ids\n",
    "def get_album_ids_from_artist(artist_id):\n",
    "    results = sp.artist_albums(artist_id, limit = 50)\n",
    "    tracks = results['items']\n",
    "    while results['next']:\n",
    "        results = sp.next(results)\n",
    "        tracks.extend(results['items'])\n",
    "    return [track[\"id\"] for track in tracks]"
   ]
  },
  {
   "cell_type": "markdown",
   "metadata": {
    "id": "W4DVUzVGMBmY"
   },
   "source": [
    "Example: Coldplay"
   ]
  },
  {
   "cell_type": "code",
   "execution_count": null,
   "metadata": {
    "colab": {
     "base_uri": "https://localhost:8080/"
    },
    "executionInfo": {
     "elapsed": 2439,
     "status": "ok",
     "timestamp": 1623749664870,
     "user": {
      "displayName": "Ignacio Soteras",
      "photoUrl": "",
      "userId": "02050793736257155229"
     },
     "user_tz": -120
    },
    "id": "TIl4480OMDe2",
    "outputId": "7d894d55-79d9-4fa9-8773-ec4d399d2d02"
   },
   "outputs": [],
   "source": [
    "coldplay_id = \"4gzpq5DPGxSnKTe4SA8HAU\"\n",
    "coldplay_albums = get_albums_from_artist(coldplay_id)\n",
    "coldplay_album_ids = get_album_ids_from_artist(coldplay_id)\n",
    "\n",
    "# Check artists that played with coldplay\n",
    "set([artist[\"name\"] for track in coldplay_albums for artist in track[\"artists\"]])"
   ]
  },
  {
   "cell_type": "markdown",
   "metadata": {
    "id": "ljaglNRvMTL5"
   },
   "source": [
    "## Getting the songs of a given album"
   ]
  },
  {
   "cell_type": "code",
   "execution_count": null,
   "metadata": {
    "executionInfo": {
     "elapsed": 531,
     "status": "ok",
     "timestamp": 1623749740975,
     "user": {
      "displayName": "Ignacio Soteras",
      "photoUrl": "",
      "userId": "02050793736257155229"
     },
     "user_tz": -120
    },
    "id": "q3wKfrHbMWO3"
   },
   "outputs": [],
   "source": [
    "def get_track_ids_from_albums(album_ids):\n",
    "    return list(set([i[\"id\"] for j in album_ids for i in sp.album(j)[\"tracks\"][\"items\"]]))"
   ]
  },
  {
   "cell_type": "code",
   "execution_count": null,
   "metadata": {
    "colab": {
     "base_uri": "https://localhost:8080/"
    },
    "executionInfo": {
     "elapsed": 48724,
     "status": "ok",
     "timestamp": 1623749793320,
     "user": {
      "displayName": "Ignacio Soteras",
      "photoUrl": "",
      "userId": "02050793736257155229"
     },
     "user_tz": -120
    },
    "id": "WzZLGfwlMd2C",
    "outputId": "044a9334-ee0d-4a82-c8d4-577874c47d80"
   },
   "outputs": [],
   "source": [
    "coldplay_songs = get_track_ids_from_albums(coldplay_album_ids)\n",
    "\n",
    "len(coldplay_songs)"
   ]
  }
 ],
 "metadata": {
  "colab": {
   "authorship_tag": "ABX9TyPVWC1t3Am5oxfsHrz0cF36",
   "mount_file_id": "1f3HsS5F0GzS75tlHyrwhBGlTWbE0nG4o",
   "name": "Code_along_Spotify_structure.ipynb",
   "provenance": []
  },
  "kernelspec": {
   "display_name": "Python 3 (ipykernel)",
   "language": "python",
   "name": "python3"
  },
  "language_info": {
   "codemirror_mode": {
    "name": "ipython",
    "version": 3
   },
   "file_extension": ".py",
   "mimetype": "text/x-python",
   "name": "python",
   "nbconvert_exporter": "python",
   "pygments_lexer": "ipython3",
   "version": "3.9.13"
  },
  "toc": {
   "base_numbering": 1,
   "nav_menu": {},
   "number_sections": true,
   "sideBar": true,
   "skip_h1_title": false,
   "title_cell": "Table of Contents",
   "title_sidebar": "Contents",
   "toc_cell": false,
   "toc_position": {},
   "toc_section_display": true,
   "toc_window_display": false
  }
 },
 "nbformat": 4,
 "nbformat_minor": 1
}
